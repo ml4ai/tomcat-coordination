{
 "cells": [
  {
   "cell_type": "code",
   "execution_count": 1,
   "metadata": {},
   "outputs": [],
   "source": [
    "%load_ext autoreload\n",
    "%autoreload 2\n",
    "%config InlineBackend.figure_format = 'retina'\n",
    "import sys\n",
    "sys.path.append('../.venv/lib/python3.7/site-packages/')\n",
    "sys.path.append('..')"
   ]
  },
  {
   "cell_type": "markdown",
   "metadata": {},
   "source": [
    "# Investigate number of vocalics in a trial"
   ]
  },
  {
   "cell_type": "code",
   "execution_count": 2,
   "metadata": {},
   "outputs": [],
   "source": [
    "from src.components.speech.trial import Trial"
   ]
  },
  {
   "cell_type": "code",
   "execution_count": 3,
   "metadata": {},
   "outputs": [],
   "source": [
    "data_directory_273 = \"/home/soggy/Documents/data/tomcat-coordination/asist_logs_NoTrial_2022_06_15_00_32_22/metadata/\"\n",
    "metadata_path_Training = data_directory_273 + \"HSRData_TrialMessages_Trial-Training_Team-TM000273_Member-na_CondBtwn-ASI-UAZ-TA1_CondWin-na_Vers-1.metadata\"\n",
    "metadata_path_A_273 = data_directory_273 + \"HSRData_TrialMessages_Trial-T000745_Team-TM000273_Member-na_CondBtwn-ASI-UAZ-TA1_CondWin-na_Vers-1.metadata\"\n",
    "metadata_path_B_273 = data_directory_273 + \"HSRData_TrialMessages_Trial-T000746_Team-TM000273_Member-na_CondBtwn-ASI-UAZ-TA1_CondWin-na_Vers-1.metadata\""
   ]
  },
  {
   "cell_type": "code",
   "execution_count": 4,
   "metadata": {},
   "outputs": [],
   "source": [
    "def analyze_utterances(utterances_per_subject):\n",
    "    num_utterances = 0\n",
    "    num_utterances_missing_vocalics = 0\n",
    "\n",
    "    earliest_utterance_timestamp = None\n",
    "    latest_utterance_timestamp = None\n",
    "\n",
    "    earliest_vocalic_timestamp = None\n",
    "    latest_vocalic_timestamp = None\n",
    "\n",
    "    for utterances in utterances_per_subject.values():\n",
    "        num_utterances += len(utterances)\n",
    "\n",
    "        for utterance in utterances:\n",
    "            if earliest_utterance_timestamp is None or utterance.start < earliest_utterance_timestamp:\n",
    "                earliest_utterance_timestamp = utterance.start\n",
    "            \n",
    "            if latest_utterance_timestamp is None or utterance.end > latest_utterance_timestamp:\n",
    "                latest_utterance_timestamp = utterance.end\n",
    "\n",
    "            if len(utterance.vocalic_series) == 0:\n",
    "                num_utterances_missing_vocalics += 1\n",
    "            else:\n",
    "                for vocalic in utterance.vocalic_series:\n",
    "                    if earliest_vocalic_timestamp is None or vocalic.timestamp < earliest_vocalic_timestamp:\n",
    "                        earliest_vocalic_timestamp = vocalic.timestamp\n",
    "\n",
    "                    if latest_vocalic_timestamp is None or vocalic.timestamp > latest_vocalic_timestamp:\n",
    "                        latest_vocalic_timestamp = vocalic.timestamp\n",
    "\n",
    "    print(f\"Total number of utterances is {num_utterances}\")\n",
    "    print(f\"There are {num_utterances_missing_vocalics} utterances that do not have any vocalics\")\n",
    "\n",
    "    print(f\"Earliest utterance timestamp is {earliest_utterance_timestamp.isoformat()}\")\n",
    "    print(f\"Latest utterance timestamp is {latest_utterance_timestamp.isoformat()}\")\n",
    "\n",
    "    if earliest_vocalic_timestamp is not None:\n",
    "        print(f\"Earliest vocalic timestamp is {earliest_vocalic_timestamp.isoformat()}\")\n",
    "    if latest_vocalic_timestamp is not None:\n",
    "        print(f\"Latest vocalic timestamp is {latest_vocalic_timestamp.isoformat()}\")"
   ]
  },
  {
   "cell_type": "code",
   "execution_count": 5,
   "metadata": {},
   "outputs": [
    {
     "name": "stdout",
     "output_type": "stream",
     "text": [
      "[ERROR] Bad json line of len: 1460, {\"@version\":\"1\",\"host\":\"d42ec893b18e\",\"@timestamp\":\"2022-06-14T21:47:40.387Z\",\"msg\":{\"trial_id\":\"1e892a7f-7427-4434-8a91-8edfddf8a69f\",\"experiment_id\":\"93027e07-7379-45ae-971a-258fa6c43da2\",\"sub_type\":\"start\",\"timestamp\":\"2022-06-14T21:47:40.3439Z\",\"source\":\"gui\",\"replay_parent_type\":null,\"version\":\"0.1\",\"replay_parent_id\":null,\"replay_id\":null},\"topic\":\"trial\",\"data\":{\"client_info\":[{\"markerblocklegend\":\"\",\"unique_id\":\"E001002\",\"participant_id\":\"E001002\",\"staticmapversion\":\"\",\"callsign\":\"Red\",\"playername\":\"RED_ASIST_2\"},{\"markerblocklegend\":\"\",\"unique_id\":\"E000880\",\"participant_id\":\"E000880\",\"staticmapversion\":\"\",\"callsign\":\"Green\",\"playername\":\"GREEN_ASIST2\"},{\"markerblocklegend\":\"\",\"unique_id\":\"E000771\",\"participant_id\":\"E000771\",\"staticmapversion\":\"\",\"callsign\":\"Blue\",\"playername\":\"BLUE_ASIST2\"}],\"trial_number\":\"Training\",\"group_number\":\"7\",\"experiment_mission\":\"Hands-on Training\",\"experiment_author\":\"JL/XY\",\"experimenter\":\"JL/XY\",\"experiment_date\":\"2022-06-14T21:47:40.3850Z\",\"testbed_version\":\"5_13_2022_FULL_TRIALS-34-ga049588a\",\"map_name\":\"Saturn_2.9_3D_Training\",\"name\":\"TM000273_Training\",\"study_number\":\"3\",\"notes\":[\"na\"],\"date\":\"2022-06-14T21:47:40.3439Z\",\"subjects\":[\"E001002\",\" E000880\",\" E000771\"],\"experiment_name\":\"TM000273\",\"intervention_agents\":[\"No Agent\"],\"condition\":\"7\",\"map_block_filename\":\"MapBlocks_Training_Saturn_2.4_xyz.csv\"},\"header\":{\"message_type\":\"trial\",\"version\":\"0.6\",\"timestamp\":\"2022-06-14T21:47:40.3439Z\"}}\n",
      "\n",
      "[ERROR] Bad json line of len: 1459, {\"@version\":\"1\",\"host\":\"d42ec893b18e\",\"@timestamp\":\"2022-06-14T22:36:14.177Z\",\"msg\":{\"trial_id\":\"1e892a7f-7427-4434-8a91-8edfddf8a69f\",\"experiment_id\":\"93027e07-7379-45ae-971a-258fa6c43da2\",\"sub_type\":\"stop\",\"timestamp\":\"2022-06-14T22:36:14.1761Z\",\"source\":\"gui\",\"replay_parent_type\":null,\"version\":\"0.1\",\"replay_parent_id\":null,\"replay_id\":null},\"topic\":\"trial\",\"data\":{\"client_info\":[{\"markerblocklegend\":\"\",\"unique_id\":\"E001002\",\"participant_id\":\"E001002\",\"staticmapversion\":\"\",\"callsign\":\"Red\",\"playername\":\"RED_ASIST_2\"},{\"markerblocklegend\":\"\",\"unique_id\":\"E000880\",\"participant_id\":\"E000880\",\"staticmapversion\":\"\",\"callsign\":\"Green\",\"playername\":\"GREEN_ASIST2\"},{\"markerblocklegend\":\"\",\"unique_id\":\"E000771\",\"participant_id\":\"E000771\",\"staticmapversion\":\"\",\"callsign\":\"Blue\",\"playername\":\"BLUE_ASIST2\"}],\"trial_number\":\"Training\",\"group_number\":\"7\",\"experiment_mission\":\"Hands-on Training\",\"experiment_author\":\"JL/XY\",\"experimenter\":\"JL/XY\",\"experiment_date\":\"2022-06-14T21:47:40.3850Z\",\"testbed_version\":\"5_13_2022_FULL_TRIALS-34-ga049588a\",\"map_name\":\"Saturn_2.9_3D_Training\",\"name\":\"TM000273_Training\",\"study_number\":\"3\",\"notes\":[\"na\"],\"date\":\"2022-06-14T21:47:40.3439Z\",\"subjects\":[\"E001002\",\" E000880\",\" E000771\"],\"experiment_name\":\"TM000273\",\"intervention_agents\":[\"No Agent\"],\"condition\":\"7\",\"map_block_filename\":\"MapBlocks_Training_Saturn_2.4_xyz.csv\"},\"header\":{\"message_type\":\"trial\",\"version\":\"0.6\",\"timestamp\":\"2022-06-14T22:36:14.1761Z\"}}\n",
      "\n"
     ]
    },
    {
     "name": "stderr",
     "output_type": "stream",
     "text": [
      "100%|██████████| 150/150 [00:00<00:00, 7885.22it/s]\n"
     ]
    }
   ],
   "source": [
    "trial_Training_273 = Trial(metadata_path_Training, ignore_outside_mission=False, no_vocalics=True)"
   ]
  },
  {
   "cell_type": "code",
   "execution_count": 6,
   "metadata": {},
   "outputs": [
    {
     "name": "stdout",
     "output_type": "stream",
     "text": [
      "Total number of utterances is 150\n",
      "There are 150 utterances that do not have any vocalics\n",
      "Earliest utterance timestamp is 2022-06-14T21:56:24.367437+00:00\n",
      "Latest utterance timestamp is 2022-06-14T22:36:09.020054+00:00\n"
     ]
    }
   ],
   "source": [
    "analyze_utterances(trial_Training_273.utterances_per_subject)"
   ]
  },
  {
   "cell_type": "code",
   "execution_count": 7,
   "metadata": {},
   "outputs": [
    {
     "data": {
      "text/plain": [
       "'2022-06-14T22:16:59.121000+00:00'"
      ]
     },
     "execution_count": 7,
     "metadata": {},
     "output_type": "execute_result"
    }
   ],
   "source": [
    "trial_Training_273.start.isoformat()"
   ]
  },
  {
   "cell_type": "code",
   "execution_count": 8,
   "metadata": {},
   "outputs": [
    {
     "name": "stdout",
     "output_type": "stream",
     "text": [
      "None\n"
     ]
    }
   ],
   "source": [
    "print(trial_Training_273.end)"
   ]
  },
  {
   "cell_type": "code",
   "execution_count": 9,
   "metadata": {},
   "outputs": [
    {
     "name": "stdout",
     "output_type": "stream",
     "text": [
      "[ERROR] Bad json line of len: 1442, {\"@version\":\"1\",\"host\":\"d42ec893b18e\",\"@timestamp\":\"2022-06-14T22:36:47.264Z\",\"msg\":{\"trial_id\":\"1085c445-ec22-4fdf-9b9a-b992194de7d8\",\"experiment_id\":\"93027e07-7379-45ae-971a-258fa6c43da2\",\"sub_type\":\"start\",\"timestamp\":\"2022-06-14T22:36:47.2103Z\",\"source\":\"gui\",\"replay_parent_type\":null,\"version\":\"0.1\",\"replay_parent_id\":null,\"replay_id\":null},\"topic\":\"trial\",\"data\":{\"client_info\":[{\"markerblocklegend\":\"\",\"unique_id\":\"E001002\",\"participant_id\":\"E001002\",\"staticmapversion\":\"\",\"callsign\":\"Red\",\"playername\":\"RED_ASIST_2\"},{\"markerblocklegend\":\"\",\"unique_id\":\"E000880\",\"participant_id\":\"E000880\",\"staticmapversion\":\"\",\"callsign\":\"Green\",\"playername\":\"GREEN_ASIST2\"},{\"markerblocklegend\":\"\",\"unique_id\":\"E000771\",\"participant_id\":\"E000771\",\"staticmapversion\":\"\",\"callsign\":\"Blue\",\"playername\":\"BLUE_ASIST2\"}],\"trial_number\":\"T000745\",\"group_number\":\"7\",\"experiment_mission\":\"Saturn_C\",\"experiment_author\":\"JL/XY\",\"experimenter\":\"JL/XY\",\"experiment_date\":\"2022-06-14T22:36:47.2619Z\",\"testbed_version\":\"5_13_2022_FULL_TRIALS-34-ga049588a\",\"map_name\":\"Saturn_2.6_3D\",\"name\":\"TM000273_T000745\",\"study_number\":\"3\",\"notes\":[\"na\"],\"date\":\"2022-06-14T22:36:47.2103Z\",\"subjects\":[\"E001002\",\" E000880\",\" E000771\"],\"experiment_name\":\"TM000273\",\"intervention_agents\":[\"ASI_UAZ_TA1_ToMCAT\"],\"condition\":\"7\",\"map_block_filename\":\"MapBlocks_SaturnC_2.3_xyz.csv\"},\"header\":{\"message_type\":\"trial\",\"version\":\"0.6\",\"timestamp\":\"2022-06-14T22:36:47.2103Z\"}}\n",
      "\n",
      "[ERROR] Bad json line of len: 1441, {\"@version\":\"1\",\"host\":\"d42ec893b18e\",\"@timestamp\":\"2022-06-14T22:59:38.979Z\",\"msg\":{\"trial_id\":\"1085c445-ec22-4fdf-9b9a-b992194de7d8\",\"experiment_id\":\"93027e07-7379-45ae-971a-258fa6c43da2\",\"sub_type\":\"stop\",\"timestamp\":\"2022-06-14T22:59:38.9764Z\",\"source\":\"gui\",\"replay_parent_type\":null,\"version\":\"0.1\",\"replay_parent_id\":null,\"replay_id\":null},\"topic\":\"trial\",\"data\":{\"client_info\":[{\"markerblocklegend\":\"\",\"unique_id\":\"E001002\",\"participant_id\":\"E001002\",\"staticmapversion\":\"\",\"callsign\":\"Red\",\"playername\":\"RED_ASIST_2\"},{\"markerblocklegend\":\"\",\"unique_id\":\"E000880\",\"participant_id\":\"E000880\",\"staticmapversion\":\"\",\"callsign\":\"Green\",\"playername\":\"GREEN_ASIST2\"},{\"markerblocklegend\":\"\",\"unique_id\":\"E000771\",\"participant_id\":\"E000771\",\"staticmapversion\":\"\",\"callsign\":\"Blue\",\"playername\":\"BLUE_ASIST2\"}],\"trial_number\":\"T000745\",\"group_number\":\"7\",\"experiment_mission\":\"Saturn_C\",\"experiment_author\":\"JL/XY\",\"experimenter\":\"JL/XY\",\"experiment_date\":\"2022-06-14T22:36:47.2619Z\",\"testbed_version\":\"5_13_2022_FULL_TRIALS-34-ga049588a\",\"map_name\":\"Saturn_2.6_3D\",\"name\":\"TM000273_T000745\",\"study_number\":\"3\",\"notes\":[\"na\"],\"date\":\"2022-06-14T22:36:47.2103Z\",\"subjects\":[\"E001002\",\" E000880\",\" E000771\"],\"experiment_name\":\"TM000273\",\"intervention_agents\":[\"ASI_UAZ_TA1_ToMCAT\"],\"condition\":\"7\",\"map_block_filename\":\"MapBlocks_SaturnC_2.3_xyz.csv\"},\"header\":{\"message_type\":\"trial\",\"version\":\"0.6\",\"timestamp\":\"2022-06-14T22:59:38.9764Z\"}}\n",
      "\n"
     ]
    },
    {
     "name": "stderr",
     "output_type": "stream",
     "text": [
      "100%|██████████| 242/242 [00:00<00:00, 3671.10it/s]\n"
     ]
    },
    {
     "name": "stdout",
     "output_type": "stream",
     "text": [
      "[WARN] No vocalic features detected for utterance between 2022-06-14T22:41:47.235768+00:00 and 2022-06-14T22:41:51.235768+00:00 for subject GREEN_ASIST2 in trial 1085c445-ec22-4fdf-9b9a-b992194de7d8. Text:  critical victim at Red this is transporter critical victim is right across the hall\n",
      "[WARN] No vocalic features detected for utterance between 2022-06-14T22:41:53.335768+00:00 and 2022-06-14T22:41:54.335768+00:00 for subject GREEN_ASIST2 in trial 1085c445-ec22-4fdf-9b9a-b992194de7d8. Text:  and A1\n",
      "[WARN] No vocalic features detected for utterance between 2022-06-14T22:41:58.335768+00:00 and 2022-06-14T22:41:59.735768+00:00 for subject GREEN_ASIST2 in trial 1085c445-ec22-4fdf-9b9a-b992194de7d8. Text:  alright I'll start transporting these then\n",
      "[WARN] No vocalic features detected for utterance between 2022-06-14T22:42:26.135768+00:00 and 2022-06-14T22:42:35.335768+00:00 for subject GREEN_ASIST2 in trial 1085c445-ec22-4fdf-9b9a-b992194de7d8. Text:  I've I've labeled medic you should not transport you should do the others you can you drop a victim\n",
      "[WARN] No vocalic features detected for utterance between 2022-06-14T22:42:37.435768+00:00 and 2022-06-14T22:42:38.235768+00:00 for subject GREEN_ASIST2 in trial 1085c445-ec22-4fdf-9b9a-b992194de7d8. Text:  okay is that a or b\n",
      "[WARN] No vocalic features detected for utterance between 2022-06-14T22:42:41.035768+00:00 and 2022-06-14T22:42:41.235768+00:00 for subject GREEN_ASIST2 in trial 1085c445-ec22-4fdf-9b9a-b992194de7d8. Text:  that's C\n",
      "[WARN] No vocalic features detected for utterance between 2022-06-14T22:42:56.235768+00:00 and 2022-06-14T22:42:58.435768+00:00 for subject GREEN_ASIST2 in trial 1085c445-ec22-4fdf-9b9a-b992194de7d8. Text:  did you get the critical victim and B1\n",
      "[WARN] No vocalic features detected for utterance between 2022-06-14T22:43:03.735768+00:00 and 2022-06-14T22:43:06.935768+00:00 for subject GREEN_ASIST2 in trial 1085c445-ec22-4fdf-9b9a-b992194de7d8. Text:  or did it did he get healed I guess this is transporter sorry\n",
      "[WARN] No vocalic features detected for utterance between 2022-06-14T22:43:11.435768+00:00 and 2022-06-14T22:43:13.435768+00:00 for subject GREEN_ASIST2 in trial 1085c445-ec22-4fdf-9b9a-b992194de7d8. Text:  E1 okay\n",
      "[WARN] No vocalic features detected for utterance between 2022-06-14T22:43:25.535768+00:00 and 2022-06-14T22:43:37.135768+00:00 for subject GREEN_ASIST2 in trial 1085c445-ec22-4fdf-9b9a-b992194de7d8. Text:  cover up my okay oh that's good that's good good idea so those have been move those have been move no victim there that's C note in here\n",
      "[WARN] No vocalic features detected for utterance between 2022-06-14T22:43:40.735768+00:00 and 2022-06-14T22:43:45.835768+00:00 for subject GREEN_ASIST2 in trial 1085c445-ec22-4fdf-9b9a-b992194de7d8. Text:  sure yes C1\n",
      "[WARN] No vocalic features detected for utterance between 2022-06-14T22:43:57.435768+00:00 and 2022-06-14T22:43:58.735768+00:00 for subject GREEN_ASIST2 in trial 1085c445-ec22-4fdf-9b9a-b992194de7d8. Text:  I think there's some rubble and\n",
      "[WARN] No vocalic features detected for utterance between 2022-06-14T22:44:10.635768+00:00 and 2022-06-14T22:44:14.835768+00:00 for subject GREEN_ASIST2 in trial 1085c445-ec22-4fdf-9b9a-b992194de7d8. Text:  oh engineer this is transporter engineer we need help getting out of this room\n",
      "[WARN] No vocalic features detected for utterance between 2022-06-14T22:44:16.135768+00:00 and 2022-06-14T22:44:24.235768+00:00 for subject GREEN_ASIST2 in trial 1085c445-ec22-4fdf-9b9a-b992194de7d8. Text:  will you mark that oh thank you you're awesome engineer we're in C1 we need help getting out\n",
      "[WARN] No vocalic features detected for utterance between 2022-06-14T22:44:28.835768+00:00 and 2022-06-14T22:44:30.535768+00:00 for subject GREEN_ASIST2 in trial 1085c445-ec22-4fdf-9b9a-b992194de7d8. Text:  yeah we should have had to do with us\n",
      "[WARN] No vocalic features detected for utterance between 2022-06-14T22:44:47.235768+00:00 and 2022-06-14T22:44:49.335768+00:00 for subject GREEN_ASIST2 in trial 1085c445-ec22-4fdf-9b9a-b992194de7d8. Text:  awesome so that one's cleared what about\n",
      "[WARN] No vocalic features detected for utterance between 2022-06-14T22:44:51.764521+00:00 and 2022-06-14T22:45:05.164521+00:00 for subject GREEN_ASIST2 in trial 1085c445-ec22-4fdf-9b9a-b992194de7d8. Text: from here critical victim we got that one all right let's clear nope that's not my hop on Ice where do we have\n",
      "[WARN] No vocalic features detected for utterance between 2022-06-14T22:45:07.464521+00:00 and 2022-06-14T22:45:07.664521+00:00 for subject GREEN_ASIST2 in trial 1085c445-ec22-4fdf-9b9a-b992194de7d8. Text:  more victims\n",
      "[WARN] No vocalic features detected for utterance between 2022-06-14T22:45:21.864521+00:00 and 2022-06-14T22:45:24.264521+00:00 for subject GREEN_ASIST2 in trial 1085c445-ec22-4fdf-9b9a-b992194de7d8. Text:  it's hard to get I think we have to go the end of this hallway\n",
      "[WARN] No vocalic features detected for utterance between 2022-06-14T22:45:26.164521+00:00 and 2022-06-14T22:45:27.064521+00:00 for subject GREEN_ASIST2 in trial 1085c445-ec22-4fdf-9b9a-b992194de7d8. Text:  critical victim here\n",
      "[WARN] No vocalic features detected for utterance between 2022-06-14T22:45:39.364521+00:00 and 2022-06-14T22:45:40.764521+00:00 for subject GREEN_ASIST2 in trial 1085c445-ec22-4fdf-9b9a-b992194de7d8. Text:  I can help you transition supporter\n",
      "[WARN] No vocalic features detected for utterance between 2022-06-14T22:45:42.964521+00:00 and 2022-06-14T22:45:45.064521+00:00 for subject GREEN_ASIST2 in trial 1085c445-ec22-4fdf-9b9a-b992194de7d8. Text:  doing yeah you can go clear Rubble engineer\n",
      "[WARN] No vocalic features detected for utterance between 2022-06-14T22:45:51.464521+00:00 and 2022-06-14T22:45:58.964521+00:00 for subject GREEN_ASIST2 in trial 1085c445-ec22-4fdf-9b9a-b992194de7d8. Text:  and as he A or B oh he was critical never mind all right will you mark that one cleared thank you\n",
      "[WARN] No vocalic features detected for utterance between 2022-06-14T22:46:10.364521+00:00 and 2022-06-14T22:46:15.764521+00:00 for subject GREEN_ASIST2 in trial 1085c445-ec22-4fdf-9b9a-b992194de7d8. Text:  I'm going to go move to E2 going up this hallway actually why not check the rooms as I pass them\n",
      "[WARN] No vocalic features detected for utterance between 2022-06-14T22:46:18.864521+00:00 and 2022-06-14T22:46:19.564521+00:00 for subject GREEN_ASIST2 in trial 1085c445-ec22-4fdf-9b9a-b992194de7d8. Text:  regular victim\n",
      "[WARN] No vocalic features detected for utterance between 2022-06-14T22:46:23.064521+00:00 and 2022-06-14T22:46:23.564521+00:00 for subject GREEN_ASIST2 in trial 1085c445-ec22-4fdf-9b9a-b992194de7d8. Text:  nope that's it\n",
      "[WARN] No vocalic features detected for utterance between 2022-06-14T22:46:33.064521+00:00 and 2022-06-14T22:46:33.864521+00:00 for subject GREEN_ASIST2 in trial 1085c445-ec22-4fdf-9b9a-b992194de7d8. Text:  I have some regular lunch\n",
      "[WARN] No vocalic features detected for utterance between 2022-06-14T22:46:38.564521+00:00 and 2022-06-14T22:46:40.464521+00:00 for subject GREEN_ASIST2 in trial 1085c445-ec22-4fdf-9b9a-b992194de7d8. Text:  I placed two regular victim markers\n",
      "[WARN] No vocalic features detected for utterance between 2022-06-14T22:46:42.364521+00:00 and 2022-06-14T22:46:42.664521+00:00 for subject GREEN_ASIST2 in trial 1085c445-ec22-4fdf-9b9a-b992194de7d8. Text:  in other rooms\n",
      "[WARN] No vocalic features detected for utterance between 2022-06-14T22:46:47.064521+00:00 and 2022-06-14T22:46:47.264521+00:00 for subject GREEN_ASIST2 in trial 1085c445-ec22-4fdf-9b9a-b992194de7d8. Text:  and the D\n",
      "[WARN] No vocalic features detected for utterance between 2022-06-14T22:46:49.364521+00:00 and 2022-06-14T22:46:49.764521+00:00 for subject GREEN_ASIST2 in trial 1085c445-ec22-4fdf-9b9a-b992194de7d8. Text:  I move missing\n",
      "[WARN] No vocalic features detected for utterance between 2022-06-14T22:47:03.564521+00:00 and 2022-06-14T22:47:15.264521+00:00 for subject GREEN_ASIST2 in trial 1085c445-ec22-4fdf-9b9a-b992194de7d8. Text:  all right critical victim medic this is transporter are you coming to G1 for the critical victim\n",
      "[WARN] No vocalic features detected for utterance between 2022-06-14T22:47:17.164521+00:00 and 2022-06-14T22:47:17.864521+00:00 for subject GREEN_ASIST2 in trial 1085c445-ec22-4fdf-9b9a-b992194de7d8. Text:  okay if you could come\n",
      "[WARN] No vocalic features detected for utterance between 2022-06-14T22:47:19.664521+00:00 and 2022-06-14T22:47:20.164521+00:00 for subject GREEN_ASIST2 in trial 1085c445-ec22-4fdf-9b9a-b992194de7d8. Text:  there we go right here\n",
      "[WARN] No vocalic features detected for utterance between 2022-06-14T22:47:22.064521+00:00 and 2022-06-14T22:47:24.164521+00:00 for subject GREEN_ASIST2 in trial 1085c445-ec22-4fdf-9b9a-b992194de7d8. Text:  I can help you there's a regular and a critical\n",
      "[WARN] No vocalic features detected for utterance between 2022-06-14T22:47:28.164521+00:00 and 2022-06-14T22:47:28.264521+00:00 for subject GREEN_ASIST2 in trial 1085c445-ec22-4fdf-9b9a-b992194de7d8. Text:  oh nice\n",
      "[WARN] No vocalic features detected for utterance between 2022-06-14T22:47:37.464521+00:00 and 2022-06-14T22:47:41.164521+00:00 for subject GREEN_ASIST2 in trial 1085c445-ec22-4fdf-9b9a-b992194de7d8. Text:  it's right above it yeah right next to it\n",
      "[WARN] No vocalic features detected for utterance between 2022-06-14T22:47:43.064521+00:00 and 2022-06-14T22:47:47.864521+00:00 for subject GREEN_ASIST2 in trial 1085c445-ec22-4fdf-9b9a-b992194de7d8. Text:  oh wow very nicely done so there's one more regular victim in there\n",
      "[WARN] No vocalic features detected for utterance between 2022-06-14T22:47:49.164521+00:00 and 2022-06-14T22:47:53.664521+00:00 for subject GREEN_ASIST2 in trial 1085c445-ec22-4fdf-9b9a-b992194de7d8. Text:  regular victims can be transported before they're treated I forgot about that\n",
      "[WARN] No vocalic features detected for utterance between 2022-06-14T22:47:59.964521+00:00 and 2022-06-14T22:48:05.864521+00:00 for subject GREEN_ASIST2 in trial 1085c445-ec22-4fdf-9b9a-b992194de7d8. Text:  so C is Zone C is covered engineer can you come and clear the rubble from Zone C\n",
      "[WARN] No vocalic features detected for utterance between 2022-06-14T22:48:08.164521+00:00 and 2022-06-14T22:48:16.664521+00:00 for subject GREEN_ASIST2 in trial 1085c445-ec22-4fdf-9b9a-b992194de7d8. Text:  yeah where I place the victim Zhou you know what I mean why did I go this way let me go the other way I'm gonna be other Zone C on the other side of the both of them are covered\n",
      "[WARN] No vocalic features detected for utterance between 2022-06-14T22:48:19.464521+00:00 and 2022-06-14T22:48:27.564521+00:00 for subject GREEN_ASIST2 in trial 1085c445-ec22-4fdf-9b9a-b992194de7d8. Text:  I forgot I forgot we have to size yeah that's where I should have gone in the first place all right if you can hang out just make sure I can get out of here\n",
      "[WARN] No vocalic features detected for utterance between 2022-06-14T22:48:30.764521+00:00 and 2022-06-14T22:48:31.064521+00:00 for subject GREEN_ASIST2 in trial 1085c445-ec22-4fdf-9b9a-b992194de7d8. Text:  and yeah\n",
      "[WARN] No vocalic features detected for utterance between 2022-06-14T22:48:34.364521+00:00 and 2022-06-14T22:48:35.064521+00:00 for subject GREEN_ASIST2 in trial 1085c445-ec22-4fdf-9b9a-b992194de7d8. Text:  no victim here\n",
      "[WARN] No vocalic features detected for utterance between 2022-06-14T22:48:45.764521+00:00 and 2022-06-14T22:48:46.564521+00:00 for subject GREEN_ASIST2 in trial 1085c445-ec22-4fdf-9b9a-b992194de7d8. Text:  absolutely enter\n",
      "[WARN] No vocalic features detected for utterance between 2022-06-14T22:48:52.001494+00:00 and 2022-06-14T22:49:05.101494+00:00 for subject GREEN_ASIST2 in trial 1085c445-ec22-4fdf-9b9a-b992194de7d8. Text: this is transporter I'm stuck again back in G1 I'm straight G2 sorry could you come and help me out I went in to check and see if that other victim had been moved and I got trapped again G2 sorry\n",
      "[WARN] No vocalic features detected for utterance between 2022-06-14T22:49:09.501494+00:00 and 2022-06-14T22:49:10.201494+00:00 for subject GREEN_ASIST2 in trial 1085c445-ec22-4fdf-9b9a-b992194de7d8. Text:  I should if\n",
      "[WARN] No vocalic features detected for utterance between 2022-06-14T22:49:12.201494+00:00 and 2022-06-14T22:49:21.701494+00:00 for subject GREEN_ASIST2 in trial 1085c445-ec22-4fdf-9b9a-b992194de7d8. Text:  noticed I didn't notice appeared but it was clear thank you okay so we have a device we have two regular victims I'll go and start moving them\n",
      "[WARN] No vocalic features detected for utterance between 2022-06-14T22:49:23.501494+00:00 and 2022-06-14T22:49:25.201494+00:00 for subject GREEN_ASIST2 in trial 1085c445-ec22-4fdf-9b9a-b992194de7d8. Text:  oh I don't know what zone to put them in\n",
      "[WARN] No vocalic features detected for utterance between 2022-06-14T22:49:28.901494+00:00 and 2022-06-14T22:49:29.001494+00:00 for subject GREEN_ASIST2 in trial 1085c445-ec22-4fdf-9b9a-b992194de7d8. Text:  oh gotcha\n",
      "[WARN] No vocalic features detected for utterance between 2022-06-14T22:49:33.601494+00:00 and 2022-06-14T22:49:38.801494+00:00 for subject GREEN_ASIST2 in trial 1085c445-ec22-4fdf-9b9a-b992194de7d8. Text:  I am in I'm a few in D4 I'm in D4\n",
      "[WARN] No vocalic features detected for utterance between 2022-06-14T22:49:45.201494+00:00 and 2022-06-14T22:49:52.701494+00:00 for subject GREEN_ASIST2 in trial 1085c445-ec22-4fdf-9b9a-b992194de7d8. Text:  yeah what room are you in oh gotcha all right\n",
      "[WARN] No vocalic features detected for utterance between 2022-06-14T22:49:59.101494+00:00 and 2022-06-14T22:49:59.101494+00:00 for subject GREEN_ASIST2 in trial 1085c445-ec22-4fdf-9b9a-b992194de7d8. Text:  okay\n",
      "[WARN] No vocalic features detected for utterance between 2022-06-14T22:50:09.301494+00:00 and 2022-06-14T22:50:15.101494+00:00 for subject GREEN_ASIST2 in trial 1085c445-ec22-4fdf-9b9a-b992194de7d8. Text:  all right I have this is transporter I've placed a victim in front of Zone C for you middle clear that room\n",
      "[WARN] No vocalic features detected for utterance between 2022-06-14T22:50:20.301494+00:00 and 2022-06-14T22:50:20.601494+00:00 for subject GREEN_ASIST2 in trial 1085c445-ec22-4fdf-9b9a-b992194de7d8. Text:  thank you\n",
      "[WARN] No vocalic features detected for utterance between 2022-06-14T22:50:23.601494+00:00 and 2022-06-14T22:50:23.601494+00:00 for subject GREEN_ASIST2 in trial 1085c445-ec22-4fdf-9b9a-b992194de7d8. Text:  yeah\n",
      "[WARN] No vocalic features detected for utterance between 2022-06-14T22:50:30.801494+00:00 and 2022-06-14T22:50:35.101494+00:00 for subject GREEN_ASIST2 in trial 1085c445-ec22-4fdf-9b9a-b992194de7d8. Text:  I have a critical victim in what room is this\n",
      "[WARN] No vocalic features detected for utterance between 2022-06-14T22:50:37.101494+00:00 and 2022-06-14T22:50:37.501494+00:00 for subject GREEN_ASIST2 in trial 1085c445-ec22-4fdf-9b9a-b992194de7d8. Text:  so not hallway\n",
      "[WARN] No vocalic features detected for utterance between 2022-06-14T22:50:42.701494+00:00 and 2022-06-14T22:50:43.001494+00:00 for subject GREEN_ASIST2 in trial 1085c445-ec22-4fdf-9b9a-b992194de7d8. Text:  let's see\n",
      "[WARN] No vocalic features detected for utterance between 2022-06-14T22:50:44.301494+00:00 and 2022-06-14T22:50:53.801494+00:00 for subject GREEN_ASIST2 in trial 1085c445-ec22-4fdf-9b9a-b992194de7d8. Text:  yeah and there this one is clear okay engineer we need to over by D4 by the entrance of D4\n",
      "[WARN] No vocalic features detected for utterance between 2022-06-14T22:50:58.101494+00:00 and 2022-06-14T22:50:58.101494+00:00 for subject GREEN_ASIST2 in trial 1085c445-ec22-4fdf-9b9a-b992194de7d8. Text:  okay\n",
      "[WARN] No vocalic features detected for utterance between 2022-06-14T22:51:04.301494+00:00 and 2022-06-14T22:51:04.701494+00:00 for subject GREEN_ASIST2 in trial 1085c445-ec22-4fdf-9b9a-b992194de7d8. Text:  am I close enough\n",
      "[WARN] No vocalic features detected for utterance between 2022-06-14T22:51:06.301494+00:00 and 2022-06-14T22:51:07.001494+00:00 for subject GREEN_ASIST2 in trial 1085c445-ec22-4fdf-9b9a-b992194de7d8. Text:  is it working okay\n",
      "[WARN] No vocalic features detected for utterance between 2022-06-14T22:51:11.201494+00:00 and 2022-06-14T22:51:11.601494+00:00 for subject GREEN_ASIST2 in trial 1085c445-ec22-4fdf-9b9a-b992194de7d8. Text:  I got him\n",
      "[WARN] No vocalic features detected for utterance between 2022-06-14T22:51:14.201494+00:00 and 2022-06-14T22:51:14.901494+00:00 for subject GREEN_ASIST2 in trial 1085c445-ec22-4fdf-9b9a-b992194de7d8. Text:  we got it I think\n",
      "[WARN] No vocalic features detected for utterance between 2022-06-14T22:51:24.801494+00:00 and 2022-06-14T22:51:30.201494+00:00 for subject GREEN_ASIST2 in trial 1085c445-ec22-4fdf-9b9a-b992194de7d8. Text:  I need your ancient sorry transporter and I need engineer is help to get into C Zone C\n",
      "[WARN] No vocalic features detected for utterance between 2022-06-14T22:51:34.701494+00:00 and 2022-06-14T22:51:35.101494+00:00 for subject GREEN_ASIST2 in trial 1085c445-ec22-4fdf-9b9a-b992194de7d8. Text:  I'm at the South\n",
      "[WARN] No vocalic features detected for utterance between 2022-06-14T22:51:37.401494+00:00 and 2022-06-14T22:51:39.001494+00:00 for subject GREEN_ASIST2 in trial 1085c445-ec22-4fdf-9b9a-b992194de7d8. Text:  but I can come to you if you're closer to the Northland\n",
      "[WARN] No vocalic features detected for utterance between 2022-06-14T22:51:42.701494+00:00 and 2022-06-14T22:51:42.701494+00:00 for subject GREEN_ASIST2 in trial 1085c445-ec22-4fdf-9b9a-b992194de7d8. Text:  okay\n",
      "[WARN] No vocalic features detected for utterance between 2022-06-14T22:51:55.701494+00:00 and 2022-06-14T22:52:01.701494+00:00 for subject GREEN_ASIST2 in trial 1085c445-ec22-4fdf-9b9a-b992194de7d8. Text:  take me and I think you're right I need you to get me out of deep to I think it is\n",
      "[WARN] No vocalic features detected for utterance between 2022-06-14T22:52:04.201494+00:00 and 2022-06-14T22:52:05.401494+00:00 for subject GREEN_ASIST2 in trial 1085c445-ec22-4fdf-9b9a-b992194de7d8. Text:  wish I could see you guys on the map\n",
      "[WARN] No vocalic features detected for utterance between 2022-06-14T22:52:06.101494+00:00 and 2022-06-14T22:52:08.301494+00:00 for subject GREEN_ASIST2 in trial 1085c445-ec22-4fdf-9b9a-b992194de7d8. Text:  I'm in D2\n",
      "[WARN] No vocalic features detected for utterance between 2022-06-14T22:52:13.901494+00:00 and 2022-06-14T22:52:15.901494+00:00 for subject GREEN_ASIST2 in trial 1085c445-ec22-4fdf-9b9a-b992194de7d8. Text:  it still said it says it has a marker for critical\n",
      "[WARN] No vocalic features detected for utterance between 2022-06-14T22:52:31.701494+00:00 and 2022-06-14T22:52:33.601494+00:00 for subject GREEN_ASIST2 in trial 1085c445-ec22-4fdf-9b9a-b992194de7d8. Text:  yes I know I last he's coming\n",
      "[WARN] No vocalic features detected for utterance between 2022-06-14T22:52:36.501494+00:00 and 2022-06-14T22:52:36.801494+00:00 for subject GREEN_ASIST2 in trial 1085c445-ec22-4fdf-9b9a-b992194de7d8. Text:  thank you\n",
      "[WARN] No vocalic features detected for utterance between 2022-06-14T22:52:40.301494+00:00 and 2022-06-14T22:52:42.901494+00:00 for subject GREEN_ASIST2 in trial 1085c445-ec22-4fdf-9b9a-b992194de7d8. Text:  I have asked him for help stop reminding me this\n",
      "[WARN] No vocalic features detected for utterance between 2022-06-14T22:52:55.057134+00:00 and 2022-06-14T22:52:55.757134+00:00 for subject GREEN_ASIST2 in trial 1085c445-ec22-4fdf-9b9a-b992194de7d8. Text: do you see me in detail\n",
      "[WARN] No vocalic features detected for utterance between 2022-06-14T22:52:57.857134+00:00 and 2022-06-14T22:52:57.857134+00:00 for subject GREEN_ASIST2 in trial 1085c445-ec22-4fdf-9b9a-b992194de7d8. Text:  engineer\n",
      "[WARN] No vocalic features detected for utterance between 2022-06-14T22:53:04.157134+00:00 and 2022-06-14T22:53:10.357134+00:00 for subject GREEN_ASIST2 in trial 1085c445-ec22-4fdf-9b9a-b992194de7d8. Text:  well you can't be that there's a critical victim label on D2\n",
      "[WARN] No vocalic features detected for utterance between 2022-06-14T22:53:12.457134+00:00 and 2022-06-14T22:53:13.857134+00:00 for subject GREEN_ASIST2 in trial 1085c445-ec22-4fdf-9b9a-b992194de7d8. Text:  and that's where I'm at I'm stuck\n",
      "[WARN] No vocalic features detected for utterance between 2022-06-14T22:53:19.357134+00:00 and 2022-06-14T22:53:19.857134+00:00 for subject GREEN_ASIST2 in trial 1085c445-ec22-4fdf-9b9a-b992194de7d8. Text:  thank you\n",
      "[WARN] No vocalic features detected for utterance between 2022-06-14T22:53:21.557134+00:00 and 2022-06-14T22:53:23.057134+00:00 for subject GREEN_ASIST2 in trial 1085c445-ec22-4fdf-9b9a-b992194de7d8. Text:  this one needs to be labeled as done\n",
      "[WARN] No vocalic features detected for utterance between 2022-06-14T22:53:23.957134+00:00 and 2022-06-14T22:53:27.757134+00:00 for subject GREEN_ASIST2 in trial 1085c445-ec22-4fdf-9b9a-b992194de7d8. Text:  and it we already do D1\n",
      "[WARN] No vocalic features detected for utterance between 2022-06-14T22:53:31.657134+00:00 and 2022-06-14T22:53:32.157134+00:00 for subject GREEN_ASIST2 in trial 1085c445-ec22-4fdf-9b9a-b992194de7d8. Text:  over to Detective\n",
      "[WARN] No vocalic features detected for utterance between 2022-06-14T22:53:34.757134+00:00 and 2022-06-14T22:53:36.457134+00:00 for subject GREEN_ASIST2 in trial 1085c445-ec22-4fdf-9b9a-b992194de7d8. Text:  and didn't a checked E3\n",
      "[WARN] No vocalic features detected for utterance between 2022-06-14T22:53:42.357134+00:00 and 2022-06-14T22:53:42.357134+00:00 for subject GREEN_ASIST2 in trial 1085c445-ec22-4fdf-9b9a-b992194de7d8. Text:  okay\n",
      "[WARN] No vocalic features detected for utterance between 2022-06-14T22:53:45.057134+00:00 and 2022-06-14T22:53:45.857134+00:00 for subject GREEN_ASIST2 in trial 1085c445-ec22-4fdf-9b9a-b992194de7d8. Text:  yeah let's do that\n",
      "[WARN] No vocalic features detected for utterance between 2022-06-14T22:53:51.157134+00:00 and 2022-06-14T22:53:53.657134+00:00 for subject GREEN_ASIST2 in trial 1085c445-ec22-4fdf-9b9a-b992194de7d8. Text:  keep trying to Sprint but it doesn't move\n",
      "[WARN] No vocalic features detected for utterance between 2022-06-14T22:53:56.157134+00:00 and 2022-06-14T22:53:59.757134+00:00 for subject GREEN_ASIST2 in trial 1085c445-ec22-4fdf-9b9a-b992194de7d8. Text:  I have a critical victim also this is transporter and i1 there\n",
      "[WARN] No vocalic features detected for utterance between 2022-06-14T22:54:06.857134+00:00 and 2022-06-14T22:54:08.357134+00:00 for subject GREEN_ASIST2 in trial 1085c445-ec22-4fdf-9b9a-b992194de7d8. Text:  oh that E1 or is i1\n",
      "[WARN] No vocalic features detected for utterance between 2022-06-14T22:54:22.057134+00:00 and 2022-06-14T22:54:26.357134+00:00 for subject GREEN_ASIST2 in trial 1085c445-ec22-4fdf-9b9a-b992194de7d8. Text:  the C stairs a c still keep it in covered with rubble or isn't\n",
      "[WARN] No vocalic features detected for utterance between 2022-06-14T22:54:27.257134+00:00 and 2022-06-14T22:54:29.057134+00:00 for subject GREEN_ASIST2 in trial 1085c445-ec22-4fdf-9b9a-b992194de7d8. Text:  open L good\n",
      "[WARN] No vocalic features detected for utterance between 2022-06-14T22:54:35.557134+00:00 and 2022-06-14T22:54:36.357134+00:00 for subject GREEN_ASIST2 in trial 1085c445-ec22-4fdf-9b9a-b992194de7d8. Text:  okay I can get him\n",
      "[WARN] No vocalic features detected for utterance between 2022-06-14T22:54:40.257134+00:00 and 2022-06-14T22:54:43.557134+00:00 for subject GREEN_ASIST2 in trial 1085c445-ec22-4fdf-9b9a-b992194de7d8. Text:  although I might need your help back again engineer if I get trapped in here\n",
      "[WARN] No vocalic features detected for utterance between 2022-06-14T22:54:51.257134+00:00 and 2022-06-14T22:54:53.357134+00:00 for subject GREEN_ASIST2 in trial 1085c445-ec22-4fdf-9b9a-b992194de7d8. Text:  I do need help out I'm stuck in here with the critical\n",
      "[WARN] No vocalic features detected for utterance between 2022-06-14T22:55:01.857134+00:00 and 2022-06-14T22:55:06.057134+00:00 for subject GREEN_ASIST2 in trial 1085c445-ec22-4fdf-9b9a-b992194de7d8. Text:  I'm at ey i1 i1 I2 I2 transport that a agent\n",
      "[WARN] No vocalic features detected for utterance between 2022-06-14T22:55:09.157134+00:00 and 2022-06-14T22:55:09.457134+00:00 for subject GREEN_ASIST2 in trial 1085c445-ec22-4fdf-9b9a-b992194de7d8. Text:  thank you\n",
      "[WARN] No vocalic features detected for utterance between 2022-06-14T22:55:14.757134+00:00 and 2022-06-14T22:55:18.757134+00:00 for subject GREEN_ASIST2 in trial 1085c445-ec22-4fdf-9b9a-b992194de7d8. Text:  okay let's\n",
      "[WARN] No vocalic features detected for utterance between 2022-06-14T22:55:22.757134+00:00 and 2022-06-14T22:55:24.557134+00:00 for subject GREEN_ASIST2 in trial 1085c445-ec22-4fdf-9b9a-b992194de7d8. Text:  did you clear this critical we already did\n",
      "[WARN] No vocalic features detected for utterance between 2022-06-14T22:55:30.457134+00:00 and 2022-06-14T22:55:34.257134+00:00 for subject GREEN_ASIST2 in trial 1085c445-ec22-4fdf-9b9a-b992194de7d8. Text:  did you get the critical C r0 I'm n I4 oh\n",
      "[WARN] No vocalic features detected for utterance between 2022-06-14T22:39:02.030738+00:00 and 2022-06-14T22:39:02.030738+00:00 for subject BLUE_ASIST2 in trial 1085c445-ec22-4fdf-9b9a-b992194de7d8. Text:  all right\n",
      "[WARN] No vocalic features detected for utterance between 2022-06-14T22:39:09.730738+00:00 and 2022-06-14T22:39:09.730738+00:00 for subject BLUE_ASIST2 in trial 1085c445-ec22-4fdf-9b9a-b992194de7d8. Text:  yep\n",
      "[WARN] No vocalic features detected for utterance between 2022-06-14T22:40:58.864327+00:00 and 2022-06-14T22:40:58.864327+00:00 for subject BLUE_ASIST2 in trial 1085c445-ec22-4fdf-9b9a-b992194de7d8. Text:  slow\n",
      "[WARN] No vocalic features detected for utterance between 2022-06-14T22:41:45.364327+00:00 and 2022-06-14T22:41:45.364327+00:00 for subject BLUE_ASIST2 in trial 1085c445-ec22-4fdf-9b9a-b992194de7d8. Text:  okay\n",
      "[WARN] No vocalic features detected for utterance between 2022-06-14T22:42:05.264327+00:00 and 2022-06-14T22:42:05.564327+00:00 for subject BLUE_ASIST2 in trial 1085c445-ec22-4fdf-9b9a-b992194de7d8. Text:  yes sir\n",
      "[WARN] No vocalic features detected for utterance between 2022-06-14T22:42:23.264327+00:00 and 2022-06-14T22:42:26.564327+00:00 for subject BLUE_ASIST2 in trial 1085c445-ec22-4fdf-9b9a-b992194de7d8. Text:  she want to start go ahead\n",
      "[WARN] No vocalic features detected for utterance between 2022-06-14T22:42:46.464327+00:00 and 2022-06-14T22:42:54.164327+00:00 for subject BLUE_ASIST2 in trial 1085c445-ec22-4fdf-9b9a-b992194de7d8. Text:  I'm running from labeling engineer is running around labeling trapped rooms or dangerous rooms\n",
      "[WARN] No vocalic features detected for utterance between 2022-06-14T22:43:00.064327+00:00 and 2022-06-14T22:43:00.364327+00:00 for subject BLUE_ASIST2 in trial 1085c445-ec22-4fdf-9b9a-b992194de7d8. Text:  I did not\n",
      "[WARN] No vocalic features detected for utterance between 2022-06-14T22:43:04.264327+00:00 and 2022-06-14T22:43:04.264327+00:00 for subject BLUE_ASIST2 in trial 1085c445-ec22-4fdf-9b9a-b992194de7d8. Text:  one\n",
      "[WARN] No vocalic features detected for utterance between 2022-06-14T22:43:07.464327+00:00 and 2022-06-14T22:43:07.464327+00:00 for subject BLUE_ASIST2 in trial 1085c445-ec22-4fdf-9b9a-b992194de7d8. Text:  yes\n",
      "[WARN] No vocalic features detected for utterance between 2022-06-14T22:44:04.264327+00:00 and 2022-06-14T22:44:04.364327+00:00 for subject BLUE_ASIST2 in trial 1085c445-ec22-4fdf-9b9a-b992194de7d8. Text:  all right\n",
      "[WARN] No vocalic features detected for utterance between 2022-06-14T22:44:18.764327+00:00 and 2022-06-14T22:44:18.764327+00:00 for subject BLUE_ASIST2 in trial 1085c445-ec22-4fdf-9b9a-b992194de7d8. Text:  help\n",
      "[WARN] No vocalic features detected for utterance between 2022-06-14T22:44:23.864327+00:00 and 2022-06-14T22:44:23.864327+00:00 for subject BLUE_ASIST2 in trial 1085c445-ec22-4fdf-9b9a-b992194de7d8. Text:  trapped\n",
      "[WARN] No vocalic features detected for utterance between 2022-06-14T22:44:30.264327+00:00 and 2022-06-14T22:44:30.464327+00:00 for subject BLUE_ASIST2 in trial 1085c445-ec22-4fdf-9b9a-b992194de7d8. Text:  it's all right\n",
      "[WARN] No vocalic features detected for utterance between 2022-06-14T22:45:03.776767+00:00 and 2022-06-14T22:45:12.676767+00:00 for subject BLUE_ASIST2 in trial 1085c445-ec22-4fdf-9b9a-b992194de7d8. Text: severe is severe and severe damage E2 or I3 a\n",
      "[WARN] No vocalic features detected for utterance between 2022-06-14T22:45:21.676767+00:00 and 2022-06-14T22:45:21.676767+00:00 for subject BLUE_ASIST2 in trial 1085c445-ec22-4fdf-9b9a-b992194de7d8. Text:  okay\n",
      "[WARN] No vocalic features detected for utterance between 2022-06-14T22:45:31.476767+00:00 and 2022-06-14T22:45:34.076767+00:00 for subject BLUE_ASIST2 in trial 1085c445-ec22-4fdf-9b9a-b992194de7d8. Text:  I'm going to go try and clear rubble from\n",
      "[WARN] No vocalic features detected for utterance between 2022-06-14T22:45:41.176767+00:00 and 2022-06-14T22:45:41.376767+00:00 for subject BLUE_ASIST2 in trial 1085c445-ec22-4fdf-9b9a-b992194de7d8. Text:  are you there\n",
      "[WARN] No vocalic features detected for utterance between 2022-06-14T22:46:05.076767+00:00 and 2022-06-14T22:46:05.476767+00:00 for subject BLUE_ASIST2 in trial 1085c445-ec22-4fdf-9b9a-b992194de7d8. Text:  correct yes\n",
      "[WARN] No vocalic features detected for utterance between 2022-06-14T22:47:26.476767+00:00 and 2022-06-14T22:47:26.476767+00:00 for subject BLUE_ASIST2 in trial 1085c445-ec22-4fdf-9b9a-b992194de7d8. Text:  G2\n",
      "[WARN] No vocalic features detected for utterance between 2022-06-14T22:47:32.976767+00:00 and 2022-06-14T22:47:33.976767+00:00 for subject BLUE_ASIST2 in trial 1085c445-ec22-4fdf-9b9a-b992194de7d8. Text:  aggi C G1\n",
      "[WARN] No vocalic features detected for utterance between 2022-06-14T22:47:37.576767+00:00 and 2022-06-14T22:47:38.476767+00:00 for subject BLUE_ASIST2 in trial 1085c445-ec22-4fdf-9b9a-b992194de7d8. Text:  oh church next door gotcha\n",
      "[WARN] No vocalic features detected for utterance between 2022-06-14T22:47:45.976767+00:00 and 2022-06-14T22:47:46.276767+00:00 for subject BLUE_ASIST2 in trial 1085c445-ec22-4fdf-9b9a-b992194de7d8. Text:  nice work\n",
      "[WARN] No vocalic features detected for utterance between 2022-06-14T22:48:04.376767+00:00 and 2022-06-14T22:48:06.676767+00:00 for subject BLUE_ASIST2 in trial 1085c445-ec22-4fdf-9b9a-b992194de7d8. Text:  C gotcha\n",
      "[WARN] No vocalic features detected for utterance between 2022-06-14T22:48:18.776767+00:00 and 2022-06-14T22:48:20.976767+00:00 for subject BLUE_ASIST2 in trial 1085c445-ec22-4fdf-9b9a-b992194de7d8. Text:  I'm at the I'm at the North Zone\n",
      "[WARN] No vocalic features detected for utterance between 2022-06-14T22:49:57.775355+00:00 and 2022-06-14T22:50:02.375355+00:00 for subject BLUE_ASIST2 in trial 1085c445-ec22-4fdf-9b9a-b992194de7d8. Text: I'm heading to a A4 which was the other\n",
      "[WARN] No vocalic features detected for utterance between 2022-06-14T22:50:04.075355+00:00 and 2022-06-14T22:50:05.475355+00:00 for subject BLUE_ASIST2 in trial 1085c445-ec22-4fdf-9b9a-b992194de7d8. Text:  that's i3a\n",
      "[WARN] No vocalic features detected for utterance between 2022-06-14T22:50:43.875355+00:00 and 2022-06-14T22:50:44.375355+00:00 for subject BLUE_ASIST2 in trial 1085c445-ec22-4fdf-9b9a-b992194de7d8. Text:  if I'm 33\n",
      "[WARN] No vocalic features detected for utterance between 2022-06-14T22:50:57.875355+00:00 and 2022-06-14T22:50:57.875355+00:00 for subject BLUE_ASIST2 in trial 1085c445-ec22-4fdf-9b9a-b992194de7d8. Text:  yeah\n",
      "[WARN] No vocalic features detected for utterance between 2022-06-14T22:51:00.575355+00:00 and 2022-06-14T22:51:02.975355+00:00 for subject BLUE_ASIST2 in trial 1085c445-ec22-4fdf-9b9a-b992194de7d8. Text:  heading that way your which one where are you\n",
      "[WARN] No vocalic features detected for utterance between 2022-06-14T22:51:06.875355+00:00 and 2022-06-14T22:51:09.275355+00:00 for subject BLUE_ASIST2 in trial 1085c445-ec22-4fdf-9b9a-b992194de7d8. Text:  what's the what's your location engineer or I'm sorry\n",
      "[WARN] No vocalic features detected for utterance between 2022-06-14T22:51:15.475355+00:00 and 2022-06-14T22:51:19.375355+00:00 for subject BLUE_ASIST2 in trial 1085c445-ec22-4fdf-9b9a-b992194de7d8. Text:  okay in I3 a there are three critical victims\n",
      "[WARN] No vocalic features detected for utterance between 2022-06-14T22:51:31.175355+00:00 and 2022-06-14T22:51:33.575355+00:00 for subject BLUE_ASIST2 in trial 1085c445-ec22-4fdf-9b9a-b992194de7d8. Text:  E2 C again are you at north or south\n",
      "[WARN] No vocalic features detected for utterance between 2022-06-14T22:51:40.375355+00:00 and 2022-06-14T22:51:43.575355+00:00 for subject BLUE_ASIST2 in trial 1085c445-ec22-4fdf-9b9a-b992194de7d8. Text:  in between both so comes on so close\n",
      "[WARN] No vocalic features detected for utterance between 2022-06-14T22:51:48.675355+00:00 and 2022-06-14T22:51:51.075355+00:00 for subject BLUE_ASIST2 in trial 1085c445-ec22-4fdf-9b9a-b992194de7d8. Text:  i3 i3a\n",
      "[WARN] No vocalic features detected for utterance between 2022-06-14T22:52:06.975355+00:00 and 2022-06-14T22:52:07.475355+00:00 for subject BLUE_ASIST2 in trial 1085c445-ec22-4fdf-9b9a-b992194de7d8. Text:  where are you at\n",
      "[WARN] No vocalic features detected for utterance between 2022-06-14T22:52:13.275355+00:00 and 2022-06-14T22:52:13.275355+00:00 for subject BLUE_ASIST2 in trial 1085c445-ec22-4fdf-9b9a-b992194de7d8. Text:  Pikachu\n",
      "[WARN] No vocalic features detected for utterance between 2022-06-14T22:52:18.275355+00:00 and 2022-06-14T22:52:18.275355+00:00 for subject BLUE_ASIST2 in trial 1085c445-ec22-4fdf-9b9a-b992194de7d8. Text:  okay\n",
      "[WARN] No vocalic features detected for utterance between 2022-06-14T22:52:31.475355+00:00 and 2022-06-14T22:52:31.475355+00:00 for subject BLUE_ASIST2 in trial 1085c445-ec22-4fdf-9b9a-b992194de7d8. Text:  K2\n",
      "[WARN] No vocalic features detected for utterance between 2022-06-14T22:52:42.375355+00:00 and 2022-06-14T22:52:42.775355+00:00 for subject BLUE_ASIST2 in trial 1085c445-ec22-4fdf-9b9a-b992194de7d8. Text:  where are you\n",
      "[WARN] No vocalic features detected for utterance between 2022-06-14T22:52:51.528492+00:00 and 2022-06-14T22:52:54.128492+00:00 for subject BLUE_ASIST2 in trial 1085c445-ec22-4fdf-9b9a-b992194de7d8. Text: M2 for open ground\n",
      "[WARN] No vocalic features detected for utterance between 2022-06-14T22:52:59.328492+00:00 and 2022-06-14T22:52:59.328492+00:00 for subject BLUE_ASIST2 in trial 1085c445-ec22-4fdf-9b9a-b992194de7d8. Text:  help\n",
      "[WARN] No vocalic features detected for utterance between 2022-06-14T22:53:04.028492+00:00 and 2022-06-14T22:53:09.128492+00:00 for subject BLUE_ASIST2 in trial 1085c445-ec22-4fdf-9b9a-b992194de7d8. Text:  C other cell wall that's why\n",
      "[WARN] No vocalic features detected for utterance between 2022-06-14T22:53:14.528492+00:00 and 2022-06-14T22:53:15.028492+00:00 for subject BLUE_ASIST2 in trial 1085c445-ec22-4fdf-9b9a-b992194de7d8. Text:  okay C\n",
      "[WARN] No vocalic features detected for utterance between 2022-06-14T22:53:44.228492+00:00 and 2022-06-14T22:53:44.228492+00:00 for subject BLUE_ASIST2 in trial 1085c445-ec22-4fdf-9b9a-b992194de7d8. Text:  yep\n",
      "[WARN] No vocalic features detected for utterance between 2022-06-14T22:53:54.628492+00:00 and 2022-06-14T22:53:54.628492+00:00 for subject BLUE_ASIST2 in trial 1085c445-ec22-4fdf-9b9a-b992194de7d8. Text:  yeah\n",
      "[WARN] No vocalic features detected for utterance between 2022-06-14T22:54:04.728492+00:00 and 2022-06-14T22:54:06.628492+00:00 for subject BLUE_ASIST2 in trial 1085c445-ec22-4fdf-9b9a-b992194de7d8. Text:  and I want to trapped room as well be careful\n",
      "[WARN] No vocalic features detected for utterance between 2022-06-14T22:54:32.228492+00:00 and 2022-06-14T22:54:32.828492+00:00 for subject BLUE_ASIST2 in trial 1085c445-ec22-4fdf-9b9a-b992194de7d8. Text:  it's open right now\n",
      "[WARN] No vocalic features detected for utterance between 2022-06-14T22:54:47.928492+00:00 and 2022-06-14T22:54:48.628492+00:00 for subject BLUE_ASIST2 in trial 1085c445-ec22-4fdf-9b9a-b992194de7d8. Text:  I'll stay close\n",
      "[WARN] No vocalic features detected for utterance between 2022-06-14T22:54:57.328492+00:00 and 2022-06-14T22:55:00.728492+00:00 for subject BLUE_ASIST2 in trial 1085c445-ec22-4fdf-9b9a-b992194de7d8. Text:  okay he's awake I can do it\n",
      "[WARN] No vocalic features detected for utterance between 2022-06-14T22:55:03.428492+00:00 and 2022-06-14T22:55:04.928492+00:00 for subject BLUE_ASIST2 in trial 1085c445-ec22-4fdf-9b9a-b992194de7d8. Text:  and you are in what room\n",
      "[WARN] No vocalic features detected for utterance between 2022-06-14T22:55:19.028492+00:00 and 2022-06-14T22:55:19.428492+00:00 for subject BLUE_ASIST2 in trial 1085c445-ec22-4fdf-9b9a-b992194de7d8. Text:  let's go to die\n",
      "[WARN] No vocalic features detected for utterance between 2022-06-14T22:40:59.575276+00:00 and 2022-06-14T22:40:59.575276+00:00 for subject RED_ASIST_2 in trial 1085c445-ec22-4fdf-9b9a-b992194de7d8. Text: black\n",
      "[WARN] No vocalic features detected for utterance between 2022-06-14T22:41:58.875276+00:00 and 2022-06-14T22:42:04.075276+00:00 for subject RED_ASIST_2 in trial 1085c445-ec22-4fdf-9b9a-b992194de7d8. Text:  engineer this is my critical we start on B1 here with a critical question\n",
      "[WARN] No vocalic features detected for utterance between 2022-06-14T22:42:16.075276+00:00 and 2022-06-14T22:42:18.775276+00:00 for subject RED_ASIST_2 in trial 1085c445-ec22-4fdf-9b9a-b992194de7d8. Text:  this is medic red I'm transporting a victim I'll be back\n",
      "[WARN] No vocalic features detected for utterance between 2022-06-14T22:42:38.975276+00:00 and 2022-06-14T22:42:39.275276+00:00 for subject RED_ASIST_2 in trial 1085c445-ec22-4fdf-9b9a-b992194de7d8. Text:  that's C\n",
      "[WARN] No vocalic features detected for utterance between 2022-06-14T22:43:07.575276+00:00 and 2022-06-14T22:43:11.975276+00:00 for subject RED_ASIST_2 in trial 1085c445-ec22-4fdf-9b9a-b992194de7d8. Text:  this is medic red I did not commit wait that was when you say got sorry\n",
      "[WARN] No vocalic features detected for utterance between 2022-06-14T22:43:14.975276+00:00 and 2022-06-14T22:43:15.875276+00:00 for subject RED_ASIST_2 in trial 1085c445-ec22-4fdf-9b9a-b992194de7d8. Text:  I'll try markdown the future\n",
      "[WARN] No vocalic features detected for utterance between 2022-06-14T22:43:20.175276+00:00 and 2022-06-14T22:43:23.775276+00:00 for subject RED_ASIST_2 in trial 1085c445-ec22-4fdf-9b9a-b992194de7d8. Text:  I'll put a secondary marker never know if victim next 21 net of\n",
      "[WARN] No vocalic features detected for utterance between 2022-06-14T22:43:38.275276+00:00 and 2022-06-14T22:43:42.375276+00:00 for subject RED_ASIST_2 in trial 1085c445-ec22-4fdf-9b9a-b992194de7d8. Text:  could we move towards the critical victim and C1 it'll take me move that one yet\n",
      "[WARN] No vocalic features detected for utterance between 2022-06-14T22:43:46.975276+00:00 and 2022-06-14T22:43:47.475276+00:00 for subject RED_ASIST_2 in trial 1085c445-ec22-4fdf-9b9a-b992194de7d8. Text:  it down this way\n",
      "[WARN] No vocalic features detected for utterance between 2022-06-14T22:44:44.275276+00:00 and 2022-06-14T22:44:45.375276+00:00 for subject RED_ASIST_2 in trial 1085c445-ec22-4fdf-9b9a-b992194de7d8. Text:  I picked up the second one in the room\n",
      "[WARN] No vocalic features detected for utterance between 2022-06-14T22:44:53.436382+00:00 and 2022-06-14T22:44:53.836382+00:00 for subject RED_ASIST_2 in trial 1085c445-ec22-4fdf-9b9a-b992194de7d8. Text: we got that one\n",
      "[WARN] No vocalic features detected for utterance between 2022-06-14T22:44:55.436382+00:00 and 2022-06-14T22:44:55.436382+00:00 for subject RED_ASIST_2 in trial 1085c445-ec22-4fdf-9b9a-b992194de7d8. Text:  yeah\n",
      "[WARN] No vocalic features detected for utterance between 2022-06-14T22:45:15.036382+00:00 and 2022-06-14T22:45:20.336382+00:00 for subject RED_ASIST_2 in trial 1085c445-ec22-4fdf-9b9a-b992194de7d8. Text:  let's try moving towards E2 I think that's the closest one there I remember had people in it and also severe damage\n",
      "[WARN] No vocalic features detected for utterance between 2022-06-14T22:45:24.436382+00:00 and 2022-06-14T22:45:25.036382+00:00 for subject RED_ASIST_2 in trial 1085c445-ec22-4fdf-9b9a-b992194de7d8. Text:  that's right yeah\n",
      "[WARN] No vocalic features detected for utterance between 2022-06-14T22:45:27.536382+00:00 and 2022-06-14T22:45:28.036382+00:00 for subject RED_ASIST_2 in trial 1085c445-ec22-4fdf-9b9a-b992194de7d8. Text:  okay let's do that\n",
      "[WARN] No vocalic features detected for utterance between 2022-06-14T22:45:35.236382+00:00 and 2022-06-14T22:45:37.736382+00:00 for subject RED_ASIST_2 in trial 1085c445-ec22-4fdf-9b9a-b992194de7d8. Text:  can I have your help with the critical victim please this is medic red\n",
      "[WARN] No vocalic features detected for utterance between 2022-06-14T22:45:48.536382+00:00 and 2022-06-14T22:45:48.536382+00:00 for subject RED_ASIST_2 in trial 1085c445-ec22-4fdf-9b9a-b992194de7d8. Text:  go\n",
      "[WARN] No vocalic features detected for utterance between 2022-06-14T22:45:51.936382+00:00 and 2022-06-14T22:45:52.336382+00:00 for subject RED_ASIST_2 in trial 1085c445-ec22-4fdf-9b9a-b992194de7d8. Text:  he is C\n",
      "[WARN] No vocalic features detected for utterance between 2022-06-14T22:45:56.536382+00:00 and 2022-06-14T22:45:56.636382+00:00 for subject RED_ASIST_2 in trial 1085c445-ec22-4fdf-9b9a-b992194de7d8. Text:  I did\n",
      "[WARN] No vocalic features detected for utterance between 2022-06-14T22:46:02.836382+00:00 and 2022-06-14T22:46:07.936382+00:00 for subject RED_ASIST_2 in trial 1085c445-ec22-4fdf-9b9a-b992194de7d8. Text:  engineer where you moving towards E2 copy down following\n",
      "[WARN] No vocalic features detected for utterance between 2022-06-14T22:46:31.936382+00:00 and 2022-06-14T22:46:33.736382+00:00 for subject RED_ASIST_2 in trial 1085c445-ec22-4fdf-9b9a-b992194de7d8. Text:  have your help here thank you\n",
      "[WARN] No vocalic features detected for utterance between 2022-06-14T22:46:45.836382+00:00 and 2022-06-14T22:46:46.736382+00:00 for subject RED_ASIST_2 in trial 1085c445-ec22-4fdf-9b9a-b992194de7d8. Text:  I'm going to be transporting this victim\n",
      "[WARN] No vocalic features detected for utterance between 2022-06-14T22:47:15.736382+00:00 and 2022-06-14T22:47:17.536382+00:00 for subject RED_ASIST_2 in trial 1085c445-ec22-4fdf-9b9a-b992194de7d8. Text:  I am now just open\n",
      "[WARN] No vocalic features detected for utterance between 2022-06-14T22:47:22.436382+00:00 and 2022-06-14T22:47:28.836382+00:00 for subject RED_ASIST_2 in trial 1085c445-ec22-4fdf-9b9a-b992194de7d8. Text:  we are this is medic red we are currently trapped in G2 or we have transporter trapped\n",
      "[WARN] No vocalic features detected for utterance between 2022-06-14T22:47:31.436382+00:00 and 2022-06-14T22:47:32.136382+00:00 for subject RED_ASIST_2 in trial 1085c445-ec22-4fdf-9b9a-b992194de7d8. Text:  I'm going to see if I can actually\n",
      "[WARN] No vocalic features detected for utterance between 2022-06-14T22:47:34.536382+00:00 and 2022-06-14T22:47:34.536382+00:00 for subject RED_ASIST_2 in trial 1085c445-ec22-4fdf-9b9a-b992194de7d8. Text:  not\n",
      "[WARN] No vocalic features detected for utterance between 2022-06-14T22:47:41.736382+00:00 and 2022-06-14T22:47:42.236382+00:00 for subject RED_ASIST_2 in trial 1085c445-ec22-4fdf-9b9a-b992194de7d8. Text:  you can pick up\n",
      "[WARN] No vocalic features detected for utterance between 2022-06-14T22:47:54.936382+00:00 and 2022-06-14T22:48:00.636382+00:00 for subject RED_ASIST_2 in trial 1085c445-ec22-4fdf-9b9a-b992194de7d8. Text:  that's right yeah if you could do that when you come across a regular victims that would be help\n",
      "[WARN] No vocalic features detected for utterance between 2022-06-14T22:48:32.336382+00:00 and 2022-06-14T22:48:44.836382+00:00 for subject RED_ASIST_2 in trial 1085c445-ec22-4fdf-9b9a-b992194de7d8. Text:  transporter when you find this is medic red when you find regular victims could you start moving them to the zones and I will just be at the spoon\n",
      "[WARN] No vocalic features detected for utterance between 2022-06-14T22:49:26.395123+00:00 and 2022-06-14T22:49:28.895123+00:00 for subject RED_ASIST_2 in trial 1085c445-ec22-4fdf-9b9a-b992194de7d8. Text: yes that's why I'll be there I will be triaging room\n",
      "[WARN] No vocalic features detected for utterance between 2022-06-14T22:49:31.595123+00:00 and 2022-06-14T22:49:32.895123+00:00 for subject RED_ASIST_2 in trial 1085c445-ec22-4fdf-9b9a-b992194de7d8. Text: this will be the north Zone I take it\n",
      "[WARN] No vocalic features detected for utterance between 2022-06-14T22:49:40.395123+00:00 and 2022-06-14T22:49:44.795123+00:00 for subject RED_ASIST_2 in trial 1085c445-ec22-4fdf-9b9a-b992194de7d8. Text:  okay I guess for the regular victims we could take them South because those are still open\n",
      "[WARN] No vocalic features detected for utterance between 2022-06-14T22:49:48.995123+00:00 and 2022-06-14T22:49:50.795123+00:00 for subject RED_ASIST_2 in trial 1085c445-ec22-4fdf-9b9a-b992194de7d8. Text:  I am and I just dropped off someone in zone a\n",
      "[WARN] No vocalic features detected for utterance between 2022-06-14T22:49:52.895123+00:00 and 2022-06-14T22:49:58.895123+00:00 for subject RED_ASIST_2 in trial 1085c445-ec22-4fdf-9b9a-b992194de7d8. Text:  but if you could put them in front of Zone and C Zone C excuse me I will move them and diagnose them\n",
      "[WARN] No vocalic features detected for utterance between 2022-06-14T22:50:20.495123+00:00 and 2022-06-14T22:50:20.695123+00:00 for subject RED_ASIST_2 in trial 1085c445-ec22-4fdf-9b9a-b992194de7d8. Text:  just clear\n",
      "[WARN] No vocalic features detected for utterance between 2022-06-14T22:50:47.395123+00:00 and 2022-06-14T22:50:50.095123+00:00 for subject RED_ASIST_2 in trial 1085c445-ec22-4fdf-9b9a-b992194de7d8. Text:  all right let's this is a hazard let's watch out for that\n",
      "[WARN] No vocalic features detected for utterance between 2022-06-14T22:50:55.595123+00:00 and 2022-06-14T22:50:59.395123+00:00 for subject RED_ASIST_2 in trial 1085c445-ec22-4fdf-9b9a-b992194de7d8. Text:  I think if we don't step on the hazard room might be okay if you want to lock in because I'm still here\n",
      "[WARN] No vocalic features detected for utterance between 2022-06-14T22:51:06.995123+00:00 and 2022-06-14T22:51:07.295123+00:00 for subject RED_ASIST_2 in trial 1085c445-ec22-4fdf-9b9a-b992194de7d8. Text:  yes you are\n",
      "[WARN] No vocalic features detected for utterance between 2022-06-14T22:51:10.495123+00:00 and 2022-06-14T22:51:12.295123+00:00 for subject RED_ASIST_2 in trial 1085c445-ec22-4fdf-9b9a-b992194de7d8. Text:  did you pick that pick up that victim there we go\n",
      "[WARN] No vocalic features detected for utterance between 2022-06-14T22:51:23.695123+00:00 and 2022-06-14T22:51:26.795123+00:00 for subject RED_ASIST_2 in trial 1085c445-ec22-4fdf-9b9a-b992194de7d8. Text:  i3a all right let's all move towards that\n",
      "[WARN] No vocalic features detected for utterance between 2022-06-14T22:51:48.195123+00:00 and 2022-06-14T22:51:55.095123+00:00 for subject RED_ASIST_2 in trial 1085c445-ec22-4fdf-9b9a-b992194de7d8. Text:  this is Mac red where do you see the critical victims room I C I see on a map thank you\n",
      "[WARN] No vocalic features detected for utterance between 2022-06-14T22:52:26.695123+00:00 and 2022-06-14T22:52:30.595123+00:00 for subject RED_ASIST_2 in trial 1085c445-ec22-4fdf-9b9a-b992194de7d8. Text:  once you're ready if I can get immediate help with this critical victims that b appreciated this is my grid\n",
      "[WARN] No vocalic features detected for utterance between 2022-06-14T22:52:37.295123+00:00 and 2022-06-14T22:52:39.995123+00:00 for subject RED_ASIST_2 in trial 1085c445-ec22-4fdf-9b9a-b992194de7d8. Text:  help just making sure thank you\n",
      "[WARN] No vocalic features detected for utterance between 2022-06-14T22:53:38.043263+00:00 and 2022-06-14T22:53:42.743263+00:00 for subject RED_ASIST_2 in trial 1085c445-ec22-4fdf-9b9a-b992194de7d8. Text: we all move towards I3 now\n",
      "[WARN] No vocalic features detected for utterance between 2022-06-14T22:54:02.543263+00:00 and 2022-06-14T22:54:02.943263+00:00 for subject RED_ASIST_2 in trial 1085c445-ec22-4fdf-9b9a-b992194de7d8. Text: let's all do this\n",
      "[WARN] No vocalic features detected for utterance between 2022-06-14T22:54:08.243263+00:00 and 2022-06-14T22:54:08.243263+00:00 for subject RED_ASIST_2 in trial 1085c445-ec22-4fdf-9b9a-b992194de7d8. Text:  okay\n",
      "[WARN] No vocalic features detected for utterance between 2022-06-14T22:54:11.343263+00:00 and 2022-06-14T22:54:14.543263+00:00 for subject RED_ASIST_2 in trial 1085c445-ec22-4fdf-9b9a-b992194de7d8. Text:  yeah thank you I'll need help the books\n",
      "[WARN] No vocalic features detected for utterance between 2022-06-14T22:54:19.043263+00:00 and 2022-06-14T22:54:21.643263+00:00 for subject RED_ASIST_2 in trial 1085c445-ec22-4fdf-9b9a-b992194de7d8. Text:  and we could transport this person and B A Lie thank you\n",
      "[WARN] No vocalic features detected for utterance between 2022-06-14T22:54:32.943263+00:00 and 2022-06-14T22:54:35.243263+00:00 for subject RED_ASIST_2 in trial 1085c445-ec22-4fdf-9b9a-b992194de7d8. Text:  I marked a normal victim in there\n",
      "[WARN] No vocalic features detected for utterance between 2022-06-14T22:54:41.143263+00:00 and 2022-06-14T22:54:44.743263+00:00 for subject RED_ASIST_2 in trial 1085c445-ec22-4fdf-9b9a-b992194de7d8. Text:  that's a type A I've marked I'm not sure if I ever remember to mark that\n",
      "[WARN] No vocalic features detected for utterance between 2022-06-14T22:54:49.443263+00:00 and 2022-06-14T22:54:53.143263+00:00 for subject RED_ASIST_2 in trial 1085c445-ec22-4fdf-9b9a-b992194de7d8. Text:  engineer could I have you in here for a critical\n",
      "[WARN] No vocalic features detected for utterance between 2022-06-14T22:54:58.543263+00:00 and 2022-06-14T22:55:00.543263+00:00 for subject RED_ASIST_2 in trial 1085c445-ec22-4fdf-9b9a-b992194de7d8. Text:  all right I'm going to get this person and then you can go\n",
      "[WARN] No vocalic features detected for utterance between 2022-06-14T22:55:16.743263+00:00 and 2022-06-14T22:55:18.243263+00:00 for subject RED_ASIST_2 in trial 1085c445-ec22-4fdf-9b9a-b992194de7d8. Text:  you have 20 seconds let's just focus on points\n",
      "[WARN] No vocalic features detected for utterance between 2022-06-14T22:55:23.643263+00:00 and 2022-06-14T22:55:25.543263+00:00 for subject RED_ASIST_2 in trial 1085c445-ec22-4fdf-9b9a-b992194de7d8. Text:  get those critical victims in if you if you have them\n"
     ]
    }
   ],
   "source": [
    "trial_saturn_A_273 = Trial(metadata_path_A_273, ignore_outside_mission=True, no_vocalics=False)"
   ]
  },
  {
   "cell_type": "code",
   "execution_count": 10,
   "metadata": {},
   "outputs": [
    {
     "name": "stdout",
     "output_type": "stream",
     "text": [
      "Total number of utterances is 239\n",
      "There are 206 utterances that do not have any vocalics\n",
      "Earliest utterance timestamp is 2022-06-14T22:38:43.849651+00:00\n",
      "Latest utterance timestamp is 2022-06-14T22:55:34.257134+00:00\n",
      "Earliest vocalic timestamp is 2022-06-14T22:38:43.882570+00:00\n",
      "Latest vocalic timestamp is 2022-06-14T22:41:53.700726+00:00\n"
     ]
    }
   ],
   "source": [
    "analyze_utterances(trial_saturn_A_273.utterances_per_subject)"
   ]
  },
  {
   "cell_type": "code",
   "execution_count": 11,
   "metadata": {},
   "outputs": [
    {
     "data": {
      "text/plain": [
       "'2022-06-14T22:38:37.039000+00:00'"
      ]
     },
     "execution_count": 11,
     "metadata": {},
     "output_type": "execute_result"
    }
   ],
   "source": [
    "trial_saturn_A_273.start.isoformat()"
   ]
  },
  {
   "cell_type": "code",
   "execution_count": 12,
   "metadata": {},
   "outputs": [
    {
     "data": {
      "text/plain": [
       "'2022-06-14T22:55:41.040000+00:00'"
      ]
     },
     "execution_count": 12,
     "metadata": {},
     "output_type": "execute_result"
    }
   ],
   "source": [
    "trial_saturn_A_273.end.isoformat()"
   ]
  },
  {
   "cell_type": "code",
   "execution_count": 13,
   "metadata": {},
   "outputs": [
    {
     "name": "stdout",
     "output_type": "stream",
     "text": [
      "[ERROR] Bad json line of len: 1442, {\"@version\":\"1\",\"host\":\"d42ec893b18e\",\"@timestamp\":\"2022-06-14T23:00:00.379Z\",\"msg\":{\"trial_id\":\"517cab57-6962-4056-b386-6fff796140f1\",\"experiment_id\":\"93027e07-7379-45ae-971a-258fa6c43da2\",\"sub_type\":\"start\",\"timestamp\":\"2022-06-14T23:00:00.3776Z\",\"source\":\"gui\",\"replay_parent_type\":null,\"version\":\"0.1\",\"replay_parent_id\":null,\"replay_id\":null},\"topic\":\"trial\",\"data\":{\"client_info\":[{\"markerblocklegend\":\"\",\"unique_id\":\"E001002\",\"participant_id\":\"E001002\",\"staticmapversion\":\"\",\"callsign\":\"Red\",\"playername\":\"RED_ASIST_2\"},{\"markerblocklegend\":\"\",\"unique_id\":\"E000880\",\"participant_id\":\"E000880\",\"staticmapversion\":\"\",\"callsign\":\"Green\",\"playername\":\"GREEN_ASIST2\"},{\"markerblocklegend\":\"\",\"unique_id\":\"E000771\",\"participant_id\":\"E000771\",\"staticmapversion\":\"\",\"callsign\":\"Blue\",\"playername\":\"BLUE_ASIST2\"}],\"trial_number\":\"T000746\",\"group_number\":\"7\",\"experiment_mission\":\"Saturn_D\",\"experiment_author\":\"JL/XY\",\"experimenter\":\"JL/XY\",\"experiment_date\":\"2022-06-14T23:00:00.3781Z\",\"testbed_version\":\"5_13_2022_FULL_TRIALS-34-ga049588a\",\"map_name\":\"Saturn_2.6_3D\",\"name\":\"TM000273_T000746\",\"study_number\":\"3\",\"notes\":[\"na\"],\"date\":\"2022-06-14T23:00:00.3777Z\",\"subjects\":[\"E001002\",\" E000880\",\" E000771\"],\"experiment_name\":\"TM000273\",\"intervention_agents\":[\"ASI_UAZ_TA1_ToMCAT\"],\"condition\":\"7\",\"map_block_filename\":\"MapBlocks_SaturnD_2.3_xyz.csv\"},\"header\":{\"message_type\":\"trial\",\"version\":\"0.6\",\"timestamp\":\"2022-06-14T23:00:00.3776Z\"}}\n",
      "\n",
      "[ERROR] Bad json line of len: 1441, {\"@version\":\"1\",\"host\":\"d42ec893b18e\",\"@timestamp\":\"2022-06-14T23:30:11.541Z\",\"msg\":{\"trial_id\":\"517cab57-6962-4056-b386-6fff796140f1\",\"experiment_id\":\"93027e07-7379-45ae-971a-258fa6c43da2\",\"sub_type\":\"stop\",\"timestamp\":\"2022-06-14T23:30:11.5399Z\",\"source\":\"gui\",\"replay_parent_type\":null,\"version\":\"0.1\",\"replay_parent_id\":null,\"replay_id\":null},\"topic\":\"trial\",\"data\":{\"client_info\":[{\"markerblocklegend\":\"\",\"unique_id\":\"E001002\",\"participant_id\":\"E001002\",\"staticmapversion\":\"\",\"callsign\":\"Red\",\"playername\":\"RED_ASIST_2\"},{\"markerblocklegend\":\"\",\"unique_id\":\"E000880\",\"participant_id\":\"E000880\",\"staticmapversion\":\"\",\"callsign\":\"Green\",\"playername\":\"GREEN_ASIST2\"},{\"markerblocklegend\":\"\",\"unique_id\":\"E000771\",\"participant_id\":\"E000771\",\"staticmapversion\":\"\",\"callsign\":\"Blue\",\"playername\":\"BLUE_ASIST2\"}],\"trial_number\":\"T000746\",\"group_number\":\"7\",\"experiment_mission\":\"Saturn_D\",\"experiment_author\":\"JL/XY\",\"experimenter\":\"JL/XY\",\"experiment_date\":\"2022-06-14T23:00:00.3781Z\",\"testbed_version\":\"5_13_2022_FULL_TRIALS-34-ga049588a\",\"map_name\":\"Saturn_2.6_3D\",\"name\":\"TM000273_T000746\",\"study_number\":\"3\",\"notes\":[\"na\"],\"date\":\"2022-06-14T23:00:00.3777Z\",\"subjects\":[\"E001002\",\" E000880\",\" E000771\"],\"experiment_name\":\"TM000273\",\"intervention_agents\":[\"ASI_UAZ_TA1_ToMCAT\"],\"condition\":\"7\",\"map_block_filename\":\"MapBlocks_SaturnD_2.3_xyz.csv\"},\"header\":{\"message_type\":\"trial\",\"version\":\"0.6\",\"timestamp\":\"2022-06-14T23:30:11.5399Z\"}}\n",
      "\n"
     ]
    },
    {
     "name": "stderr",
     "output_type": "stream",
     "text": [
      "100%|██████████| 304/304 [00:00<00:00, 8362.69it/s]\n"
     ]
    },
    {
     "name": "stdout",
     "output_type": "stream",
     "text": [
      "[WARN] No vocalic feature found for subject GREEN_ASIST2.\n",
      "[WARN] No vocalic feature found for subject BLUE_ASIST2.\n",
      "[WARN] No vocalic feature found for subject RED_ASIST_2.\n"
     ]
    }
   ],
   "source": [
    "trial_saturn_B_273 = Trial(metadata_path_B_273, ignore_outside_mission=True, no_vocalics=False)"
   ]
  },
  {
   "cell_type": "code",
   "execution_count": 14,
   "metadata": {},
   "outputs": [
    {
     "data": {
      "text/plain": [
       "'2022-06-14T23:10:05.749000+00:00'"
      ]
     },
     "execution_count": 14,
     "metadata": {},
     "output_type": "execute_result"
    }
   ],
   "source": [
    "trial_saturn_B_273.start.isoformat()"
   ]
  },
  {
   "cell_type": "code",
   "execution_count": 15,
   "metadata": {},
   "outputs": [
    {
     "data": {
      "text/plain": [
       "'2022-06-14T23:27:09.751000+00:00'"
      ]
     },
     "execution_count": 15,
     "metadata": {},
     "output_type": "execute_result"
    }
   ],
   "source": [
    "trial_saturn_B_273.end.isoformat()"
   ]
  }
 ],
 "metadata": {
  "kernelspec": {
   "display_name": "Python 3.7.5 ('coordination')",
   "language": "python",
   "name": "python3"
  },
  "language_info": {
   "codemirror_mode": {
    "name": "ipython",
    "version": 3
   },
   "file_extension": ".py",
   "mimetype": "text/x-python",
   "name": "python",
   "nbconvert_exporter": "python",
   "pygments_lexer": "ipython3",
   "version": "3.7.5"
  },
  "orig_nbformat": 4,
  "vscode": {
   "interpreter": {
    "hash": "a5630dbfe6748d7b8cae07c9ccd3d599dd9abcb664008d96dadf4c34b4c15542"
   }
  }
 },
 "nbformat": 4,
 "nbformat_minor": 2
}
