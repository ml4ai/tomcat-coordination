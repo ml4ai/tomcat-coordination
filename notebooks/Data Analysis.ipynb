{
 "cells": [
  {
   "cell_type": "code",
   "execution_count": 4,
   "id": "b7b085c9",
   "metadata": {},
   "outputs": [],
   "source": [
    "%load_ext autoreload\n",
    "%autoreload 2\n",
    "%config InlineBackend.figure_format = 'retina'\n",
    "import sys\n",
    "sys.path.append(\"../.venv/lib/python3.9/site-packages/\")\n",
    "sys.path.append(\"..\")"
   ]
  },
  {
   "cell_type": "code",
   "execution_count": 14,
   "id": "ce70fc57",
   "metadata": {},
   "outputs": [],
   "source": [
    "from typing import Any\n",
    "\n",
    "import pickle\n",
    "\n",
    "import matplotlib.pyplot as plt\n",
    "import numpy as np\n",
    "from scipy.stats import ttest_rel\n",
    "\n",
    "from formatting import set_size\n",
    "\n",
    "from coordination.model.coordination_blending_latent_vocalics import LatentVocalicsDataset"
   ]
  },
  {
   "cell_type": "code",
   "execution_count": 15,
   "id": "b31ef0cb",
   "metadata": {},
   "outputs": [],
   "source": [
    "PLOTS_DIR = \"/Users/paulosoares/manuscript/experimental_agenda/figures\"\n",
    "\n",
    "def save_plot(fig: Any, name: str):\n",
    "    fig.savefig(f\"{PLOTS_DIR}/{name}.pdf\", format='pdf', bbox_inches='tight')"
   ]
  },
  {
   "cell_type": "code",
   "execution_count": 16,
   "id": "cc76dfc1",
   "metadata": {},
   "outputs": [],
   "source": [
    "def load_datasets(advisor: str):\n",
    "    with open(f\"../data/study-3_2022/{advisor}/datasets/mission1_dataset.pkl\", \"rb\") as f:\n",
    "        mission1_dataset = pickle.load(f)\n",
    "    \n",
    "    with open(f\"../data/study-3_2022/{advisor}/datasets/mission2_dataset.pkl\", \"rb\") as f:\n",
    "        mission2_dataset = pickle.load(f)\n",
    "    \n",
    "    with open(f\"../data/study-3_2022/{advisor}/datasets/all_missions_dataset.pkl\", \"rb\") as f:\n",
    "        all_missions_dataset = pickle.load(f)\n",
    "    \n",
    "    return mission1_dataset, mission2_dataset, all_missions_dataset"
   ]
  },
  {
   "cell_type": "code",
   "execution_count": 17,
   "id": "b1d38041",
   "metadata": {},
   "outputs": [],
   "source": [
    "def get_ages_and_genders(mission1_dataset: LatentVocalicsDataset, mission2_dataset: LatentVocalicsDataset):\n",
    "    \"\"\"\n",
    "    Gets ages and genders for distinct teams. If there are entries for mission 1 and mission 2 of the same team,\n",
    "    it only stores player's age and gender once\n",
    "    \"\"\"\n",
    "    ages = {}  # trial_number: players' age\n",
    "    genders = {}  # trial_number: players' gender\n",
    "        \n",
    "    for i in range(mission1_dataset.num_trials):\n",
    "        mission1_trial_number = int(mission1_dataset.series[i].uuid[1:])\n",
    "        ages[mission1_trial_number] = mission1_dataset.ages[i]\n",
    "        genders[mission1_trial_number] = mission1_dataset.genders[i]\n",
    "        \n",
    "    for i in range(mission2_dataset.num_trials):\n",
    "        mission2_trial_number = int(mission2_dataset.series[i].uuid[1:])\n",
    "        mission1_trial_number = mission2_trial_number - 1\n",
    "        \n",
    "        if mission1_trial_number not in ages.keys():\n",
    "            ages[mission2_trial_number] = mission2_dataset.ages[i]\n",
    "            genders[mission2_trial_number] = mission2_dataset.genders[i]\n",
    "    \n",
    "    # Remove non-informed ages (<= 0)\n",
    "    ages = [age for ages_per_player in ages.values() for age in ages_per_player if age > 0]\n",
    "    genders = [gender for genders_per_player in genders.values() for gender in genders_per_player]\n",
    "    \n",
    "    return ages, genders\n",
    "\n",
    "def get_paired_outcome_measures(mission1_dataset: LatentVocalicsDataset, mission2_dataset: LatentVocalicsDataset):\n",
    "    \"\"\"\n",
    "    Gets outcome measures (score and surveys) for the same teams in mission 1 and 2. Ignores data from\n",
    "    trials with only one mission.\n",
    "    \"\"\"\n",
    "    \n",
    "    mission1 = {}\n",
    "    mission2 = {}\n",
    "    mission1_trial_numbers = []\n",
    "        \n",
    "    for i in range(mission1_dataset.num_trials):\n",
    "        mission_trial_number = int(mission1_dataset.series[i].uuid[1:])\n",
    "        mission1[mission_trial_number] = (\n",
    "            mission1_dataset.team_scores[i],\n",
    "            mission1_dataset.team_process_surveys[i],\n",
    "            mission1_dataset.team_satisfaction_surveys[i],\n",
    "        )\n",
    "        \n",
    "    for i in range(mission2_dataset.num_trials):\n",
    "        mission_trial_number = int(mission2_dataset.series[i].uuid[1:])\n",
    "        if mission_trial_number - 1 in mission1:\n",
    "            # Only add if exists an entry for mission 1\n",
    "            mission1_trial_numbers.append(mission_trial_number - 1)\n",
    "        \n",
    "            mission2[mission_trial_number] = (\n",
    "                mission2_dataset.team_scores[i],\n",
    "                mission2_dataset.team_process_surveys[i],\n",
    "                mission2_dataset.team_satisfaction_surveys[i],\n",
    "            )\n",
    "    \n",
    "    scores1 = []\n",
    "    scores2 = []\n",
    "    process_survey1 = []\n",
    "    process_survey2 = []\n",
    "    satisfaction_survey1 = []\n",
    "    satisfaction_survey2 = []\n",
    "    for mission1_trial_number in mission1_trial_numbers:\n",
    "        scores1.append(mission1[mission1_trial_number][0])\n",
    "        scores2.append(mission2[mission1_trial_number + 1][0])\n",
    "        \n",
    "        process_survey1.append(np.mean(mission1[mission1_trial_number][1]))\n",
    "        process_survey2.append(np.mean(mission2[mission1_trial_number + 1][1]))\n",
    "        \n",
    "        satisfaction_survey1.append(np.mean(mission1[mission1_trial_number][2]))\n",
    "        satisfaction_survey2.append(np.mean(mission2[mission1_trial_number + 1][2]))\n",
    "    \n",
    "    return (scores1, process_survey1, satisfaction_survey1), (scores2, process_survey2, satisfaction_survey2)"
   ]
  },
  {
   "cell_type": "code",
   "execution_count": 18,
   "id": "f804cf37",
   "metadata": {},
   "outputs": [],
   "source": [
    "# Loading all datasets\n",
    "tomcat_m1_dataset, tomcat_m2_dataset, tomcat_all_dataset = load_datasets(\"tomcat_advisor\")\n",
    "human_m1_dataset, human_m2_dataset, human_all_dataset = load_datasets(\"human_advisor\")\n",
    "no_m1_dataset, no_m2_dataset, no_all_dataset = load_datasets(\"no_advisor\")\n",
    "\n",
    "# All advisor conditions\n",
    "m1_dataset = tomcat_m1_dataset.merge(human_m1_dataset).merge(no_m1_dataset)\n",
    "m2_dataset = tomcat_m2_dataset.merge(human_m2_dataset).merge(no_m2_dataset)\n",
    "all_dataset = tomcat_all_dataset.merge(human_all_dataset).merge(no_all_dataset)"
   ]
  },
  {
   "cell_type": "markdown",
   "id": "49ec006c",
   "metadata": {},
   "source": [
    "# Demographics"
   ]
  },
  {
   "cell_type": "code",
   "execution_count": 6,
   "id": "1f07fde1",
   "metadata": {},
   "outputs": [],
   "source": [
    "ages, genders = get_ages_and_genders(m1_dataset, m2_dataset)"
   ]
  },
  {
   "cell_type": "code",
   "execution_count": 32,
   "id": "80845d04",
   "metadata": {},
   "outputs": [
    {
     "name": "stdout",
     "output_type": "stream",
     "text": [
      "Age: 21.74380165289256 +/- 5.748918584071117\n",
      "\n",
      "Male: 73.98373983739837%\n",
      "Female: 20.32520325203252%\n",
      "Undetermined: 5.691056910569106%\n"
     ]
    },
    {
     "data": {
      "image/png": "[encoded data removed]",
      "text/plain": [
       "<Figure size 210.627x130.175 with 1 Axes>"
      ]
     },
     "metadata": {
      "image/png": {
       "height": 162,
       "width": 227
      }
     },
     "output_type": "display_data"
    }
   ],
   "source": [
    "print(f\"Age: {np.mean(ages)} +/- {np.std(ages)}\")\n",
    "\n",
    "gender_map = {0: \"Male\", 1: \"Female\", 2: \"N.A.\", 3: \"N.A.\"}\n",
    "gender_bar = {gender: 0 for gender in gender_map.values()}\n",
    "for gender in genders:\n",
    "    gender_bar[gender_map[gender]] += 1\n",
    "    \n",
    "total_players = len(genders)\n",
    "print(\"\")\n",
    "print(f\"Male: {100 * gender_bar['Male']/total_players}%\")\n",
    "print(f\"Female: {100 * gender_bar['Female']/total_players}%\")\n",
    "print(f\"Undetermined: {100 * gender_bar['N.A.']/total_players}%\")\n",
    "\n",
    "plt.style.use(\"research_notebook\")\n",
    "fig, ax = plt.subplots(1, 1, figsize=set_size(\"research_notebook\", fraction=0.5))\n",
    "_ = ax.bar(gender_bar.keys(), gender_bar.values())\n",
    "# ax.plot(xs, ys1, marker=\"o\", markersize=3)\n",
    "# ax.fill_between(xs, ys1 - errs1, ys1 + errs1, alpha=0.5)\n",
    "# ax.plot(xs, ys2, marker=\"o\", markersize=3)\n",
    "# ax.fill_between(xs, ys2 - errs2, ys2 + errs2, alpha=0.5)\n",
    "# ax.set_xlim(0, T)\n",
    "_ = ax.set_xlabel(r\"Gender\")\n",
    "_ = ax.set_ylabel(r\"\\#Players\")\n",
    "\n",
    "save_plot(fig, \"genders_bar\")"
   ]
  },
  {
   "cell_type": "markdown",
   "id": "a142d4e8",
   "metadata": {},
   "source": [
    "# No Advisor"
   ]
  },
  {
   "cell_type": "code",
   "execution_count": 30,
   "id": "2a5feff4",
   "metadata": {},
   "outputs": [
    {
     "name": "stdout",
     "output_type": "stream",
     "text": [
      "Num Mission 1 Trials: 12\n",
      "Num Mission 2 Trials: 14\n"
     ]
    }
   ],
   "source": [
    "print(f\"Num Mission 1 Trials: {no_m1_dataset.num_trials}\")\n",
    "print(f\"Num Mission 2 Trials: {no_m2_dataset.num_trials}\")"
   ]
  },
  {
   "cell_type": "markdown",
   "id": "f491af20",
   "metadata": {},
   "source": [
    "##     Mission 1 vs Mission 2 Hypotheses\n",
    "\n",
    "$H_0$: Average outcome measure is equal or smaller in mission 2 for the same team\n",
    "\n",
    "$H_1$: Average outcome measure is larger in mission 2 for the same team "
   ]
  },
  {
   "cell_type": "code",
   "execution_count": 55,
   "id": "cdb7604b",
   "metadata": {},
   "outputs": [
    {
     "name": "stdout",
     "output_type": "stream",
     "text": [
      "p-values\n",
      "Score: 0.0032\n",
      "Process Scale: 0.0015\n",
      "Satisfaction: 0.0130\n"
     ]
    }
   ],
   "source": [
    "(scores1, process_survey1, satisfaction_survey1), (scores2, process_survey2, satisfaction_survey2) = get_paired_outcome_measures(no_m1_dataset, no_m2_dataset)\n",
    "\n",
    "_, pval_score = ttest_rel(scores1, scores2, alternative=\"less\")\n",
    "_, pval_process = ttest_rel(process_survey1, process_survey2, alternative=\"less\")\n",
    "_, pval_satisfaction = ttest_rel(satisfaction_survey1, satisfaction_survey2, alternative=\"less\")\n",
    "\n",
    "print(\"p-values\")\n",
    "print(f\"Score: {pval_score:.4f}\")\n",
    "print(f\"Process Scale: {pval_process:.4f}\")\n",
    "print(f\"Satisfaction: {pval_satisfaction:.4f}\")"
   ]
  },
  {
   "cell_type": "markdown",
   "id": "8bf61fff",
   "metadata": {},
   "source": [
    "# Human Advisor"
   ]
  },
  {
   "cell_type": "code",
   "execution_count": 31,
   "id": "a54cc8b5",
   "metadata": {},
   "outputs": [
    {
     "name": "stdout",
     "output_type": "stream",
     "text": [
      "Num Mission 1 Trials: 12\n",
      "Num Mission 2 Trials: 14\n"
     ]
    }
   ],
   "source": [
    "print(f\"Num Mission 1 Trials: {human_m1_dataset.num_trials}\")\n",
    "print(f\"Num Mission 2 Trials: {human_m2_dataset.num_trials}\")"
   ]
  },
  {
   "cell_type": "markdown",
   "id": "2de0393a",
   "metadata": {},
   "source": [
    "##     Mission 1 vs Mission 2 Hypotheses\n",
    "\n",
    "$H_0$: Average outcome measure is equal or smaller in mission 2 for the same team\n",
    "\n",
    "$H_1$: Average outcome measure is larger in mission 2 for the same team "
   ]
  },
  {
   "cell_type": "code",
   "execution_count": 56,
   "id": "c0febe0b",
   "metadata": {},
   "outputs": [
    {
     "name": "stdout",
     "output_type": "stream",
     "text": [
      "p-values\n",
      "Score: 0.0111\n",
      "Process Scale: 0.0063\n",
      "Satisfaction: 0.0240\n"
     ]
    }
   ],
   "source": [
    "(scores1, process_survey1, satisfaction_survey1), (scores2, process_survey2, satisfaction_survey2) = get_paired_outcome_measures(human_m1_dataset, human_m2_dataset)\n",
    "\n",
    "_, pval_score = ttest_rel(scores1, scores2, alternative=\"less\")\n",
    "_, pval_process = ttest_rel(process_survey1, process_survey2, alternative=\"less\")\n",
    "_, pval_satisfaction = ttest_rel(satisfaction_survey1, satisfaction_survey2, alternative=\"less\")\n",
    "\n",
    "print(\"p-values\")\n",
    "print(f\"Score: {pval_score:.4f}\")\n",
    "print(f\"Process Scale: {pval_process:.4f}\")\n",
    "print(f\"Satisfaction: {pval_satisfaction:.4f}\")"
   ]
  },
  {
   "cell_type": "markdown",
   "id": "3d86c9e0",
   "metadata": {},
   "source": [
    "# ToMCAT Advisor"
   ]
  },
  {
   "cell_type": "code",
   "execution_count": 29,
   "id": "101eaf3c",
   "metadata": {},
   "outputs": [
    {
     "name": "stdout",
     "output_type": "stream",
     "text": [
      "Num Mission 1 Trials: 12\n",
      "Num Mission 2 Trials: 13\n"
     ]
    }
   ],
   "source": [
    "print(f\"Num Mission 1 Trials: {tomcat_m1_dataset.num_trials}\")\n",
    "print(f\"Num Mission 2 Trials: {tomcat_m2_dataset.num_trials}\")"
   ]
  },
  {
   "cell_type": "markdown",
   "id": "b8f1ecc6",
   "metadata": {},
   "source": [
    "##     Mission 1 vs Mission 2 Hypotheses\n",
    "\n",
    "$H_0$: Average outcome measure is equal or smaller in mission 2 for the same team\n",
    "\n",
    "$H_1$: Average outcome measure is larger in mission 2 for the same team "
   ]
  },
  {
   "cell_type": "code",
   "execution_count": 57,
   "id": "5d48e609",
   "metadata": {},
   "outputs": [
    {
     "name": "stdout",
     "output_type": "stream",
     "text": [
      "p-values\n",
      "Score: 0.0346\n",
      "Process Scale: 0.0030\n",
      "Satisfaction: 0.0015\n"
     ]
    }
   ],
   "source": [
    "(scores1, process_survey1, satisfaction_survey1), (scores2, process_survey2, satisfaction_survey2) = get_paired_outcome_measures(tomcat_m1_dataset, tomcat_m2_dataset)\n",
    "\n",
    "_, pval_score = ttest_rel(scores1, scores2, alternative=\"less\")\n",
    "_, pval_process = ttest_rel(process_survey1, process_survey2, alternative=\"less\")\n",
    "_, pval_satisfaction = ttest_rel(satisfaction_survey1, satisfaction_survey2, alternative=\"less\")\n",
    "\n",
    "print(\"p-values\")\n",
    "print(f\"Score: {pval_score:.4f}\")\n",
    "print(f\"Process Scale: {pval_process:.4f}\")\n",
    "print(f\"Satisfaction: {pval_satisfaction:.4f}\")"
   ]
  },
  {
   "cell_type": "markdown",
   "id": "18f7c55a",
   "metadata": {},
   "source": [
    "# All Conditions"
   ]
  },
  {
   "cell_type": "code",
   "execution_count": 33,
   "id": "e2d9e321",
   "metadata": {},
   "outputs": [
    {
     "name": "stdout",
     "output_type": "stream",
     "text": [
      "Num Mission 1 Trials: 36\n",
      "Num Mission 2 Trials: 41\n"
     ]
    }
   ],
   "source": [
    "print(f\"Num Mission 1 Trials: {m1_dataset.num_trials}\")\n",
    "print(f\"Num Mission 2 Trials: {m2_dataset.num_trials}\")"
   ]
  },
  {
   "cell_type": "markdown",
   "id": "8fa42e00",
   "metadata": {},
   "source": [
    "##     Mission 1 vs Mission 2 Hypotheses\n",
    "\n",
    "$H_0$: Average outcome measure is equal or smaller in mission 2 for the same team\n",
    "\n",
    "$H_1$: Average outcome measure is larger in mission 2 for the same team "
   ]
  },
  {
   "cell_type": "code",
   "execution_count": 54,
   "id": "e1bdc842",
   "metadata": {},
   "outputs": [
    {
     "name": "stdout",
     "output_type": "stream",
     "text": [
      "p-values\n",
      "Score: 2.0546426436933413e-05\n",
      "Process Scale: 5.573795132963156e-07\n",
      "Satisfaction: 9.173952128206993e-06\n"
     ]
    }
   ],
   "source": [
    "(scores1, process_survey1, satisfaction_survey1), (scores2, process_survey2, satisfaction_survey2) = get_paired_outcome_measures(m1_dataset, m2_dataset)\n",
    "\n",
    "_, pval_score = ttest_rel(scores1, scores2, alternative=\"less\")\n",
    "_, pval_process = ttest_rel(process_survey1, process_survey2, alternative=\"less\")\n",
    "_, pval_satisfaction = ttest_rel(satisfaction_survey1, satisfaction_survey2, alternative=\"less\")\n",
    "\n",
    "print(\"p-values\")\n",
    "print(f\"Score: {pval_score}\")\n",
    "print(f\"Process Scale: {pval_process}\")\n",
    "print(f\"Satisfaction: {pval_satisfaction}\")"
   ]
  }
 ],
 "metadata": {
  "kernelspec": {
   "display_name": "venv",
   "language": "python",
   "name": "venv"
  },
  "language_info": {
   "codemirror_mode": {
    "name": "ipython",
    "version": 3
   },
   "file_extension": ".py",
   "mimetype": "text/x-python",
   "name": "python",
   "nbconvert_exporter": "python",
   "pygments_lexer": "ipython3",
   "version": "3.9.13"
  }
 },
 "nbformat": 4,
 "nbformat_minor": 5
}
