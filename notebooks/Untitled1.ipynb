{
 "cells": [
  {
   "cell_type": "code",
   "execution_count": 1,
   "id": "759c4c65",
   "metadata": {},
   "outputs": [],
   "source": [
    "import numpy as np"
   ]
  },
  {
   "cell_type": "code",
   "execution_count": 5,
   "id": "d82ca2e9",
   "metadata": {},
   "outputs": [],
   "source": [
    "V = np.random.rand(3, 2, 5)"
   ]
  },
  {
   "cell_type": "code",
   "execution_count": 6,
   "id": "e82bd4f6",
   "metadata": {},
   "outputs": [],
   "source": [
    "idx = np.array([\n",
    "    [0, 0, 1, 2, 3],\n",
    "    [3, 2, 1, 0, 0],\n",
    "    [0, 0, 0, 0, 0]    \n",
    "])"
   ]
  },
  {
   "cell_type": "code",
   "execution_count": 10,
   "id": "5fe525fc",
   "metadata": {},
   "outputs": [
    {
     "data": {
      "text/plain": [
       "array([[[0.17413188, 0.17413188, 0.62454592, 0.06785721, 0.44702811],\n",
       "        [0.06028983, 0.06028983, 0.44618678, 0.47201476, 0.96188903]],\n",
       "\n",
       "       [[0.58872065, 0.38226109, 0.68264586, 0.76617321, 0.76617321],\n",
       "        [0.88310618, 0.27518095, 0.34816922, 0.17601201, 0.17601201]],\n",
       "\n",
       "       [[0.93563382, 0.93563382, 0.93563382, 0.93563382, 0.93563382],\n",
       "        [0.25661423, 0.25661423, 0.25661423, 0.25661423, 0.25661423]]])"
      ]
     },
     "execution_count": 10,
     "metadata": {},
     "output_type": "execute_result"
    }
   ],
   "source": [
    "np.take_along_axis(V, axis=-1, indices=idx[:, None, :])"
   ]
  },
  {
   "cell_type": "code",
   "execution_count": 11,
   "id": "fe0db7f3",
   "metadata": {},
   "outputs": [
    {
     "data": {
      "text/plain": [
       "array([[[0.17413188, 0.62454592, 0.06785721, 0.44702811, 0.91897819],\n",
       "        [0.06028983, 0.44618678, 0.47201476, 0.96188903, 0.50207198]],\n",
       "\n",
       "       [[0.76617321, 0.68264586, 0.38226109, 0.58872065, 0.31875173],\n",
       "        [0.17601201, 0.34816922, 0.27518095, 0.88310618, 0.52875124]],\n",
       "\n",
       "       [[0.93563382, 0.61949572, 0.25987167, 0.10739489, 0.824748  ],\n",
       "        [0.25661423, 0.42631237, 0.20653065, 0.84432852, 0.02282119]]])"
      ]
     },
     "execution_count": 11,
     "metadata": {},
     "output_type": "execute_result"
    }
   ],
   "source": [
    "V"
   ]
  },
  {
   "cell_type": "code",
   "execution_count": null,
   "id": "6f453456",
   "metadata": {},
   "outputs": [],
   "source": []
  }
 ],
 "metadata": {
  "kernelspec": {
   "display_name": "Python [conda env:tomcat-coordination]",
   "language": "python",
   "name": "conda-env-tomcat-coordination-py"
  },
  "language_info": {
   "codemirror_mode": {
    "name": "ipython",
    "version": 3
   },
   "file_extension": ".py",
   "mimetype": "text/x-python",
   "name": "python",
   "nbconvert_exporter": "python",
   "pygments_lexer": "ipython3",
   "version": "3.9.15"
  }
 },
 "nbformat": 4,
 "nbformat_minor": 5
}
