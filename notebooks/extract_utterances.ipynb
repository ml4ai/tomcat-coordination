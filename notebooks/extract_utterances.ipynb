{
 "cells": [
  {
   "cell_type": "code",
   "execution_count": 1,
   "metadata": {},
   "outputs": [],
   "source": [
    "%load_ext autoreload\n",
    "%autoreload 2\n",
    "%config InlineBackend.figure_format = 'retina'\n",
    "import sys\n",
    "sys.path.append('../.venv/lib/python3.7/site-packages/')\n",
    "sys.path.append('..')"
   ]
  },
  {
   "cell_type": "code",
   "execution_count": 2,
   "metadata": {},
   "outputs": [],
   "source": [
    "from src.components.speech.trial import Trial"
   ]
  },
  {
   "cell_type": "code",
   "execution_count": 3,
   "metadata": {},
   "outputs": [],
   "source": [
    "def analyze_utterances(utterances_per_subject):\n",
    "    num_utterances = 0\n",
    "    num_utterances_missing_vocalics = 0\n",
    "\n",
    "    earliest_vocalic_timestamp = None\n",
    "    latest_vocalic_timestamp = None\n",
    "\n",
    "    for utterances in utterances_per_subject.values():\n",
    "        num_utterances += len(utterances)\n",
    "\n",
    "        for utterance in utterances:\n",
    "            if len(utterance.vocalic_series) == 0:\n",
    "                num_utterances_missing_vocalics += 1\n",
    "            else:\n",
    "                for vocalic in utterance.vocalic_series:\n",
    "                    if earliest_vocalic_timestamp is None or vocalic.timestamp < earliest_vocalic_timestamp:\n",
    "                        earliest_vocalic_timestamp = vocalic.timestamp\n",
    "\n",
    "                    if latest_vocalic_timestamp is None or vocalic.timestamp > latest_vocalic_timestamp:\n",
    "                        latest_vocalic_timestamp = vocalic.timestamp\n",
    "\n",
    "    print(f\"Total number of utterances is {num_utterances}\")\n",
    "    print(f\"There are {num_utterances_missing_vocalics} utterances that do not have any vocalics\")\n",
    "\n",
    "    if earliest_vocalic_timestamp is not None:\n",
    "        print(f\"Earliest vocalic timestamp is {earliest_vocalic_timestamp.isoformat()}\")\n",
    "    if latest_vocalic_timestamp is not None:\n",
    "        print(f\"Latest vocalic timestamp is {latest_vocalic_timestamp.isoformat()}\")"
   ]
  },
  {
   "cell_type": "code",
   "execution_count": 4,
   "metadata": {},
   "outputs": [],
   "source": [
    "data_directory_260 = \"/home/soggy/Documents/data/tomcat-coordination/asist_logs_NoTrial_2022_06_07_15_28_47/metadata/\"\n",
    "metadata_path_A_260 = data_directory_260 + \"HSRData_TrialMessages_Trial-T000719_Team-TM000260_Member-na_CondBtwn-ASI-UAZ-TA1_CondWin-na_Vers-1.metadata\"\n",
    "metadata_path_B_260 = data_directory_260 + \"HSRData_TrialMessages_Trial-T000720_Team-TM000260_Member-na_CondBtwn-ASI-UAZ-TA1_CondWin-na_Vers-1.metadata\"\n",
    "metadata_path_B_260\n",
    "data_directory_273 = \"/home/soggy/Documents/data/tomcat-coordination/asist_logs_NoTrial_2022_06_15_00_32_22/metadata/\"\n",
    "metadata_path_A_273 = data_directory_273 + \"HSRData_TrialMessages_Trial-T000745_Team-TM000273_Member-na_CondBtwn-ASI-UAZ-TA1_CondWin-na_Vers-1.metadata\"\n",
    "metadata_path_B_273 = data_directory_273 + \"HSRData_TrialMessages_Trial-T000746_Team-TM000273_Member-na_CondBtwn-ASI-UAZ-TA1_CondWin-na_Vers-1.metadata\""
   ]
  },
  {
   "cell_type": "code",
   "execution_count": 5,
   "metadata": {},
   "outputs": [
    {
     "name": "stdout",
     "output_type": "stream",
     "text": [
      "[ERROR] Bad json line of len: 1442, {\"topic\":\"trial\",\"header\":{\"version\":\"0.6\",\"timestamp\":\"2022-06-07T02:02:22.0625Z\",\"message_type\":\"trial\"},\"@version\":\"1\",\"@timestamp\":\"2022-06-07T02:02:22.064Z\",\"msg\":{\"replay_id\":null,\"trial_id\":\"90a0e042-00ab-4ab2-9651-092935b5ae4f\",\"replay_parent_type\":null,\"version\":\"0.1\",\"sub_type\":\"start\",\"experiment_id\":\"a13ef9d5-ac61-457d-80d2-ebaf49f1a903\",\"timestamp\":\"2022-06-07T02:02:22.0625Z\",\"source\":\"gui\",\"replay_parent_id\":null},\"data\":{\"date\":\"2022-06-07T02:02:22.0625Z\",\"experimenter\":\"MC/XY\",\"experiment_date\":\"2022-06-07T02:02:22.0631Z\",\"experiment_author\":\"MC/XY\",\"testbed_version\":\"5_13_2022_FULL_TRIALS-32-g19745118\",\"intervention_agents\":[\"ASI_UAZ_TA1_ToMCAT\"],\"name\":\"TM000260_T000719\",\"map_block_filename\":\"MapBlocks_SaturnC_2.3_xyz.csv\",\"group_number\":\"7\",\"study_number\":\"3\",\"notes\":[\"na\"],\"condition\":\"7\",\"client_info\":[{\"unique_id\":\"E000940\",\"participant_id\":\"E000940\",\"playername\":\"RED_ASIST_2\",\"callsign\":\"Red\",\"markerblocklegend\":\"\",\"staticmapversion\":\"\"},{\"unique_id\":\"E000888\",\"participant_id\":\"E000888\",\"playername\":\"GREEN_ASIST2\",\"callsign\":\"Green\",\"markerblocklegend\":\"\",\"staticmapversion\":\"\"},{\"unique_id\":\"E000931\",\"participant_id\":\"E000931\",\"playername\":\"BLUE_ASIST2\",\"callsign\":\"Blue\",\"markerblocklegend\":\"\",\"staticmapversion\":\"\"}],\"experiment_name\":\"TM000260\",\"experiment_mission\":\"Saturn_C\",\"trial_number\":\"T000719\",\"map_name\":\"Saturn_2.6_3D\",\"subjects\":[\"E000940\",\" E000888\",\" E000931\"]},\"host\":\"2408c62f3d41\"}\n",
      "\n",
      "[ERROR] Bad json line of len: 1441, {\"topic\":\"trial\",\"header\":{\"version\":\"0.6\",\"timestamp\":\"2022-06-07T02:28:19.0870Z\",\"message_type\":\"trial\"},\"@version\":\"1\",\"@timestamp\":\"2022-06-07T02:28:19.088Z\",\"msg\":{\"replay_id\":null,\"trial_id\":\"90a0e042-00ab-4ab2-9651-092935b5ae4f\",\"replay_parent_type\":null,\"version\":\"0.1\",\"sub_type\":\"stop\",\"experiment_id\":\"a13ef9d5-ac61-457d-80d2-ebaf49f1a903\",\"timestamp\":\"2022-06-07T02:28:19.0870Z\",\"source\":\"gui\",\"replay_parent_id\":null},\"data\":{\"date\":\"2022-06-07T02:02:22.0625Z\",\"experimenter\":\"MC/XY\",\"experiment_date\":\"2022-06-07T02:02:22.0631Z\",\"experiment_author\":\"MC/XY\",\"testbed_version\":\"5_13_2022_FULL_TRIALS-32-g19745118\",\"intervention_agents\":[\"ASI_UAZ_TA1_ToMCAT\"],\"name\":\"TM000260_T000719\",\"map_block_filename\":\"MapBlocks_SaturnC_2.3_xyz.csv\",\"group_number\":\"7\",\"study_number\":\"3\",\"notes\":[\"na\"],\"condition\":\"7\",\"client_info\":[{\"unique_id\":\"E000940\",\"participant_id\":\"E000940\",\"playername\":\"RED_ASIST_2\",\"callsign\":\"Red\",\"markerblocklegend\":\"\",\"staticmapversion\":\"\"},{\"unique_id\":\"E000888\",\"participant_id\":\"E000888\",\"playername\":\"GREEN_ASIST2\",\"callsign\":\"Green\",\"markerblocklegend\":\"\",\"staticmapversion\":\"\"},{\"unique_id\":\"E000931\",\"participant_id\":\"E000931\",\"playername\":\"BLUE_ASIST2\",\"callsign\":\"Blue\",\"markerblocklegend\":\"\",\"staticmapversion\":\"\"}],\"experiment_name\":\"TM000260\",\"experiment_mission\":\"Saturn_C\",\"trial_number\":\"T000719\",\"map_name\":\"Saturn_2.6_3D\",\"subjects\":[\"E000940\",\" E000888\",\" E000931\"]},\"host\":\"2408c62f3d41\"}\n",
      "\n"
     ]
    },
    {
     "name": "stderr",
     "output_type": "stream",
     "text": [
      "100%|██████████| 166/166 [00:00<00:00, 5753.12it/s]\n"
     ]
    },
    {
     "name": "stdout",
     "output_type": "stream",
     "text": [
      "[WARN] No vocalic features detected for utterance between 2022-06-07T02:06:29.885657+00:00 and 2022-06-07T02:06:29.885657+00:00 for subject GREEN_ASIST2 in trial 90a0e042-00ab-4ab2-9651-092935b5ae4f.\n",
      "[WARN] No vocalic features detected for utterance between 2022-06-07T02:07:18.885657+00:00 and 2022-06-07T02:07:18.885657+00:00 for subject GREEN_ASIST2 in trial 90a0e042-00ab-4ab2-9651-092935b5ae4f.\n",
      "[WARN] No vocalic features detected for utterance between 2022-06-07T02:09:34.985657+00:00 and 2022-06-07T02:09:34.985657+00:00 for subject GREEN_ASIST2 in trial 90a0e042-00ab-4ab2-9651-092935b5ae4f.\n",
      "[WARN] No vocalic features detected for utterance between 2022-06-07T02:10:40.437883+00:00 and 2022-06-07T02:10:46.137883+00:00 for subject GREEN_ASIST2 in trial 90a0e042-00ab-4ab2-9651-092935b5ae4f.\n",
      "[WARN] No vocalic features detected for utterance between 2022-06-07T02:11:02.937883+00:00 and 2022-06-07T02:11:08.637883+00:00 for subject GREEN_ASIST2 in trial 90a0e042-00ab-4ab2-9651-092935b5ae4f.\n",
      "[WARN] No vocalic features detected for utterance between 2022-06-07T02:11:42.137883+00:00 and 2022-06-07T02:11:48.337883+00:00 for subject GREEN_ASIST2 in trial 90a0e042-00ab-4ab2-9651-092935b5ae4f.\n",
      "[WARN] No vocalic features detected for utterance between 2022-06-07T02:11:51.537883+00:00 and 2022-06-07T02:11:54.437883+00:00 for subject GREEN_ASIST2 in trial 90a0e042-00ab-4ab2-9651-092935b5ae4f.\n",
      "[WARN] No vocalic features detected for utterance between 2022-06-07T02:12:00.637883+00:00 and 2022-06-07T02:12:06.637883+00:00 for subject GREEN_ASIST2 in trial 90a0e042-00ab-4ab2-9651-092935b5ae4f.\n",
      "[WARN] No vocalic features detected for utterance between 2022-06-07T02:12:09.237883+00:00 and 2022-06-07T02:12:09.237883+00:00 for subject GREEN_ASIST2 in trial 90a0e042-00ab-4ab2-9651-092935b5ae4f.\n",
      "[WARN] No vocalic features detected for utterance between 2022-06-07T02:12:14.037883+00:00 and 2022-06-07T02:12:15.437883+00:00 for subject GREEN_ASIST2 in trial 90a0e042-00ab-4ab2-9651-092935b5ae4f.\n",
      "[WARN] No vocalic features detected for utterance between 2022-06-07T02:12:20.537883+00:00 and 2022-06-07T02:12:20.537883+00:00 for subject GREEN_ASIST2 in trial 90a0e042-00ab-4ab2-9651-092935b5ae4f.\n",
      "[WARN] No vocalic features detected for utterance between 2022-06-07T02:12:31.637883+00:00 and 2022-06-07T02:12:34.637883+00:00 for subject GREEN_ASIST2 in trial 90a0e042-00ab-4ab2-9651-092935b5ae4f.\n",
      "[WARN] No vocalic features detected for utterance between 2022-06-07T02:12:43.537883+00:00 and 2022-06-07T02:12:50.437883+00:00 for subject GREEN_ASIST2 in trial 90a0e042-00ab-4ab2-9651-092935b5ae4f.\n",
      "[WARN] No vocalic features detected for utterance between 2022-06-07T02:12:52.837883+00:00 and 2022-06-07T02:12:52.837883+00:00 for subject GREEN_ASIST2 in trial 90a0e042-00ab-4ab2-9651-092935b5ae4f.\n",
      "[WARN] No vocalic features detected for utterance between 2022-06-07T02:13:06.237883+00:00 and 2022-06-07T02:13:10.637883+00:00 for subject GREEN_ASIST2 in trial 90a0e042-00ab-4ab2-9651-092935b5ae4f.\n",
      "[WARN] No vocalic features detected for utterance between 2022-06-07T02:13:55.837883+00:00 and 2022-06-07T02:13:56.937883+00:00 for subject GREEN_ASIST2 in trial 90a0e042-00ab-4ab2-9651-092935b5ae4f.\n",
      "[WARN] No vocalic features detected for utterance between 2022-06-07T02:14:29.036180+00:00 and 2022-06-07T02:14:30.036180+00:00 for subject GREEN_ASIST2 in trial 90a0e042-00ab-4ab2-9651-092935b5ae4f.\n",
      "[WARN] No vocalic features detected for utterance between 2022-06-07T02:14:32.736180+00:00 and 2022-06-07T02:14:38.636180+00:00 for subject GREEN_ASIST2 in trial 90a0e042-00ab-4ab2-9651-092935b5ae4f.\n",
      "[WARN] No vocalic features detected for utterance between 2022-06-07T02:15:07.736180+00:00 and 2022-06-07T02:15:19.536180+00:00 for subject GREEN_ASIST2 in trial 90a0e042-00ab-4ab2-9651-092935b5ae4f.\n",
      "[WARN] No vocalic features detected for utterance between 2022-06-07T02:15:50.536180+00:00 and 2022-06-07T02:15:53.536180+00:00 for subject GREEN_ASIST2 in trial 90a0e042-00ab-4ab2-9651-092935b5ae4f.\n",
      "[WARN] No vocalic features detected for utterance between 2022-06-07T02:15:56.136180+00:00 and 2022-06-07T02:15:56.136180+00:00 for subject GREEN_ASIST2 in trial 90a0e042-00ab-4ab2-9651-092935b5ae4f.\n",
      "[WARN] No vocalic features detected for utterance between 2022-06-07T02:16:10.736180+00:00 and 2022-06-07T02:16:16.736180+00:00 for subject GREEN_ASIST2 in trial 90a0e042-00ab-4ab2-9651-092935b5ae4f.\n",
      "[WARN] No vocalic features detected for utterance between 2022-06-07T02:16:31.836180+00:00 and 2022-06-07T02:16:40.236180+00:00 for subject GREEN_ASIST2 in trial 90a0e042-00ab-4ab2-9651-092935b5ae4f.\n",
      "[WARN] No vocalic features detected for utterance between 2022-06-07T02:16:59.536180+00:00 and 2022-06-07T02:17:08.636180+00:00 for subject GREEN_ASIST2 in trial 90a0e042-00ab-4ab2-9651-092935b5ae4f.\n",
      "[WARN] No vocalic features detected for utterance between 2022-06-07T02:17:15.336180+00:00 and 2022-06-07T02:17:15.336180+00:00 for subject GREEN_ASIST2 in trial 90a0e042-00ab-4ab2-9651-092935b5ae4f.\n",
      "[WARN] No vocalic features detected for utterance between 2022-06-07T02:17:19.936180+00:00 and 2022-06-07T02:17:21.136180+00:00 for subject GREEN_ASIST2 in trial 90a0e042-00ab-4ab2-9651-092935b5ae4f.\n",
      "[WARN] No vocalic features detected for utterance between 2022-06-07T02:17:27.936180+00:00 and 2022-06-07T02:17:35.936180+00:00 for subject GREEN_ASIST2 in trial 90a0e042-00ab-4ab2-9651-092935b5ae4f.\n",
      "[WARN] No vocalic features detected for utterance between 2022-06-07T02:18:09.236180+00:00 and 2022-06-07T02:18:09.536180+00:00 for subject GREEN_ASIST2 in trial 90a0e042-00ab-4ab2-9651-092935b5ae4f.\n",
      "[WARN] No vocalic features detected for utterance between 2022-06-07T02:18:16.136180+00:00 and 2022-06-07T02:18:16.536180+00:00 for subject GREEN_ASIST2 in trial 90a0e042-00ab-4ab2-9651-092935b5ae4f.\n",
      "[WARN] No vocalic features detected for utterance between 2022-06-07T02:18:27.239317+00:00 and 2022-06-07T02:18:27.239317+00:00 for subject GREEN_ASIST2 in trial 90a0e042-00ab-4ab2-9651-092935b5ae4f.\n",
      "[WARN] No vocalic features detected for utterance between 2022-06-07T02:18:42.739317+00:00 and 2022-06-07T02:18:48.439317+00:00 for subject GREEN_ASIST2 in trial 90a0e042-00ab-4ab2-9651-092935b5ae4f.\n",
      "[WARN] No vocalic features detected for utterance between 2022-06-07T02:18:59.739317+00:00 and 2022-06-07T02:19:12.239317+00:00 for subject GREEN_ASIST2 in trial 90a0e042-00ab-4ab2-9651-092935b5ae4f.\n",
      "[WARN] No vocalic features detected for utterance between 2022-06-07T02:19:20.839317+00:00 and 2022-06-07T02:19:28.239317+00:00 for subject GREEN_ASIST2 in trial 90a0e042-00ab-4ab2-9651-092935b5ae4f.\n",
      "[WARN] No vocalic features detected for utterance between 2022-06-07T02:19:35.739317+00:00 and 2022-06-07T02:19:37.939317+00:00 for subject GREEN_ASIST2 in trial 90a0e042-00ab-4ab2-9651-092935b5ae4f.\n",
      "[WARN] No vocalic features detected for utterance between 2022-06-07T02:19:51.439317+00:00 and 2022-06-07T02:19:56.639317+00:00 for subject GREEN_ASIST2 in trial 90a0e042-00ab-4ab2-9651-092935b5ae4f.\n",
      "[WARN] No vocalic features detected for utterance between 2022-06-07T02:20:18.739317+00:00 and 2022-06-07T02:20:22.639317+00:00 for subject GREEN_ASIST2 in trial 90a0e042-00ab-4ab2-9651-092935b5ae4f.\n",
      "[WARN] No vocalic features detected for utterance between 2022-06-07T02:20:40.239317+00:00 and 2022-06-07T02:20:44.139317+00:00 for subject GREEN_ASIST2 in trial 90a0e042-00ab-4ab2-9651-092935b5ae4f.\n",
      "[WARN] No vocalic features detected for utterance between 2022-06-07T02:20:45.939317+00:00 and 2022-06-07T02:20:46.639317+00:00 for subject GREEN_ASIST2 in trial 90a0e042-00ab-4ab2-9651-092935b5ae4f.\n",
      "[WARN] No vocalic features detected for utterance between 2022-06-07T02:20:49.439317+00:00 and 2022-06-07T02:20:50.639317+00:00 for subject GREEN_ASIST2 in trial 90a0e042-00ab-4ab2-9651-092935b5ae4f.\n",
      "[WARN] No vocalic features detected for utterance between 2022-06-07T02:21:08.439317+00:00 and 2022-06-07T02:21:20.339317+00:00 for subject GREEN_ASIST2 in trial 90a0e042-00ab-4ab2-9651-092935b5ae4f.\n",
      "[WARN] No vocalic features detected for utterance between 2022-06-07T02:21:21.539317+00:00 and 2022-06-07T02:21:23.539317+00:00 for subject GREEN_ASIST2 in trial 90a0e042-00ab-4ab2-9651-092935b5ae4f.\n",
      "[WARN] No vocalic features detected for utterance between 2022-06-07T02:07:28.694002+00:00 and 2022-06-07T02:07:28.994002+00:00 for subject BLUE_ASIST2 in trial 90a0e042-00ab-4ab2-9651-092935b5ae4f.\n",
      "[WARN] No vocalic features detected for utterance between 2022-06-07T02:09:03.194002+00:00 and 2022-06-07T02:09:03.694002+00:00 for subject BLUE_ASIST2 in trial 90a0e042-00ab-4ab2-9651-092935b5ae4f.\n",
      "[WARN] No vocalic features detected for utterance between 2022-06-07T02:09:38.594002+00:00 and 2022-06-07T02:09:43.794002+00:00 for subject BLUE_ASIST2 in trial 90a0e042-00ab-4ab2-9651-092935b5ae4f.\n",
      "[WARN] No vocalic features detected for utterance between 2022-06-07T02:10:01.994002+00:00 and 2022-06-07T02:10:03.194002+00:00 for subject BLUE_ASIST2 in trial 90a0e042-00ab-4ab2-9651-092935b5ae4f.\n",
      "[WARN] No vocalic features detected for utterance between 2022-06-07T02:10:15.594002+00:00 and 2022-06-07T02:10:20.694002+00:00 for subject BLUE_ASIST2 in trial 90a0e042-00ab-4ab2-9651-092935b5ae4f.\n",
      "[WARN] No vocalic features detected for utterance between 2022-06-07T02:10:26.359492+00:00 and 2022-06-07T02:10:27.259492+00:00 for subject BLUE_ASIST2 in trial 90a0e042-00ab-4ab2-9651-092935b5ae4f.\n",
      "[WARN] No vocalic features detected for utterance between 2022-06-07T02:10:31.459492+00:00 and 2022-06-07T02:10:34.959492+00:00 for subject BLUE_ASIST2 in trial 90a0e042-00ab-4ab2-9651-092935b5ae4f.\n",
      "[WARN] No vocalic features detected for utterance between 2022-06-07T02:11:10.759492+00:00 and 2022-06-07T02:11:14.459492+00:00 for subject BLUE_ASIST2 in trial 90a0e042-00ab-4ab2-9651-092935b5ae4f.\n",
      "[WARN] No vocalic features detected for utterance between 2022-06-07T02:11:40.359492+00:00 and 2022-06-07T02:11:41.559492+00:00 for subject BLUE_ASIST2 in trial 90a0e042-00ab-4ab2-9651-092935b5ae4f.\n",
      "[WARN] No vocalic features detected for utterance between 2022-06-07T02:11:58.359492+00:00 and 2022-06-07T02:11:59.459492+00:00 for subject BLUE_ASIST2 in trial 90a0e042-00ab-4ab2-9651-092935b5ae4f.\n",
      "[WARN] No vocalic features detected for utterance between 2022-06-07T02:12:27.659492+00:00 and 2022-06-07T02:12:27.759492+00:00 for subject BLUE_ASIST2 in trial 90a0e042-00ab-4ab2-9651-092935b5ae4f.\n",
      "[WARN] No vocalic features detected for utterance between 2022-06-07T02:12:41.159492+00:00 and 2022-06-07T02:12:42.459492+00:00 for subject BLUE_ASIST2 in trial 90a0e042-00ab-4ab2-9651-092935b5ae4f.\n",
      "[WARN] No vocalic features detected for utterance between 2022-06-07T02:12:44.559492+00:00 and 2022-06-07T02:12:44.559492+00:00 for subject BLUE_ASIST2 in trial 90a0e042-00ab-4ab2-9651-092935b5ae4f.\n",
      "[WARN] No vocalic features detected for utterance between 2022-06-07T02:12:48.259492+00:00 and 2022-06-07T02:12:48.259492+00:00 for subject BLUE_ASIST2 in trial 90a0e042-00ab-4ab2-9651-092935b5ae4f.\n",
      "[WARN] No vocalic features detected for utterance between 2022-06-07T02:12:52.959492+00:00 and 2022-06-07T02:12:53.259492+00:00 for subject BLUE_ASIST2 in trial 90a0e042-00ab-4ab2-9651-092935b5ae4f.\n",
      "[WARN] No vocalic features detected for utterance between 2022-06-07T02:13:16.459492+00:00 and 2022-06-07T02:13:18.859492+00:00 for subject BLUE_ASIST2 in trial 90a0e042-00ab-4ab2-9651-092935b5ae4f.\n",
      "[WARN] No vocalic features detected for utterance between 2022-06-07T02:13:21.959492+00:00 and 2022-06-07T02:13:23.459492+00:00 for subject BLUE_ASIST2 in trial 90a0e042-00ab-4ab2-9651-092935b5ae4f.\n",
      "[WARN] No vocalic features detected for utterance between 2022-06-07T02:13:25.659492+00:00 and 2022-06-07T02:13:29.959492+00:00 for subject BLUE_ASIST2 in trial 90a0e042-00ab-4ab2-9651-092935b5ae4f.\n",
      "[WARN] No vocalic features detected for utterance between 2022-06-07T02:13:42.859492+00:00 and 2022-06-07T02:13:43.359492+00:00 for subject BLUE_ASIST2 in trial 90a0e042-00ab-4ab2-9651-092935b5ae4f.\n",
      "[WARN] No vocalic features detected for utterance between 2022-06-07T02:13:47.459492+00:00 and 2022-06-07T02:13:48.259492+00:00 for subject BLUE_ASIST2 in trial 90a0e042-00ab-4ab2-9651-092935b5ae4f.\n",
      "[WARN] No vocalic features detected for utterance between 2022-06-07T02:13:54.359492+00:00 and 2022-06-07T02:13:54.359492+00:00 for subject BLUE_ASIST2 in trial 90a0e042-00ab-4ab2-9651-092935b5ae4f.\n",
      "[WARN] No vocalic features detected for utterance between 2022-06-07T02:14:03.159492+00:00 and 2022-06-07T02:14:05.959492+00:00 for subject BLUE_ASIST2 in trial 90a0e042-00ab-4ab2-9651-092935b5ae4f.\n",
      "[WARN] No vocalic features detected for utterance between 2022-06-07T02:14:29.403085+00:00 and 2022-06-07T02:14:29.903085+00:00 for subject BLUE_ASIST2 in trial 90a0e042-00ab-4ab2-9651-092935b5ae4f.\n",
      "[WARN] No vocalic features detected for utterance between 2022-06-07T02:14:40.703085+00:00 and 2022-06-07T02:14:44.103085+00:00 for subject BLUE_ASIST2 in trial 90a0e042-00ab-4ab2-9651-092935b5ae4f.\n",
      "[WARN] No vocalic features detected for utterance between 2022-06-07T02:14:55.503085+00:00 and 2022-06-07T02:15:00.803085+00:00 for subject BLUE_ASIST2 in trial 90a0e042-00ab-4ab2-9651-092935b5ae4f.\n",
      "[WARN] No vocalic features detected for utterance between 2022-06-07T02:15:27.503085+00:00 and 2022-06-07T02:15:27.803085+00:00 for subject BLUE_ASIST2 in trial 90a0e042-00ab-4ab2-9651-092935b5ae4f.\n",
      "[WARN] No vocalic features detected for utterance between 2022-06-07T02:15:30.403085+00:00 and 2022-06-07T02:15:30.503085+00:00 for subject BLUE_ASIST2 in trial 90a0e042-00ab-4ab2-9651-092935b5ae4f.\n",
      "[WARN] No vocalic features detected for utterance between 2022-06-07T02:15:36.103085+00:00 and 2022-06-07T02:15:36.103085+00:00 for subject BLUE_ASIST2 in trial 90a0e042-00ab-4ab2-9651-092935b5ae4f.\n",
      "[WARN] No vocalic features detected for utterance between 2022-06-07T02:15:55.903085+00:00 and 2022-06-07T02:15:56.203085+00:00 for subject BLUE_ASIST2 in trial 90a0e042-00ab-4ab2-9651-092935b5ae4f.\n",
      "[WARN] No vocalic features detected for utterance between 2022-06-07T02:16:00.903085+00:00 and 2022-06-07T02:16:05.203085+00:00 for subject BLUE_ASIST2 in trial 90a0e042-00ab-4ab2-9651-092935b5ae4f.\n",
      "[WARN] No vocalic features detected for utterance between 2022-06-07T02:16:27.603085+00:00 and 2022-06-07T02:16:29.703085+00:00 for subject BLUE_ASIST2 in trial 90a0e042-00ab-4ab2-9651-092935b5ae4f.\n",
      "[WARN] No vocalic features detected for utterance between 2022-06-07T02:16:43.103085+00:00 and 2022-06-07T02:16:44.403085+00:00 for subject BLUE_ASIST2 in trial 90a0e042-00ab-4ab2-9651-092935b5ae4f.\n",
      "[WARN] No vocalic features detected for utterance between 2022-06-07T02:16:54.803085+00:00 and 2022-06-07T02:16:55.503085+00:00 for subject BLUE_ASIST2 in trial 90a0e042-00ab-4ab2-9651-092935b5ae4f.\n",
      "[WARN] No vocalic features detected for utterance between 2022-06-07T02:17:11.403085+00:00 and 2022-06-07T02:17:19.603085+00:00 for subject BLUE_ASIST2 in trial 90a0e042-00ab-4ab2-9651-092935b5ae4f.\n",
      "[WARN] No vocalic features detected for utterance between 2022-06-07T02:17:25.003085+00:00 and 2022-06-07T02:17:30.203085+00:00 for subject BLUE_ASIST2 in trial 90a0e042-00ab-4ab2-9651-092935b5ae4f.\n",
      "[WARN] No vocalic features detected for utterance between 2022-06-07T02:17:38.403085+00:00 and 2022-06-07T02:17:41.303085+00:00 for subject BLUE_ASIST2 in trial 90a0e042-00ab-4ab2-9651-092935b5ae4f.\n",
      "[WARN] No vocalic features detected for utterance between 2022-06-07T02:17:50.303085+00:00 and 2022-06-07T02:17:53.103085+00:00 for subject BLUE_ASIST2 in trial 90a0e042-00ab-4ab2-9651-092935b5ae4f.\n",
      "[WARN] No vocalic features detected for utterance between 2022-06-07T02:18:04.703085+00:00 and 2022-06-07T02:18:04.903085+00:00 for subject BLUE_ASIST2 in trial 90a0e042-00ab-4ab2-9651-092935b5ae4f.\n",
      "[WARN] No vocalic features detected for utterance between 2022-06-07T02:18:31.165069+00:00 and 2022-06-07T02:18:35.465069+00:00 for subject BLUE_ASIST2 in trial 90a0e042-00ab-4ab2-9651-092935b5ae4f.\n",
      "[WARN] No vocalic features detected for utterance between 2022-06-07T02:18:38.465069+00:00 and 2022-06-07T02:18:45.965069+00:00 for subject BLUE_ASIST2 in trial 90a0e042-00ab-4ab2-9651-092935b5ae4f.\n",
      "[WARN] No vocalic features detected for utterance between 2022-06-07T02:18:49.165069+00:00 and 2022-06-07T02:18:50.065069+00:00 for subject BLUE_ASIST2 in trial 90a0e042-00ab-4ab2-9651-092935b5ae4f.\n",
      "[WARN] No vocalic features detected for utterance between 2022-06-07T02:19:30.765069+00:00 and 2022-06-07T02:19:31.465069+00:00 for subject BLUE_ASIST2 in trial 90a0e042-00ab-4ab2-9651-092935b5ae4f.\n",
      "[WARN] No vocalic features detected for utterance between 2022-06-07T02:19:38.865069+00:00 and 2022-06-07T02:19:45.165069+00:00 for subject BLUE_ASIST2 in trial 90a0e042-00ab-4ab2-9651-092935b5ae4f.\n",
      "[WARN] No vocalic features detected for utterance between 2022-06-07T02:19:58.165069+00:00 and 2022-06-07T02:20:00.965069+00:00 for subject BLUE_ASIST2 in trial 90a0e042-00ab-4ab2-9651-092935b5ae4f.\n",
      "[WARN] No vocalic features detected for utterance between 2022-06-07T02:20:07.365069+00:00 and 2022-06-07T02:20:09.265069+00:00 for subject BLUE_ASIST2 in trial 90a0e042-00ab-4ab2-9651-092935b5ae4f.\n",
      "[WARN] No vocalic features detected for utterance between 2022-06-07T02:20:36.465069+00:00 and 2022-06-07T02:20:37.665069+00:00 for subject BLUE_ASIST2 in trial 90a0e042-00ab-4ab2-9651-092935b5ae4f.\n",
      "[WARN] No vocalic features detected for utterance between 2022-06-07T02:21:05.565069+00:00 and 2022-06-07T02:21:06.665069+00:00 for subject BLUE_ASIST2 in trial 90a0e042-00ab-4ab2-9651-092935b5ae4f.\n",
      "[WARN] No vocalic features detected for utterance between 2022-06-07T02:11:33.261280+00:00 and 2022-06-07T02:11:33.761280+00:00 for subject RED_ASIST_2 in trial 90a0e042-00ab-4ab2-9651-092935b5ae4f.\n",
      "[WARN] No vocalic features detected for utterance between 2022-06-07T02:11:34.461280+00:00 and 2022-06-07T02:11:36.261280+00:00 for subject RED_ASIST_2 in trial 90a0e042-00ab-4ab2-9651-092935b5ae4f.\n",
      "[WARN] No vocalic features detected for utterance between 2022-06-07T02:12:04.461280+00:00 and 2022-06-07T02:12:12.961280+00:00 for subject RED_ASIST_2 in trial 90a0e042-00ab-4ab2-9651-092935b5ae4f.\n",
      "[WARN] No vocalic features detected for utterance between 2022-06-07T02:12:22.261280+00:00 and 2022-06-07T02:12:25.661280+00:00 for subject RED_ASIST_2 in trial 90a0e042-00ab-4ab2-9651-092935b5ae4f.\n",
      "[WARN] No vocalic features detected for utterance between 2022-06-07T02:12:36.961280+00:00 and 2022-06-07T02:12:39.661280+00:00 for subject RED_ASIST_2 in trial 90a0e042-00ab-4ab2-9651-092935b5ae4f.\n",
      "[WARN] No vocalic features detected for utterance between 2022-06-07T02:12:52.061280+00:00 and 2022-06-07T02:13:06.461280+00:00 for subject RED_ASIST_2 in trial 90a0e042-00ab-4ab2-9651-092935b5ae4f.\n",
      "[WARN] No vocalic features detected for utterance between 2022-06-07T02:13:20.761280+00:00 and 2022-06-07T02:13:23.761280+00:00 for subject RED_ASIST_2 in trial 90a0e042-00ab-4ab2-9651-092935b5ae4f.\n",
      "[WARN] No vocalic features detected for utterance between 2022-06-07T02:13:30.361280+00:00 and 2022-06-07T02:13:33.861280+00:00 for subject RED_ASIST_2 in trial 90a0e042-00ab-4ab2-9651-092935b5ae4f.\n",
      "[WARN] No vocalic features detected for utterance between 2022-06-07T02:13:49.761280+00:00 and 2022-06-07T02:13:52.761280+00:00 for subject RED_ASIST_2 in trial 90a0e042-00ab-4ab2-9651-092935b5ae4f.\n",
      "[WARN] No vocalic features detected for utterance between 2022-06-07T02:14:29.541448+00:00 and 2022-06-07T02:14:29.541448+00:00 for subject RED_ASIST_2 in trial 90a0e042-00ab-4ab2-9651-092935b5ae4f.\n",
      "[WARN] No vocalic features detected for utterance between 2022-06-07T02:14:43.641448+00:00 and 2022-06-07T02:14:54.841448+00:00 for subject RED_ASIST_2 in trial 90a0e042-00ab-4ab2-9651-092935b5ae4f.\n",
      "[WARN] No vocalic features detected for utterance between 2022-06-07T02:15:13.441448+00:00 and 2022-06-07T02:15:40.041448+00:00 for subject RED_ASIST_2 in trial 90a0e042-00ab-4ab2-9651-092935b5ae4f.\n",
      "[WARN] No vocalic features detected for utterance between 2022-06-07T02:15:45.441448+00:00 and 2022-06-07T02:15:47.341448+00:00 for subject RED_ASIST_2 in trial 90a0e042-00ab-4ab2-9651-092935b5ae4f.\n",
      "[WARN] No vocalic features detected for utterance between 2022-06-07T02:15:56.341448+00:00 and 2022-06-07T02:15:58.041448+00:00 for subject RED_ASIST_2 in trial 90a0e042-00ab-4ab2-9651-092935b5ae4f.\n",
      "[WARN] No vocalic features detected for utterance between 2022-06-07T02:16:07.241448+00:00 and 2022-06-07T02:16:10.941448+00:00 for subject RED_ASIST_2 in trial 90a0e042-00ab-4ab2-9651-092935b5ae4f.\n",
      "[WARN] No vocalic features detected for utterance between 2022-06-07T02:16:21.141448+00:00 and 2022-06-07T02:16:22.241448+00:00 for subject RED_ASIST_2 in trial 90a0e042-00ab-4ab2-9651-092935b5ae4f.\n",
      "[WARN] No vocalic features detected for utterance between 2022-06-07T02:16:30.841448+00:00 and 2022-06-07T02:16:31.941448+00:00 for subject RED_ASIST_2 in trial 90a0e042-00ab-4ab2-9651-092935b5ae4f.\n",
      "[WARN] No vocalic features detected for utterance between 2022-06-07T02:16:48.341448+00:00 and 2022-06-07T02:16:52.341448+00:00 for subject RED_ASIST_2 in trial 90a0e042-00ab-4ab2-9651-092935b5ae4f.\n",
      "[WARN] No vocalic features detected for utterance between 2022-06-07T02:17:31.441448+00:00 and 2022-06-07T02:17:46.341448+00:00 for subject RED_ASIST_2 in trial 90a0e042-00ab-4ab2-9651-092935b5ae4f.\n",
      "[WARN] No vocalic features detected for utterance between 2022-06-07T02:17:46.841448+00:00 and 2022-06-07T02:17:49.141448+00:00 for subject RED_ASIST_2 in trial 90a0e042-00ab-4ab2-9651-092935b5ae4f.\n",
      "[WARN] No vocalic features detected for utterance between 2022-06-07T02:17:56.741448+00:00 and 2022-06-07T02:18:08.741448+00:00 for subject RED_ASIST_2 in trial 90a0e042-00ab-4ab2-9651-092935b5ae4f.\n",
      "[WARN] No vocalic features detected for utterance between 2022-06-07T02:18:37.378630+00:00 and 2022-06-07T02:18:39.378630+00:00 for subject RED_ASIST_2 in trial 90a0e042-00ab-4ab2-9651-092935b5ae4f.\n",
      "[WARN] No vocalic features detected for utterance between 2022-06-07T02:18:51.478630+00:00 and 2022-06-07T02:19:00.778630+00:00 for subject RED_ASIST_2 in trial 90a0e042-00ab-4ab2-9651-092935b5ae4f.\n",
      "[WARN] No vocalic features detected for utterance between 2022-06-07T02:19:14.178630+00:00 and 2022-06-07T02:19:35.078630+00:00 for subject RED_ASIST_2 in trial 90a0e042-00ab-4ab2-9651-092935b5ae4f.\n",
      "[WARN] No vocalic features detected for utterance between 2022-06-07T02:19:45.778630+00:00 and 2022-06-07T02:19:49.978630+00:00 for subject RED_ASIST_2 in trial 90a0e042-00ab-4ab2-9651-092935b5ae4f.\n",
      "[WARN] No vocalic features detected for utterance between 2022-06-07T02:20:00.978630+00:00 and 2022-06-07T02:20:04.278630+00:00 for subject RED_ASIST_2 in trial 90a0e042-00ab-4ab2-9651-092935b5ae4f.\n",
      "[WARN] No vocalic features detected for utterance between 2022-06-07T02:20:06.478630+00:00 and 2022-06-07T02:20:14.078630+00:00 for subject RED_ASIST_2 in trial 90a0e042-00ab-4ab2-9651-092935b5ae4f.\n",
      "[WARN] No vocalic features detected for utterance between 2022-06-07T02:20:18.478630+00:00 and 2022-06-07T02:20:18.478630+00:00 for subject RED_ASIST_2 in trial 90a0e042-00ab-4ab2-9651-092935b5ae4f.\n",
      "[WARN] No vocalic features detected for utterance between 2022-06-07T02:20:22.878630+00:00 and 2022-06-07T02:20:24.478630+00:00 for subject RED_ASIST_2 in trial 90a0e042-00ab-4ab2-9651-092935b5ae4f.\n",
      "[WARN] No vocalic features detected for utterance between 2022-06-07T02:20:41.578630+00:00 and 2022-06-07T02:21:08.778630+00:00 for subject RED_ASIST_2 in trial 90a0e042-00ab-4ab2-9651-092935b5ae4f.\n"
     ]
    }
   ],
   "source": [
    "trial_saturn_A_260 = Trial(metadata_path_A_260)"
   ]
  },
  {
   "cell_type": "code",
   "execution_count": 6,
   "metadata": {},
   "outputs": [
    {
     "name": "stdout",
     "output_type": "stream",
     "text": [
      "Total number of utterances is 157\n",
      "There are 118 utterances that do not have any vocalics\n",
      "Earliest vocalic timestamp is 2022-06-07T02:04:32.193847+00:00\n",
      "Latest vocalic timestamp is 2022-06-07T02:10:55.805779+00:00\n"
     ]
    }
   ],
   "source": [
    "analyze_utterances(trial_saturn_A_260.utterances_per_subject)"
   ]
  },
  {
   "cell_type": "code",
   "execution_count": 7,
   "metadata": {},
   "outputs": [
    {
     "name": "stdout",
     "output_type": "stream",
     "text": [
      "[ERROR] Bad json line of len: 1442, {\"topic\":\"trial\",\"header\":{\"version\":\"0.6\",\"timestamp\":\"2022-06-07T02:28:36.9287Z\",\"message_type\":\"trial\"},\"@version\":\"1\",\"@timestamp\":\"2022-06-07T02:28:36.980Z\",\"msg\":{\"replay_id\":null,\"trial_id\":\"2d0d6703-065c-4f8a-9737-2b779438b616\",\"replay_parent_type\":null,\"version\":\"0.1\",\"sub_type\":\"start\",\"experiment_id\":\"a13ef9d5-ac61-457d-80d2-ebaf49f1a903\",\"timestamp\":\"2022-06-07T02:28:36.9287Z\",\"source\":\"gui\",\"replay_parent_id\":null},\"data\":{\"date\":\"2022-06-07T02:28:36.9287Z\",\"experimenter\":\"MC/XY\",\"experiment_date\":\"2022-06-07T02:28:36.9775Z\",\"experiment_author\":\"MC/XY\",\"testbed_version\":\"5_13_2022_FULL_TRIALS-32-g19745118\",\"intervention_agents\":[\"ASI_UAZ_TA1_ToMCAT\"],\"name\":\"TM000260_T000720\",\"map_block_filename\":\"MapBlocks_SaturnD_2.3_xyz.csv\",\"group_number\":\"7\",\"study_number\":\"3\",\"notes\":[\"na\"],\"condition\":\"7\",\"client_info\":[{\"unique_id\":\"E000940\",\"participant_id\":\"E000940\",\"playername\":\"RED_ASIST_2\",\"callsign\":\"Red\",\"markerblocklegend\":\"\",\"staticmapversion\":\"\"},{\"unique_id\":\"E000888\",\"participant_id\":\"E000888\",\"playername\":\"GREEN_ASIST2\",\"callsign\":\"Green\",\"markerblocklegend\":\"\",\"staticmapversion\":\"\"},{\"unique_id\":\"E000931\",\"participant_id\":\"E000931\",\"playername\":\"BLUE_ASIST2\",\"callsign\":\"Blue\",\"markerblocklegend\":\"\",\"staticmapversion\":\"\"}],\"experiment_name\":\"TM000260\",\"experiment_mission\":\"Saturn_D\",\"trial_number\":\"T000720\",\"map_name\":\"Saturn_2.6_3D\",\"subjects\":[\"E000940\",\" E000888\",\" E000931\"]},\"host\":\"2408c62f3d41\"}\n",
      "\n",
      "[ERROR] Bad json line of len: 1441, {\"topic\":\"trial\",\"header\":{\"version\":\"0.6\",\"timestamp\":\"2022-06-07T02:59:48.7262Z\",\"message_type\":\"trial\"},\"@version\":\"1\",\"@timestamp\":\"2022-06-07T02:59:48.727Z\",\"msg\":{\"replay_id\":null,\"trial_id\":\"2d0d6703-065c-4f8a-9737-2b779438b616\",\"replay_parent_type\":null,\"version\":\"0.1\",\"sub_type\":\"stop\",\"experiment_id\":\"a13ef9d5-ac61-457d-80d2-ebaf49f1a903\",\"timestamp\":\"2022-06-07T02:59:48.7262Z\",\"source\":\"gui\",\"replay_parent_id\":null},\"data\":{\"date\":\"2022-06-07T02:28:36.9287Z\",\"experimenter\":\"MC/XY\",\"experiment_date\":\"2022-06-07T02:28:36.9775Z\",\"experiment_author\":\"MC/XY\",\"testbed_version\":\"5_13_2022_FULL_TRIALS-32-g19745118\",\"intervention_agents\":[\"ASI_UAZ_TA1_ToMCAT\"],\"name\":\"TM000260_T000720\",\"map_block_filename\":\"MapBlocks_SaturnD_2.3_xyz.csv\",\"group_number\":\"7\",\"study_number\":\"3\",\"notes\":[\"na\"],\"condition\":\"7\",\"client_info\":[{\"unique_id\":\"E000940\",\"participant_id\":\"E000940\",\"playername\":\"RED_ASIST_2\",\"callsign\":\"Red\",\"markerblocklegend\":\"\",\"staticmapversion\":\"\"},{\"unique_id\":\"E000888\",\"participant_id\":\"E000888\",\"playername\":\"GREEN_ASIST2\",\"callsign\":\"Green\",\"markerblocklegend\":\"\",\"staticmapversion\":\"\"},{\"unique_id\":\"E000931\",\"participant_id\":\"E000931\",\"playername\":\"BLUE_ASIST2\",\"callsign\":\"Blue\",\"markerblocklegend\":\"\",\"staticmapversion\":\"\"}],\"experiment_name\":\"TM000260\",\"experiment_mission\":\"Saturn_D\",\"trial_number\":\"T000720\",\"map_name\":\"Saturn_2.6_3D\",\"subjects\":[\"E000940\",\" E000888\",\" E000931\"]},\"host\":\"2408c62f3d41\"}\n",
      "\n"
     ]
    },
    {
     "name": "stderr",
     "output_type": "stream",
     "text": [
      "100%|██████████| 170/170 [00:00<00:00, 5825.28it/s]\n"
     ]
    },
    {
     "name": "stdout",
     "output_type": "stream",
     "text": [
      "[WARN] No vocalic feature found for subject GREEN_ASIST2.\n",
      "[WARN] No vocalic feature found for subject BLUE_ASIST2.\n",
      "[WARN] No vocalic feature found for subject RED_ASIST_2.\n"
     ]
    }
   ],
   "source": [
    "trial_saturn_B_260 = Trial(metadata_path_B_260)"
   ]
  },
  {
   "cell_type": "code",
   "execution_count": 8,
   "metadata": {},
   "outputs": [
    {
     "name": "stdout",
     "output_type": "stream",
     "text": [
      "Total number of utterances is 161\n",
      "There are 161 utterances that do not have any vocalics\n"
     ]
    }
   ],
   "source": [
    "analyze_utterances(trial_saturn_B_260.utterances_per_subject)"
   ]
  },
  {
   "cell_type": "code",
   "execution_count": 9,
   "metadata": {},
   "outputs": [
    {
     "name": "stdout",
     "output_type": "stream",
     "text": [
      "[ERROR] Bad json line of len: 1442, {\"@version\":\"1\",\"host\":\"d42ec893b18e\",\"@timestamp\":\"2022-06-14T22:36:47.264Z\",\"msg\":{\"trial_id\":\"1085c445-ec22-4fdf-9b9a-b992194de7d8\",\"experiment_id\":\"93027e07-7379-45ae-971a-258fa6c43da2\",\"sub_type\":\"start\",\"timestamp\":\"2022-06-14T22:36:47.2103Z\",\"source\":\"gui\",\"replay_parent_type\":null,\"version\":\"0.1\",\"replay_parent_id\":null,\"replay_id\":null},\"topic\":\"trial\",\"data\":{\"client_info\":[{\"markerblocklegend\":\"\",\"unique_id\":\"E001002\",\"participant_id\":\"E001002\",\"staticmapversion\":\"\",\"callsign\":\"Red\",\"playername\":\"RED_ASIST_2\"},{\"markerblocklegend\":\"\",\"unique_id\":\"E000880\",\"participant_id\":\"E000880\",\"staticmapversion\":\"\",\"callsign\":\"Green\",\"playername\":\"GREEN_ASIST2\"},{\"markerblocklegend\":\"\",\"unique_id\":\"E000771\",\"participant_id\":\"E000771\",\"staticmapversion\":\"\",\"callsign\":\"Blue\",\"playername\":\"BLUE_ASIST2\"}],\"trial_number\":\"T000745\",\"group_number\":\"7\",\"experiment_mission\":\"Saturn_C\",\"experiment_author\":\"JL/XY\",\"experimenter\":\"JL/XY\",\"experiment_date\":\"2022-06-14T22:36:47.2619Z\",\"testbed_version\":\"5_13_2022_FULL_TRIALS-34-ga049588a\",\"map_name\":\"Saturn_2.6_3D\",\"name\":\"TM000273_T000745\",\"study_number\":\"3\",\"notes\":[\"na\"],\"date\":\"2022-06-14T22:36:47.2103Z\",\"subjects\":[\"E001002\",\" E000880\",\" E000771\"],\"experiment_name\":\"TM000273\",\"intervention_agents\":[\"ASI_UAZ_TA1_ToMCAT\"],\"condition\":\"7\",\"map_block_filename\":\"MapBlocks_SaturnC_2.3_xyz.csv\"},\"header\":{\"message_type\":\"trial\",\"version\":\"0.6\",\"timestamp\":\"2022-06-14T22:36:47.2103Z\"}}\n",
      "\n",
      "[ERROR] Bad json line of len: 1441, {\"@version\":\"1\",\"host\":\"d42ec893b18e\",\"@timestamp\":\"2022-06-14T22:59:38.979Z\",\"msg\":{\"trial_id\":\"1085c445-ec22-4fdf-9b9a-b992194de7d8\",\"experiment_id\":\"93027e07-7379-45ae-971a-258fa6c43da2\",\"sub_type\":\"stop\",\"timestamp\":\"2022-06-14T22:59:38.9764Z\",\"source\":\"gui\",\"replay_parent_type\":null,\"version\":\"0.1\",\"replay_parent_id\":null,\"replay_id\":null},\"topic\":\"trial\",\"data\":{\"client_info\":[{\"markerblocklegend\":\"\",\"unique_id\":\"E001002\",\"participant_id\":\"E001002\",\"staticmapversion\":\"\",\"callsign\":\"Red\",\"playername\":\"RED_ASIST_2\"},{\"markerblocklegend\":\"\",\"unique_id\":\"E000880\",\"participant_id\":\"E000880\",\"staticmapversion\":\"\",\"callsign\":\"Green\",\"playername\":\"GREEN_ASIST2\"},{\"markerblocklegend\":\"\",\"unique_id\":\"E000771\",\"participant_id\":\"E000771\",\"staticmapversion\":\"\",\"callsign\":\"Blue\",\"playername\":\"BLUE_ASIST2\"}],\"trial_number\":\"T000745\",\"group_number\":\"7\",\"experiment_mission\":\"Saturn_C\",\"experiment_author\":\"JL/XY\",\"experimenter\":\"JL/XY\",\"experiment_date\":\"2022-06-14T22:36:47.2619Z\",\"testbed_version\":\"5_13_2022_FULL_TRIALS-34-ga049588a\",\"map_name\":\"Saturn_2.6_3D\",\"name\":\"TM000273_T000745\",\"study_number\":\"3\",\"notes\":[\"na\"],\"date\":\"2022-06-14T22:36:47.2103Z\",\"subjects\":[\"E001002\",\" E000880\",\" E000771\"],\"experiment_name\":\"TM000273\",\"intervention_agents\":[\"ASI_UAZ_TA1_ToMCAT\"],\"condition\":\"7\",\"map_block_filename\":\"MapBlocks_SaturnC_2.3_xyz.csv\"},\"header\":{\"message_type\":\"trial\",\"version\":\"0.6\",\"timestamp\":\"2022-06-14T22:59:38.9764Z\"}}\n",
      "\n"
     ]
    },
    {
     "name": "stderr",
     "output_type": "stream",
     "text": [
      "100%|██████████| 242/242 [00:00<00:00, 5546.14it/s]\n"
     ]
    },
    {
     "name": "stdout",
     "output_type": "stream",
     "text": [
      "[WARN] No vocalic features detected for utterance between 2022-06-14T22:41:47.235768+00:00 and 2022-06-14T22:41:51.235768+00:00 for subject GREEN_ASIST2 in trial 1085c445-ec22-4fdf-9b9a-b992194de7d8.\n",
      "[WARN] No vocalic features detected for utterance between 2022-06-14T22:41:53.335768+00:00 and 2022-06-14T22:41:54.335768+00:00 for subject GREEN_ASIST2 in trial 1085c445-ec22-4fdf-9b9a-b992194de7d8.\n",
      "[WARN] No vocalic features detected for utterance between 2022-06-14T22:41:58.335768+00:00 and 2022-06-14T22:41:59.735768+00:00 for subject GREEN_ASIST2 in trial 1085c445-ec22-4fdf-9b9a-b992194de7d8.\n",
      "[WARN] No vocalic features detected for utterance between 2022-06-14T22:42:26.135768+00:00 and 2022-06-14T22:42:35.335768+00:00 for subject GREEN_ASIST2 in trial 1085c445-ec22-4fdf-9b9a-b992194de7d8.\n",
      "[WARN] No vocalic features detected for utterance between 2022-06-14T22:42:37.435768+00:00 and 2022-06-14T22:42:38.235768+00:00 for subject GREEN_ASIST2 in trial 1085c445-ec22-4fdf-9b9a-b992194de7d8.\n",
      "[WARN] No vocalic features detected for utterance between 2022-06-14T22:42:41.035768+00:00 and 2022-06-14T22:42:41.235768+00:00 for subject GREEN_ASIST2 in trial 1085c445-ec22-4fdf-9b9a-b992194de7d8.\n",
      "[WARN] No vocalic features detected for utterance between 2022-06-14T22:42:56.235768+00:00 and 2022-06-14T22:42:58.435768+00:00 for subject GREEN_ASIST2 in trial 1085c445-ec22-4fdf-9b9a-b992194de7d8.\n",
      "[WARN] No vocalic features detected for utterance between 2022-06-14T22:43:03.735768+00:00 and 2022-06-14T22:43:06.935768+00:00 for subject GREEN_ASIST2 in trial 1085c445-ec22-4fdf-9b9a-b992194de7d8.\n",
      "[WARN] No vocalic features detected for utterance between 2022-06-14T22:43:11.435768+00:00 and 2022-06-14T22:43:13.435768+00:00 for subject GREEN_ASIST2 in trial 1085c445-ec22-4fdf-9b9a-b992194de7d8.\n",
      "[WARN] No vocalic features detected for utterance between 2022-06-14T22:43:25.535768+00:00 and 2022-06-14T22:43:37.135768+00:00 for subject GREEN_ASIST2 in trial 1085c445-ec22-4fdf-9b9a-b992194de7d8.\n",
      "[WARN] No vocalic features detected for utterance between 2022-06-14T22:43:40.735768+00:00 and 2022-06-14T22:43:45.835768+00:00 for subject GREEN_ASIST2 in trial 1085c445-ec22-4fdf-9b9a-b992194de7d8.\n",
      "[WARN] No vocalic features detected for utterance between 2022-06-14T22:43:57.435768+00:00 and 2022-06-14T22:43:58.735768+00:00 for subject GREEN_ASIST2 in trial 1085c445-ec22-4fdf-9b9a-b992194de7d8.\n",
      "[WARN] No vocalic features detected for utterance between 2022-06-14T22:44:10.635768+00:00 and 2022-06-14T22:44:14.835768+00:00 for subject GREEN_ASIST2 in trial 1085c445-ec22-4fdf-9b9a-b992194de7d8.\n",
      "[WARN] No vocalic features detected for utterance between 2022-06-14T22:44:16.135768+00:00 and 2022-06-14T22:44:24.235768+00:00 for subject GREEN_ASIST2 in trial 1085c445-ec22-4fdf-9b9a-b992194de7d8.\n",
      "[WARN] No vocalic features detected for utterance between 2022-06-14T22:44:28.835768+00:00 and 2022-06-14T22:44:30.535768+00:00 for subject GREEN_ASIST2 in trial 1085c445-ec22-4fdf-9b9a-b992194de7d8.\n",
      "[WARN] No vocalic features detected for utterance between 2022-06-14T22:44:47.235768+00:00 and 2022-06-14T22:44:49.335768+00:00 for subject GREEN_ASIST2 in trial 1085c445-ec22-4fdf-9b9a-b992194de7d8.\n",
      "[WARN] No vocalic features detected for utterance between 2022-06-14T22:44:51.764521+00:00 and 2022-06-14T22:45:05.164521+00:00 for subject GREEN_ASIST2 in trial 1085c445-ec22-4fdf-9b9a-b992194de7d8.\n",
      "[WARN] No vocalic features detected for utterance between 2022-06-14T22:45:07.464521+00:00 and 2022-06-14T22:45:07.664521+00:00 for subject GREEN_ASIST2 in trial 1085c445-ec22-4fdf-9b9a-b992194de7d8.\n",
      "[WARN] No vocalic features detected for utterance between 2022-06-14T22:45:21.864521+00:00 and 2022-06-14T22:45:24.264521+00:00 for subject GREEN_ASIST2 in trial 1085c445-ec22-4fdf-9b9a-b992194de7d8.\n",
      "[WARN] No vocalic features detected for utterance between 2022-06-14T22:45:26.164521+00:00 and 2022-06-14T22:45:27.064521+00:00 for subject GREEN_ASIST2 in trial 1085c445-ec22-4fdf-9b9a-b992194de7d8.\n",
      "[WARN] No vocalic features detected for utterance between 2022-06-14T22:45:39.364521+00:00 and 2022-06-14T22:45:40.764521+00:00 for subject GREEN_ASIST2 in trial 1085c445-ec22-4fdf-9b9a-b992194de7d8.\n",
      "[WARN] No vocalic features detected for utterance between 2022-06-14T22:45:42.964521+00:00 and 2022-06-14T22:45:45.064521+00:00 for subject GREEN_ASIST2 in trial 1085c445-ec22-4fdf-9b9a-b992194de7d8.\n",
      "[WARN] No vocalic features detected for utterance between 2022-06-14T22:45:51.464521+00:00 and 2022-06-14T22:45:58.964521+00:00 for subject GREEN_ASIST2 in trial 1085c445-ec22-4fdf-9b9a-b992194de7d8.\n",
      "[WARN] No vocalic features detected for utterance between 2022-06-14T22:46:10.364521+00:00 and 2022-06-14T22:46:15.764521+00:00 for subject GREEN_ASIST2 in trial 1085c445-ec22-4fdf-9b9a-b992194de7d8.\n",
      "[WARN] No vocalic features detected for utterance between 2022-06-14T22:46:18.864521+00:00 and 2022-06-14T22:46:19.564521+00:00 for subject GREEN_ASIST2 in trial 1085c445-ec22-4fdf-9b9a-b992194de7d8.\n",
      "[WARN] No vocalic features detected for utterance between 2022-06-14T22:46:23.064521+00:00 and 2022-06-14T22:46:23.564521+00:00 for subject GREEN_ASIST2 in trial 1085c445-ec22-4fdf-9b9a-b992194de7d8.\n",
      "[WARN] No vocalic features detected for utterance between 2022-06-14T22:46:33.064521+00:00 and 2022-06-14T22:46:33.864521+00:00 for subject GREEN_ASIST2 in trial 1085c445-ec22-4fdf-9b9a-b992194de7d8.\n",
      "[WARN] No vocalic features detected for utterance between 2022-06-14T22:46:38.564521+00:00 and 2022-06-14T22:46:40.464521+00:00 for subject GREEN_ASIST2 in trial 1085c445-ec22-4fdf-9b9a-b992194de7d8.\n",
      "[WARN] No vocalic features detected for utterance between 2022-06-14T22:46:42.364521+00:00 and 2022-06-14T22:46:42.664521+00:00 for subject GREEN_ASIST2 in trial 1085c445-ec22-4fdf-9b9a-b992194de7d8.\n",
      "[WARN] No vocalic features detected for utterance between 2022-06-14T22:46:47.064521+00:00 and 2022-06-14T22:46:47.264521+00:00 for subject GREEN_ASIST2 in trial 1085c445-ec22-4fdf-9b9a-b992194de7d8.\n",
      "[WARN] No vocalic features detected for utterance between 2022-06-14T22:46:49.364521+00:00 and 2022-06-14T22:46:49.764521+00:00 for subject GREEN_ASIST2 in trial 1085c445-ec22-4fdf-9b9a-b992194de7d8.\n",
      "[WARN] No vocalic features detected for utterance between 2022-06-14T22:47:03.564521+00:00 and 2022-06-14T22:47:15.264521+00:00 for subject GREEN_ASIST2 in trial 1085c445-ec22-4fdf-9b9a-b992194de7d8.\n",
      "[WARN] No vocalic features detected for utterance between 2022-06-14T22:47:17.164521+00:00 and 2022-06-14T22:47:17.864521+00:00 for subject GREEN_ASIST2 in trial 1085c445-ec22-4fdf-9b9a-b992194de7d8.\n",
      "[WARN] No vocalic features detected for utterance between 2022-06-14T22:47:19.664521+00:00 and 2022-06-14T22:47:20.164521+00:00 for subject GREEN_ASIST2 in trial 1085c445-ec22-4fdf-9b9a-b992194de7d8.\n",
      "[WARN] No vocalic features detected for utterance between 2022-06-14T22:47:22.064521+00:00 and 2022-06-14T22:47:24.164521+00:00 for subject GREEN_ASIST2 in trial 1085c445-ec22-4fdf-9b9a-b992194de7d8.\n",
      "[WARN] No vocalic features detected for utterance between 2022-06-14T22:47:28.164521+00:00 and 2022-06-14T22:47:28.264521+00:00 for subject GREEN_ASIST2 in trial 1085c445-ec22-4fdf-9b9a-b992194de7d8.\n",
      "[WARN] No vocalic features detected for utterance between 2022-06-14T22:47:37.464521+00:00 and 2022-06-14T22:47:41.164521+00:00 for subject GREEN_ASIST2 in trial 1085c445-ec22-4fdf-9b9a-b992194de7d8.\n",
      "[WARN] No vocalic features detected for utterance between 2022-06-14T22:47:43.064521+00:00 and 2022-06-14T22:47:47.864521+00:00 for subject GREEN_ASIST2 in trial 1085c445-ec22-4fdf-9b9a-b992194de7d8.\n",
      "[WARN] No vocalic features detected for utterance between 2022-06-14T22:47:49.164521+00:00 and 2022-06-14T22:47:53.664521+00:00 for subject GREEN_ASIST2 in trial 1085c445-ec22-4fdf-9b9a-b992194de7d8.\n",
      "[WARN] No vocalic features detected for utterance between 2022-06-14T22:47:59.964521+00:00 and 2022-06-14T22:48:05.864521+00:00 for subject GREEN_ASIST2 in trial 1085c445-ec22-4fdf-9b9a-b992194de7d8.\n",
      "[WARN] No vocalic features detected for utterance between 2022-06-14T22:48:08.164521+00:00 and 2022-06-14T22:48:16.664521+00:00 for subject GREEN_ASIST2 in trial 1085c445-ec22-4fdf-9b9a-b992194de7d8.\n",
      "[WARN] No vocalic features detected for utterance between 2022-06-14T22:48:19.464521+00:00 and 2022-06-14T22:48:27.564521+00:00 for subject GREEN_ASIST2 in trial 1085c445-ec22-4fdf-9b9a-b992194de7d8.\n",
      "[WARN] No vocalic features detected for utterance between 2022-06-14T22:48:30.764521+00:00 and 2022-06-14T22:48:31.064521+00:00 for subject GREEN_ASIST2 in trial 1085c445-ec22-4fdf-9b9a-b992194de7d8.\n",
      "[WARN] No vocalic features detected for utterance between 2022-06-14T22:48:34.364521+00:00 and 2022-06-14T22:48:35.064521+00:00 for subject GREEN_ASIST2 in trial 1085c445-ec22-4fdf-9b9a-b992194de7d8.\n",
      "[WARN] No vocalic features detected for utterance between 2022-06-14T22:48:45.764521+00:00 and 2022-06-14T22:48:46.564521+00:00 for subject GREEN_ASIST2 in trial 1085c445-ec22-4fdf-9b9a-b992194de7d8.\n",
      "[WARN] No vocalic features detected for utterance between 2022-06-14T22:48:52.001494+00:00 and 2022-06-14T22:49:05.101494+00:00 for subject GREEN_ASIST2 in trial 1085c445-ec22-4fdf-9b9a-b992194de7d8.\n",
      "[WARN] No vocalic features detected for utterance between 2022-06-14T22:49:09.501494+00:00 and 2022-06-14T22:49:10.201494+00:00 for subject GREEN_ASIST2 in trial 1085c445-ec22-4fdf-9b9a-b992194de7d8.\n",
      "[WARN] No vocalic features detected for utterance between 2022-06-14T22:49:12.201494+00:00 and 2022-06-14T22:49:21.701494+00:00 for subject GREEN_ASIST2 in trial 1085c445-ec22-4fdf-9b9a-b992194de7d8.\n",
      "[WARN] No vocalic features detected for utterance between 2022-06-14T22:49:23.501494+00:00 and 2022-06-14T22:49:25.201494+00:00 for subject GREEN_ASIST2 in trial 1085c445-ec22-4fdf-9b9a-b992194de7d8.\n",
      "[WARN] No vocalic features detected for utterance between 2022-06-14T22:49:28.901494+00:00 and 2022-06-14T22:49:29.001494+00:00 for subject GREEN_ASIST2 in trial 1085c445-ec22-4fdf-9b9a-b992194de7d8.\n",
      "[WARN] No vocalic features detected for utterance between 2022-06-14T22:49:33.601494+00:00 and 2022-06-14T22:49:38.801494+00:00 for subject GREEN_ASIST2 in trial 1085c445-ec22-4fdf-9b9a-b992194de7d8.\n",
      "[WARN] No vocalic features detected for utterance between 2022-06-14T22:49:45.201494+00:00 and 2022-06-14T22:49:52.701494+00:00 for subject GREEN_ASIST2 in trial 1085c445-ec22-4fdf-9b9a-b992194de7d8.\n",
      "[WARN] No vocalic features detected for utterance between 2022-06-14T22:49:59.101494+00:00 and 2022-06-14T22:49:59.101494+00:00 for subject GREEN_ASIST2 in trial 1085c445-ec22-4fdf-9b9a-b992194de7d8.\n",
      "[WARN] No vocalic features detected for utterance between 2022-06-14T22:50:09.301494+00:00 and 2022-06-14T22:50:15.101494+00:00 for subject GREEN_ASIST2 in trial 1085c445-ec22-4fdf-9b9a-b992194de7d8.\n",
      "[WARN] No vocalic features detected for utterance between 2022-06-14T22:50:20.301494+00:00 and 2022-06-14T22:50:20.601494+00:00 for subject GREEN_ASIST2 in trial 1085c445-ec22-4fdf-9b9a-b992194de7d8.\n",
      "[WARN] No vocalic features detected for utterance between 2022-06-14T22:50:23.601494+00:00 and 2022-06-14T22:50:23.601494+00:00 for subject GREEN_ASIST2 in trial 1085c445-ec22-4fdf-9b9a-b992194de7d8.\n",
      "[WARN] No vocalic features detected for utterance between 2022-06-14T22:50:30.801494+00:00 and 2022-06-14T22:50:35.101494+00:00 for subject GREEN_ASIST2 in trial 1085c445-ec22-4fdf-9b9a-b992194de7d8.\n",
      "[WARN] No vocalic features detected for utterance between 2022-06-14T22:50:37.101494+00:00 and 2022-06-14T22:50:37.501494+00:00 for subject GREEN_ASIST2 in trial 1085c445-ec22-4fdf-9b9a-b992194de7d8.\n",
      "[WARN] No vocalic features detected for utterance between 2022-06-14T22:50:42.701494+00:00 and 2022-06-14T22:50:43.001494+00:00 for subject GREEN_ASIST2 in trial 1085c445-ec22-4fdf-9b9a-b992194de7d8.\n",
      "[WARN] No vocalic features detected for utterance between 2022-06-14T22:50:44.301494+00:00 and 2022-06-14T22:50:53.801494+00:00 for subject GREEN_ASIST2 in trial 1085c445-ec22-4fdf-9b9a-b992194de7d8.\n",
      "[WARN] No vocalic features detected for utterance between 2022-06-14T22:50:58.101494+00:00 and 2022-06-14T22:50:58.101494+00:00 for subject GREEN_ASIST2 in trial 1085c445-ec22-4fdf-9b9a-b992194de7d8.\n",
      "[WARN] No vocalic features detected for utterance between 2022-06-14T22:51:04.301494+00:00 and 2022-06-14T22:51:04.701494+00:00 for subject GREEN_ASIST2 in trial 1085c445-ec22-4fdf-9b9a-b992194de7d8.\n",
      "[WARN] No vocalic features detected for utterance between 2022-06-14T22:51:06.301494+00:00 and 2022-06-14T22:51:07.001494+00:00 for subject GREEN_ASIST2 in trial 1085c445-ec22-4fdf-9b9a-b992194de7d8.\n",
      "[WARN] No vocalic features detected for utterance between 2022-06-14T22:51:11.201494+00:00 and 2022-06-14T22:51:11.601494+00:00 for subject GREEN_ASIST2 in trial 1085c445-ec22-4fdf-9b9a-b992194de7d8.\n",
      "[WARN] No vocalic features detected for utterance between 2022-06-14T22:51:14.201494+00:00 and 2022-06-14T22:51:14.901494+00:00 for subject GREEN_ASIST2 in trial 1085c445-ec22-4fdf-9b9a-b992194de7d8.\n",
      "[WARN] No vocalic features detected for utterance between 2022-06-14T22:51:24.801494+00:00 and 2022-06-14T22:51:30.201494+00:00 for subject GREEN_ASIST2 in trial 1085c445-ec22-4fdf-9b9a-b992194de7d8.\n",
      "[WARN] No vocalic features detected for utterance between 2022-06-14T22:51:34.701494+00:00 and 2022-06-14T22:51:35.101494+00:00 for subject GREEN_ASIST2 in trial 1085c445-ec22-4fdf-9b9a-b992194de7d8.\n",
      "[WARN] No vocalic features detected for utterance between 2022-06-14T22:51:37.401494+00:00 and 2022-06-14T22:51:39.001494+00:00 for subject GREEN_ASIST2 in trial 1085c445-ec22-4fdf-9b9a-b992194de7d8.\n",
      "[WARN] No vocalic features detected for utterance between 2022-06-14T22:51:42.701494+00:00 and 2022-06-14T22:51:42.701494+00:00 for subject GREEN_ASIST2 in trial 1085c445-ec22-4fdf-9b9a-b992194de7d8.\n",
      "[WARN] No vocalic features detected for utterance between 2022-06-14T22:51:55.701494+00:00 and 2022-06-14T22:52:01.701494+00:00 for subject GREEN_ASIST2 in trial 1085c445-ec22-4fdf-9b9a-b992194de7d8.\n",
      "[WARN] No vocalic features detected for utterance between 2022-06-14T22:52:04.201494+00:00 and 2022-06-14T22:52:05.401494+00:00 for subject GREEN_ASIST2 in trial 1085c445-ec22-4fdf-9b9a-b992194de7d8.\n",
      "[WARN] No vocalic features detected for utterance between 2022-06-14T22:52:06.101494+00:00 and 2022-06-14T22:52:08.301494+00:00 for subject GREEN_ASIST2 in trial 1085c445-ec22-4fdf-9b9a-b992194de7d8.\n",
      "[WARN] No vocalic features detected for utterance between 2022-06-14T22:52:13.901494+00:00 and 2022-06-14T22:52:15.901494+00:00 for subject GREEN_ASIST2 in trial 1085c445-ec22-4fdf-9b9a-b992194de7d8.\n",
      "[WARN] No vocalic features detected for utterance between 2022-06-14T22:52:31.701494+00:00 and 2022-06-14T22:52:33.601494+00:00 for subject GREEN_ASIST2 in trial 1085c445-ec22-4fdf-9b9a-b992194de7d8.\n",
      "[WARN] No vocalic features detected for utterance between 2022-06-14T22:52:36.501494+00:00 and 2022-06-14T22:52:36.801494+00:00 for subject GREEN_ASIST2 in trial 1085c445-ec22-4fdf-9b9a-b992194de7d8.\n",
      "[WARN] No vocalic features detected for utterance between 2022-06-14T22:52:40.301494+00:00 and 2022-06-14T22:52:42.901494+00:00 for subject GREEN_ASIST2 in trial 1085c445-ec22-4fdf-9b9a-b992194de7d8.\n",
      "[WARN] No vocalic features detected for utterance between 2022-06-14T22:52:55.057134+00:00 and 2022-06-14T22:52:55.757134+00:00 for subject GREEN_ASIST2 in trial 1085c445-ec22-4fdf-9b9a-b992194de7d8.\n",
      "[WARN] No vocalic features detected for utterance between 2022-06-14T22:52:57.857134+00:00 and 2022-06-14T22:52:57.857134+00:00 for subject GREEN_ASIST2 in trial 1085c445-ec22-4fdf-9b9a-b992194de7d8.\n",
      "[WARN] No vocalic features detected for utterance between 2022-06-14T22:53:04.157134+00:00 and 2022-06-14T22:53:10.357134+00:00 for subject GREEN_ASIST2 in trial 1085c445-ec22-4fdf-9b9a-b992194de7d8.\n",
      "[WARN] No vocalic features detected for utterance between 2022-06-14T22:53:12.457134+00:00 and 2022-06-14T22:53:13.857134+00:00 for subject GREEN_ASIST2 in trial 1085c445-ec22-4fdf-9b9a-b992194de7d8.\n",
      "[WARN] No vocalic features detected for utterance between 2022-06-14T22:53:19.357134+00:00 and 2022-06-14T22:53:19.857134+00:00 for subject GREEN_ASIST2 in trial 1085c445-ec22-4fdf-9b9a-b992194de7d8.\n",
      "[WARN] No vocalic features detected for utterance between 2022-06-14T22:53:21.557134+00:00 and 2022-06-14T22:53:23.057134+00:00 for subject GREEN_ASIST2 in trial 1085c445-ec22-4fdf-9b9a-b992194de7d8.\n",
      "[WARN] No vocalic features detected for utterance between 2022-06-14T22:53:23.957134+00:00 and 2022-06-14T22:53:27.757134+00:00 for subject GREEN_ASIST2 in trial 1085c445-ec22-4fdf-9b9a-b992194de7d8.\n",
      "[WARN] No vocalic features detected for utterance between 2022-06-14T22:53:31.657134+00:00 and 2022-06-14T22:53:32.157134+00:00 for subject GREEN_ASIST2 in trial 1085c445-ec22-4fdf-9b9a-b992194de7d8.\n",
      "[WARN] No vocalic features detected for utterance between 2022-06-14T22:53:34.757134+00:00 and 2022-06-14T22:53:36.457134+00:00 for subject GREEN_ASIST2 in trial 1085c445-ec22-4fdf-9b9a-b992194de7d8.\n",
      "[WARN] No vocalic features detected for utterance between 2022-06-14T22:53:42.357134+00:00 and 2022-06-14T22:53:42.357134+00:00 for subject GREEN_ASIST2 in trial 1085c445-ec22-4fdf-9b9a-b992194de7d8.\n",
      "[WARN] No vocalic features detected for utterance between 2022-06-14T22:53:45.057134+00:00 and 2022-06-14T22:53:45.857134+00:00 for subject GREEN_ASIST2 in trial 1085c445-ec22-4fdf-9b9a-b992194de7d8.\n",
      "[WARN] No vocalic features detected for utterance between 2022-06-14T22:53:51.157134+00:00 and 2022-06-14T22:53:53.657134+00:00 for subject GREEN_ASIST2 in trial 1085c445-ec22-4fdf-9b9a-b992194de7d8.\n",
      "[WARN] No vocalic features detected for utterance between 2022-06-14T22:53:56.157134+00:00 and 2022-06-14T22:53:59.757134+00:00 for subject GREEN_ASIST2 in trial 1085c445-ec22-4fdf-9b9a-b992194de7d8.\n",
      "[WARN] No vocalic features detected for utterance between 2022-06-14T22:54:06.857134+00:00 and 2022-06-14T22:54:08.357134+00:00 for subject GREEN_ASIST2 in trial 1085c445-ec22-4fdf-9b9a-b992194de7d8.\n",
      "[WARN] No vocalic features detected for utterance between 2022-06-14T22:54:22.057134+00:00 and 2022-06-14T22:54:26.357134+00:00 for subject GREEN_ASIST2 in trial 1085c445-ec22-4fdf-9b9a-b992194de7d8.\n",
      "[WARN] No vocalic features detected for utterance between 2022-06-14T22:54:27.257134+00:00 and 2022-06-14T22:54:29.057134+00:00 for subject GREEN_ASIST2 in trial 1085c445-ec22-4fdf-9b9a-b992194de7d8.\n",
      "[WARN] No vocalic features detected for utterance between 2022-06-14T22:54:35.557134+00:00 and 2022-06-14T22:54:36.357134+00:00 for subject GREEN_ASIST2 in trial 1085c445-ec22-4fdf-9b9a-b992194de7d8.\n",
      "[WARN] No vocalic features detected for utterance between 2022-06-14T22:54:40.257134+00:00 and 2022-06-14T22:54:43.557134+00:00 for subject GREEN_ASIST2 in trial 1085c445-ec22-4fdf-9b9a-b992194de7d8.\n",
      "[WARN] No vocalic features detected for utterance between 2022-06-14T22:54:51.257134+00:00 and 2022-06-14T22:54:53.357134+00:00 for subject GREEN_ASIST2 in trial 1085c445-ec22-4fdf-9b9a-b992194de7d8.\n",
      "[WARN] No vocalic features detected for utterance between 2022-06-14T22:55:01.857134+00:00 and 2022-06-14T22:55:06.057134+00:00 for subject GREEN_ASIST2 in trial 1085c445-ec22-4fdf-9b9a-b992194de7d8.\n",
      "[WARN] No vocalic features detected for utterance between 2022-06-14T22:55:09.157134+00:00 and 2022-06-14T22:55:09.457134+00:00 for subject GREEN_ASIST2 in trial 1085c445-ec22-4fdf-9b9a-b992194de7d8.\n",
      "[WARN] No vocalic features detected for utterance between 2022-06-14T22:55:14.757134+00:00 and 2022-06-14T22:55:18.757134+00:00 for subject GREEN_ASIST2 in trial 1085c445-ec22-4fdf-9b9a-b992194de7d8.\n",
      "[WARN] No vocalic features detected for utterance between 2022-06-14T22:55:22.757134+00:00 and 2022-06-14T22:55:24.557134+00:00 for subject GREEN_ASIST2 in trial 1085c445-ec22-4fdf-9b9a-b992194de7d8.\n",
      "[WARN] No vocalic features detected for utterance between 2022-06-14T22:39:02.030738+00:00 and 2022-06-14T22:39:02.030738+00:00 for subject BLUE_ASIST2 in trial 1085c445-ec22-4fdf-9b9a-b992194de7d8.\n",
      "[WARN] No vocalic features detected for utterance between 2022-06-14T22:39:09.730738+00:00 and 2022-06-14T22:39:09.730738+00:00 for subject BLUE_ASIST2 in trial 1085c445-ec22-4fdf-9b9a-b992194de7d8.\n",
      "[WARN] No vocalic features detected for utterance between 2022-06-14T22:40:58.864327+00:00 and 2022-06-14T22:40:58.864327+00:00 for subject BLUE_ASIST2 in trial 1085c445-ec22-4fdf-9b9a-b992194de7d8.\n",
      "[WARN] No vocalic features detected for utterance between 2022-06-14T22:41:45.364327+00:00 and 2022-06-14T22:41:45.364327+00:00 for subject BLUE_ASIST2 in trial 1085c445-ec22-4fdf-9b9a-b992194de7d8.\n",
      "[WARN] No vocalic features detected for utterance between 2022-06-14T22:42:05.264327+00:00 and 2022-06-14T22:42:05.564327+00:00 for subject BLUE_ASIST2 in trial 1085c445-ec22-4fdf-9b9a-b992194de7d8.\n",
      "[WARN] No vocalic features detected for utterance between 2022-06-14T22:42:23.264327+00:00 and 2022-06-14T22:42:26.564327+00:00 for subject BLUE_ASIST2 in trial 1085c445-ec22-4fdf-9b9a-b992194de7d8.\n",
      "[WARN] No vocalic features detected for utterance between 2022-06-14T22:42:46.464327+00:00 and 2022-06-14T22:42:54.164327+00:00 for subject BLUE_ASIST2 in trial 1085c445-ec22-4fdf-9b9a-b992194de7d8.\n",
      "[WARN] No vocalic features detected for utterance between 2022-06-14T22:43:00.064327+00:00 and 2022-06-14T22:43:00.364327+00:00 for subject BLUE_ASIST2 in trial 1085c445-ec22-4fdf-9b9a-b992194de7d8.\n",
      "[WARN] No vocalic features detected for utterance between 2022-06-14T22:43:04.264327+00:00 and 2022-06-14T22:43:04.264327+00:00 for subject BLUE_ASIST2 in trial 1085c445-ec22-4fdf-9b9a-b992194de7d8.\n",
      "[WARN] No vocalic features detected for utterance between 2022-06-14T22:43:07.464327+00:00 and 2022-06-14T22:43:07.464327+00:00 for subject BLUE_ASIST2 in trial 1085c445-ec22-4fdf-9b9a-b992194de7d8.\n",
      "[WARN] No vocalic features detected for utterance between 2022-06-14T22:44:04.264327+00:00 and 2022-06-14T22:44:04.364327+00:00 for subject BLUE_ASIST2 in trial 1085c445-ec22-4fdf-9b9a-b992194de7d8.\n",
      "[WARN] No vocalic features detected for utterance between 2022-06-14T22:44:18.764327+00:00 and 2022-06-14T22:44:18.764327+00:00 for subject BLUE_ASIST2 in trial 1085c445-ec22-4fdf-9b9a-b992194de7d8.\n",
      "[WARN] No vocalic features detected for utterance between 2022-06-14T22:44:23.864327+00:00 and 2022-06-14T22:44:23.864327+00:00 for subject BLUE_ASIST2 in trial 1085c445-ec22-4fdf-9b9a-b992194de7d8.\n",
      "[WARN] No vocalic features detected for utterance between 2022-06-14T22:44:30.264327+00:00 and 2022-06-14T22:44:30.464327+00:00 for subject BLUE_ASIST2 in trial 1085c445-ec22-4fdf-9b9a-b992194de7d8.\n",
      "[WARN] No vocalic features detected for utterance between 2022-06-14T22:45:03.776767+00:00 and 2022-06-14T22:45:12.676767+00:00 for subject BLUE_ASIST2 in trial 1085c445-ec22-4fdf-9b9a-b992194de7d8.\n",
      "[WARN] No vocalic features detected for utterance between 2022-06-14T22:45:21.676767+00:00 and 2022-06-14T22:45:21.676767+00:00 for subject BLUE_ASIST2 in trial 1085c445-ec22-4fdf-9b9a-b992194de7d8.\n",
      "[WARN] No vocalic features detected for utterance between 2022-06-14T22:45:31.476767+00:00 and 2022-06-14T22:45:34.076767+00:00 for subject BLUE_ASIST2 in trial 1085c445-ec22-4fdf-9b9a-b992194de7d8.\n",
      "[WARN] No vocalic features detected for utterance between 2022-06-14T22:45:41.176767+00:00 and 2022-06-14T22:45:41.376767+00:00 for subject BLUE_ASIST2 in trial 1085c445-ec22-4fdf-9b9a-b992194de7d8.\n",
      "[WARN] No vocalic features detected for utterance between 2022-06-14T22:46:05.076767+00:00 and 2022-06-14T22:46:05.476767+00:00 for subject BLUE_ASIST2 in trial 1085c445-ec22-4fdf-9b9a-b992194de7d8.\n",
      "[WARN] No vocalic features detected for utterance between 2022-06-14T22:47:26.476767+00:00 and 2022-06-14T22:47:26.476767+00:00 for subject BLUE_ASIST2 in trial 1085c445-ec22-4fdf-9b9a-b992194de7d8.\n",
      "[WARN] No vocalic features detected for utterance between 2022-06-14T22:47:32.976767+00:00 and 2022-06-14T22:47:33.976767+00:00 for subject BLUE_ASIST2 in trial 1085c445-ec22-4fdf-9b9a-b992194de7d8.\n",
      "[WARN] No vocalic features detected for utterance between 2022-06-14T22:47:37.576767+00:00 and 2022-06-14T22:47:38.476767+00:00 for subject BLUE_ASIST2 in trial 1085c445-ec22-4fdf-9b9a-b992194de7d8.\n",
      "[WARN] No vocalic features detected for utterance between 2022-06-14T22:47:45.976767+00:00 and 2022-06-14T22:47:46.276767+00:00 for subject BLUE_ASIST2 in trial 1085c445-ec22-4fdf-9b9a-b992194de7d8.\n",
      "[WARN] No vocalic features detected for utterance between 2022-06-14T22:48:04.376767+00:00 and 2022-06-14T22:48:06.676767+00:00 for subject BLUE_ASIST2 in trial 1085c445-ec22-4fdf-9b9a-b992194de7d8.\n",
      "[WARN] No vocalic features detected for utterance between 2022-06-14T22:48:18.776767+00:00 and 2022-06-14T22:48:20.976767+00:00 for subject BLUE_ASIST2 in trial 1085c445-ec22-4fdf-9b9a-b992194de7d8.\n",
      "[WARN] No vocalic features detected for utterance between 2022-06-14T22:49:57.775355+00:00 and 2022-06-14T22:50:02.375355+00:00 for subject BLUE_ASIST2 in trial 1085c445-ec22-4fdf-9b9a-b992194de7d8.\n",
      "[WARN] No vocalic features detected for utterance between 2022-06-14T22:50:04.075355+00:00 and 2022-06-14T22:50:05.475355+00:00 for subject BLUE_ASIST2 in trial 1085c445-ec22-4fdf-9b9a-b992194de7d8.\n",
      "[WARN] No vocalic features detected for utterance between 2022-06-14T22:50:43.875355+00:00 and 2022-06-14T22:50:44.375355+00:00 for subject BLUE_ASIST2 in trial 1085c445-ec22-4fdf-9b9a-b992194de7d8.\n",
      "[WARN] No vocalic features detected for utterance between 2022-06-14T22:50:57.875355+00:00 and 2022-06-14T22:50:57.875355+00:00 for subject BLUE_ASIST2 in trial 1085c445-ec22-4fdf-9b9a-b992194de7d8.\n",
      "[WARN] No vocalic features detected for utterance between 2022-06-14T22:51:00.575355+00:00 and 2022-06-14T22:51:02.975355+00:00 for subject BLUE_ASIST2 in trial 1085c445-ec22-4fdf-9b9a-b992194de7d8.\n",
      "[WARN] No vocalic features detected for utterance between 2022-06-14T22:51:06.875355+00:00 and 2022-06-14T22:51:09.275355+00:00 for subject BLUE_ASIST2 in trial 1085c445-ec22-4fdf-9b9a-b992194de7d8.\n",
      "[WARN] No vocalic features detected for utterance between 2022-06-14T22:51:15.475355+00:00 and 2022-06-14T22:51:19.375355+00:00 for subject BLUE_ASIST2 in trial 1085c445-ec22-4fdf-9b9a-b992194de7d8.\n",
      "[WARN] No vocalic features detected for utterance between 2022-06-14T22:51:31.175355+00:00 and 2022-06-14T22:51:33.575355+00:00 for subject BLUE_ASIST2 in trial 1085c445-ec22-4fdf-9b9a-b992194de7d8.\n",
      "[WARN] No vocalic features detected for utterance between 2022-06-14T22:51:40.375355+00:00 and 2022-06-14T22:51:43.575355+00:00 for subject BLUE_ASIST2 in trial 1085c445-ec22-4fdf-9b9a-b992194de7d8.\n",
      "[WARN] No vocalic features detected for utterance between 2022-06-14T22:51:48.675355+00:00 and 2022-06-14T22:51:51.075355+00:00 for subject BLUE_ASIST2 in trial 1085c445-ec22-4fdf-9b9a-b992194de7d8.\n",
      "[WARN] No vocalic features detected for utterance between 2022-06-14T22:52:06.975355+00:00 and 2022-06-14T22:52:07.475355+00:00 for subject BLUE_ASIST2 in trial 1085c445-ec22-4fdf-9b9a-b992194de7d8.\n",
      "[WARN] No vocalic features detected for utterance between 2022-06-14T22:52:13.275355+00:00 and 2022-06-14T22:52:13.275355+00:00 for subject BLUE_ASIST2 in trial 1085c445-ec22-4fdf-9b9a-b992194de7d8.\n",
      "[WARN] No vocalic features detected for utterance between 2022-06-14T22:52:18.275355+00:00 and 2022-06-14T22:52:18.275355+00:00 for subject BLUE_ASIST2 in trial 1085c445-ec22-4fdf-9b9a-b992194de7d8.\n",
      "[WARN] No vocalic features detected for utterance between 2022-06-14T22:52:31.475355+00:00 and 2022-06-14T22:52:31.475355+00:00 for subject BLUE_ASIST2 in trial 1085c445-ec22-4fdf-9b9a-b992194de7d8.\n",
      "[WARN] No vocalic features detected for utterance between 2022-06-14T22:52:42.375355+00:00 and 2022-06-14T22:52:42.775355+00:00 for subject BLUE_ASIST2 in trial 1085c445-ec22-4fdf-9b9a-b992194de7d8.\n",
      "[WARN] No vocalic features detected for utterance between 2022-06-14T22:52:51.528492+00:00 and 2022-06-14T22:52:54.128492+00:00 for subject BLUE_ASIST2 in trial 1085c445-ec22-4fdf-9b9a-b992194de7d8.\n",
      "[WARN] No vocalic features detected for utterance between 2022-06-14T22:52:59.328492+00:00 and 2022-06-14T22:52:59.328492+00:00 for subject BLUE_ASIST2 in trial 1085c445-ec22-4fdf-9b9a-b992194de7d8.\n",
      "[WARN] No vocalic features detected for utterance between 2022-06-14T22:53:04.028492+00:00 and 2022-06-14T22:53:09.128492+00:00 for subject BLUE_ASIST2 in trial 1085c445-ec22-4fdf-9b9a-b992194de7d8.\n",
      "[WARN] No vocalic features detected for utterance between 2022-06-14T22:53:14.528492+00:00 and 2022-06-14T22:53:15.028492+00:00 for subject BLUE_ASIST2 in trial 1085c445-ec22-4fdf-9b9a-b992194de7d8.\n",
      "[WARN] No vocalic features detected for utterance between 2022-06-14T22:53:44.228492+00:00 and 2022-06-14T22:53:44.228492+00:00 for subject BLUE_ASIST2 in trial 1085c445-ec22-4fdf-9b9a-b992194de7d8.\n",
      "[WARN] No vocalic features detected for utterance between 2022-06-14T22:53:54.628492+00:00 and 2022-06-14T22:53:54.628492+00:00 for subject BLUE_ASIST2 in trial 1085c445-ec22-4fdf-9b9a-b992194de7d8.\n",
      "[WARN] No vocalic features detected for utterance between 2022-06-14T22:54:04.728492+00:00 and 2022-06-14T22:54:06.628492+00:00 for subject BLUE_ASIST2 in trial 1085c445-ec22-4fdf-9b9a-b992194de7d8.\n",
      "[WARN] No vocalic features detected for utterance between 2022-06-14T22:54:32.228492+00:00 and 2022-06-14T22:54:32.828492+00:00 for subject BLUE_ASIST2 in trial 1085c445-ec22-4fdf-9b9a-b992194de7d8.\n",
      "[WARN] No vocalic features detected for utterance between 2022-06-14T22:54:47.928492+00:00 and 2022-06-14T22:54:48.628492+00:00 for subject BLUE_ASIST2 in trial 1085c445-ec22-4fdf-9b9a-b992194de7d8.\n",
      "[WARN] No vocalic features detected for utterance between 2022-06-14T22:54:57.328492+00:00 and 2022-06-14T22:55:00.728492+00:00 for subject BLUE_ASIST2 in trial 1085c445-ec22-4fdf-9b9a-b992194de7d8.\n",
      "[WARN] No vocalic features detected for utterance between 2022-06-14T22:55:03.428492+00:00 and 2022-06-14T22:55:04.928492+00:00 for subject BLUE_ASIST2 in trial 1085c445-ec22-4fdf-9b9a-b992194de7d8.\n",
      "[WARN] No vocalic features detected for utterance between 2022-06-14T22:55:19.028492+00:00 and 2022-06-14T22:55:19.428492+00:00 for subject BLUE_ASIST2 in trial 1085c445-ec22-4fdf-9b9a-b992194de7d8.\n",
      "[WARN] No vocalic features detected for utterance between 2022-06-14T22:40:59.575276+00:00 and 2022-06-14T22:40:59.575276+00:00 for subject RED_ASIST_2 in trial 1085c445-ec22-4fdf-9b9a-b992194de7d8.\n",
      "[WARN] No vocalic features detected for utterance between 2022-06-14T22:41:58.875276+00:00 and 2022-06-14T22:42:04.075276+00:00 for subject RED_ASIST_2 in trial 1085c445-ec22-4fdf-9b9a-b992194de7d8.\n",
      "[WARN] No vocalic features detected for utterance between 2022-06-14T22:42:16.075276+00:00 and 2022-06-14T22:42:18.775276+00:00 for subject RED_ASIST_2 in trial 1085c445-ec22-4fdf-9b9a-b992194de7d8.\n",
      "[WARN] No vocalic features detected for utterance between 2022-06-14T22:42:38.975276+00:00 and 2022-06-14T22:42:39.275276+00:00 for subject RED_ASIST_2 in trial 1085c445-ec22-4fdf-9b9a-b992194de7d8.\n",
      "[WARN] No vocalic features detected for utterance between 2022-06-14T22:43:07.575276+00:00 and 2022-06-14T22:43:11.975276+00:00 for subject RED_ASIST_2 in trial 1085c445-ec22-4fdf-9b9a-b992194de7d8.\n",
      "[WARN] No vocalic features detected for utterance between 2022-06-14T22:43:14.975276+00:00 and 2022-06-14T22:43:15.875276+00:00 for subject RED_ASIST_2 in trial 1085c445-ec22-4fdf-9b9a-b992194de7d8.\n",
      "[WARN] No vocalic features detected for utterance between 2022-06-14T22:43:20.175276+00:00 and 2022-06-14T22:43:23.775276+00:00 for subject RED_ASIST_2 in trial 1085c445-ec22-4fdf-9b9a-b992194de7d8.\n",
      "[WARN] No vocalic features detected for utterance between 2022-06-14T22:43:38.275276+00:00 and 2022-06-14T22:43:42.375276+00:00 for subject RED_ASIST_2 in trial 1085c445-ec22-4fdf-9b9a-b992194de7d8.\n",
      "[WARN] No vocalic features detected for utterance between 2022-06-14T22:43:46.975276+00:00 and 2022-06-14T22:43:47.475276+00:00 for subject RED_ASIST_2 in trial 1085c445-ec22-4fdf-9b9a-b992194de7d8.\n",
      "[WARN] No vocalic features detected for utterance between 2022-06-14T22:44:44.275276+00:00 and 2022-06-14T22:44:45.375276+00:00 for subject RED_ASIST_2 in trial 1085c445-ec22-4fdf-9b9a-b992194de7d8.\n",
      "[WARN] No vocalic features detected for utterance between 2022-06-14T22:44:53.436382+00:00 and 2022-06-14T22:44:53.836382+00:00 for subject RED_ASIST_2 in trial 1085c445-ec22-4fdf-9b9a-b992194de7d8.\n",
      "[WARN] No vocalic features detected for utterance between 2022-06-14T22:44:55.436382+00:00 and 2022-06-14T22:44:55.436382+00:00 for subject RED_ASIST_2 in trial 1085c445-ec22-4fdf-9b9a-b992194de7d8.\n",
      "[WARN] No vocalic features detected for utterance between 2022-06-14T22:45:15.036382+00:00 and 2022-06-14T22:45:20.336382+00:00 for subject RED_ASIST_2 in trial 1085c445-ec22-4fdf-9b9a-b992194de7d8.\n",
      "[WARN] No vocalic features detected for utterance between 2022-06-14T22:45:24.436382+00:00 and 2022-06-14T22:45:25.036382+00:00 for subject RED_ASIST_2 in trial 1085c445-ec22-4fdf-9b9a-b992194de7d8.\n",
      "[WARN] No vocalic features detected for utterance between 2022-06-14T22:45:27.536382+00:00 and 2022-06-14T22:45:28.036382+00:00 for subject RED_ASIST_2 in trial 1085c445-ec22-4fdf-9b9a-b992194de7d8.\n",
      "[WARN] No vocalic features detected for utterance between 2022-06-14T22:45:35.236382+00:00 and 2022-06-14T22:45:37.736382+00:00 for subject RED_ASIST_2 in trial 1085c445-ec22-4fdf-9b9a-b992194de7d8.\n",
      "[WARN] No vocalic features detected for utterance between 2022-06-14T22:45:48.536382+00:00 and 2022-06-14T22:45:48.536382+00:00 for subject RED_ASIST_2 in trial 1085c445-ec22-4fdf-9b9a-b992194de7d8.\n",
      "[WARN] No vocalic features detected for utterance between 2022-06-14T22:45:51.936382+00:00 and 2022-06-14T22:45:52.336382+00:00 for subject RED_ASIST_2 in trial 1085c445-ec22-4fdf-9b9a-b992194de7d8.\n",
      "[WARN] No vocalic features detected for utterance between 2022-06-14T22:45:56.536382+00:00 and 2022-06-14T22:45:56.636382+00:00 for subject RED_ASIST_2 in trial 1085c445-ec22-4fdf-9b9a-b992194de7d8.\n",
      "[WARN] No vocalic features detected for utterance between 2022-06-14T22:46:02.836382+00:00 and 2022-06-14T22:46:07.936382+00:00 for subject RED_ASIST_2 in trial 1085c445-ec22-4fdf-9b9a-b992194de7d8.\n",
      "[WARN] No vocalic features detected for utterance between 2022-06-14T22:46:31.936382+00:00 and 2022-06-14T22:46:33.736382+00:00 for subject RED_ASIST_2 in trial 1085c445-ec22-4fdf-9b9a-b992194de7d8.\n",
      "[WARN] No vocalic features detected for utterance between 2022-06-14T22:46:45.836382+00:00 and 2022-06-14T22:46:46.736382+00:00 for subject RED_ASIST_2 in trial 1085c445-ec22-4fdf-9b9a-b992194de7d8.\n",
      "[WARN] No vocalic features detected for utterance between 2022-06-14T22:47:15.736382+00:00 and 2022-06-14T22:47:17.536382+00:00 for subject RED_ASIST_2 in trial 1085c445-ec22-4fdf-9b9a-b992194de7d8.\n",
      "[WARN] No vocalic features detected for utterance between 2022-06-14T22:47:22.436382+00:00 and 2022-06-14T22:47:28.836382+00:00 for subject RED_ASIST_2 in trial 1085c445-ec22-4fdf-9b9a-b992194de7d8.\n",
      "[WARN] No vocalic features detected for utterance between 2022-06-14T22:47:31.436382+00:00 and 2022-06-14T22:47:32.136382+00:00 for subject RED_ASIST_2 in trial 1085c445-ec22-4fdf-9b9a-b992194de7d8.\n",
      "[WARN] No vocalic features detected for utterance between 2022-06-14T22:47:34.536382+00:00 and 2022-06-14T22:47:34.536382+00:00 for subject RED_ASIST_2 in trial 1085c445-ec22-4fdf-9b9a-b992194de7d8.\n",
      "[WARN] No vocalic features detected for utterance between 2022-06-14T22:47:41.736382+00:00 and 2022-06-14T22:47:42.236382+00:00 for subject RED_ASIST_2 in trial 1085c445-ec22-4fdf-9b9a-b992194de7d8.\n",
      "[WARN] No vocalic features detected for utterance between 2022-06-14T22:47:54.936382+00:00 and 2022-06-14T22:48:00.636382+00:00 for subject RED_ASIST_2 in trial 1085c445-ec22-4fdf-9b9a-b992194de7d8.\n",
      "[WARN] No vocalic features detected for utterance between 2022-06-14T22:48:32.336382+00:00 and 2022-06-14T22:48:44.836382+00:00 for subject RED_ASIST_2 in trial 1085c445-ec22-4fdf-9b9a-b992194de7d8.\n",
      "[WARN] No vocalic features detected for utterance between 2022-06-14T22:49:26.395123+00:00 and 2022-06-14T22:49:28.895123+00:00 for subject RED_ASIST_2 in trial 1085c445-ec22-4fdf-9b9a-b992194de7d8.\n",
      "[WARN] No vocalic features detected for utterance between 2022-06-14T22:49:31.595123+00:00 and 2022-06-14T22:49:32.895123+00:00 for subject RED_ASIST_2 in trial 1085c445-ec22-4fdf-9b9a-b992194de7d8.\n",
      "[WARN] No vocalic features detected for utterance between 2022-06-14T22:49:40.395123+00:00 and 2022-06-14T22:49:44.795123+00:00 for subject RED_ASIST_2 in trial 1085c445-ec22-4fdf-9b9a-b992194de7d8.\n",
      "[WARN] No vocalic features detected for utterance between 2022-06-14T22:49:48.995123+00:00 and 2022-06-14T22:49:50.795123+00:00 for subject RED_ASIST_2 in trial 1085c445-ec22-4fdf-9b9a-b992194de7d8.\n",
      "[WARN] No vocalic features detected for utterance between 2022-06-14T22:49:52.895123+00:00 and 2022-06-14T22:49:58.895123+00:00 for subject RED_ASIST_2 in trial 1085c445-ec22-4fdf-9b9a-b992194de7d8.\n",
      "[WARN] No vocalic features detected for utterance between 2022-06-14T22:50:20.495123+00:00 and 2022-06-14T22:50:20.695123+00:00 for subject RED_ASIST_2 in trial 1085c445-ec22-4fdf-9b9a-b992194de7d8.\n",
      "[WARN] No vocalic features detected for utterance between 2022-06-14T22:50:47.395123+00:00 and 2022-06-14T22:50:50.095123+00:00 for subject RED_ASIST_2 in trial 1085c445-ec22-4fdf-9b9a-b992194de7d8.\n",
      "[WARN] No vocalic features detected for utterance between 2022-06-14T22:50:55.595123+00:00 and 2022-06-14T22:50:59.395123+00:00 for subject RED_ASIST_2 in trial 1085c445-ec22-4fdf-9b9a-b992194de7d8.\n",
      "[WARN] No vocalic features detected for utterance between 2022-06-14T22:51:06.995123+00:00 and 2022-06-14T22:51:07.295123+00:00 for subject RED_ASIST_2 in trial 1085c445-ec22-4fdf-9b9a-b992194de7d8.\n",
      "[WARN] No vocalic features detected for utterance between 2022-06-14T22:51:10.495123+00:00 and 2022-06-14T22:51:12.295123+00:00 for subject RED_ASIST_2 in trial 1085c445-ec22-4fdf-9b9a-b992194de7d8.\n",
      "[WARN] No vocalic features detected for utterance between 2022-06-14T22:51:23.695123+00:00 and 2022-06-14T22:51:26.795123+00:00 for subject RED_ASIST_2 in trial 1085c445-ec22-4fdf-9b9a-b992194de7d8.\n",
      "[WARN] No vocalic features detected for utterance between 2022-06-14T22:51:48.195123+00:00 and 2022-06-14T22:51:55.095123+00:00 for subject RED_ASIST_2 in trial 1085c445-ec22-4fdf-9b9a-b992194de7d8.\n",
      "[WARN] No vocalic features detected for utterance between 2022-06-14T22:52:26.695123+00:00 and 2022-06-14T22:52:30.595123+00:00 for subject RED_ASIST_2 in trial 1085c445-ec22-4fdf-9b9a-b992194de7d8.\n",
      "[WARN] No vocalic features detected for utterance between 2022-06-14T22:52:37.295123+00:00 and 2022-06-14T22:52:39.995123+00:00 for subject RED_ASIST_2 in trial 1085c445-ec22-4fdf-9b9a-b992194de7d8.\n",
      "[WARN] No vocalic features detected for utterance between 2022-06-14T22:53:38.043263+00:00 and 2022-06-14T22:53:42.743263+00:00 for subject RED_ASIST_2 in trial 1085c445-ec22-4fdf-9b9a-b992194de7d8.\n",
      "[WARN] No vocalic features detected for utterance between 2022-06-14T22:54:02.543263+00:00 and 2022-06-14T22:54:02.943263+00:00 for subject RED_ASIST_2 in trial 1085c445-ec22-4fdf-9b9a-b992194de7d8.\n",
      "[WARN] No vocalic features detected for utterance between 2022-06-14T22:54:08.243263+00:00 and 2022-06-14T22:54:08.243263+00:00 for subject RED_ASIST_2 in trial 1085c445-ec22-4fdf-9b9a-b992194de7d8.\n",
      "[WARN] No vocalic features detected for utterance between 2022-06-14T22:54:11.343263+00:00 and 2022-06-14T22:54:14.543263+00:00 for subject RED_ASIST_2 in trial 1085c445-ec22-4fdf-9b9a-b992194de7d8.\n",
      "[WARN] No vocalic features detected for utterance between 2022-06-14T22:54:19.043263+00:00 and 2022-06-14T22:54:21.643263+00:00 for subject RED_ASIST_2 in trial 1085c445-ec22-4fdf-9b9a-b992194de7d8.\n",
      "[WARN] No vocalic features detected for utterance between 2022-06-14T22:54:32.943263+00:00 and 2022-06-14T22:54:35.243263+00:00 for subject RED_ASIST_2 in trial 1085c445-ec22-4fdf-9b9a-b992194de7d8.\n",
      "[WARN] No vocalic features detected for utterance between 2022-06-14T22:54:41.143263+00:00 and 2022-06-14T22:54:44.743263+00:00 for subject RED_ASIST_2 in trial 1085c445-ec22-4fdf-9b9a-b992194de7d8.\n",
      "[WARN] No vocalic features detected for utterance between 2022-06-14T22:54:49.443263+00:00 and 2022-06-14T22:54:53.143263+00:00 for subject RED_ASIST_2 in trial 1085c445-ec22-4fdf-9b9a-b992194de7d8.\n",
      "[WARN] No vocalic features detected for utterance between 2022-06-14T22:54:58.543263+00:00 and 2022-06-14T22:55:00.543263+00:00 for subject RED_ASIST_2 in trial 1085c445-ec22-4fdf-9b9a-b992194de7d8.\n",
      "[WARN] No vocalic features detected for utterance between 2022-06-14T22:55:16.743263+00:00 and 2022-06-14T22:55:18.243263+00:00 for subject RED_ASIST_2 in trial 1085c445-ec22-4fdf-9b9a-b992194de7d8.\n",
      "[WARN] No vocalic features detected for utterance between 2022-06-14T22:55:23.643263+00:00 and 2022-06-14T22:55:25.543263+00:00 for subject RED_ASIST_2 in trial 1085c445-ec22-4fdf-9b9a-b992194de7d8.\n"
     ]
    }
   ],
   "source": [
    "trial_saturn_A_273 = Trial(metadata_path_A_273)"
   ]
  },
  {
   "cell_type": "code",
   "execution_count": 10,
   "metadata": {},
   "outputs": [
    {
     "name": "stdout",
     "output_type": "stream",
     "text": [
      "Total number of utterances is 238\n",
      "There are 205 utterances that do not have any vocalics\n",
      "Earliest vocalic timestamp is 2022-06-14T22:38:43.882570+00:00\n",
      "Latest vocalic timestamp is 2022-06-14T22:41:53.700726+00:00\n"
     ]
    }
   ],
   "source": [
    "analyze_utterances(trial_saturn_A_273.utterances_per_subject)"
   ]
  },
  {
   "cell_type": "code",
   "execution_count": 11,
   "metadata": {},
   "outputs": [
    {
     "name": "stdout",
     "output_type": "stream",
     "text": [
      "[ERROR] Bad json line of len: 1442, {\"@version\":\"1\",\"host\":\"d42ec893b18e\",\"@timestamp\":\"2022-06-14T23:00:00.379Z\",\"msg\":{\"trial_id\":\"517cab57-6962-4056-b386-6fff796140f1\",\"experiment_id\":\"93027e07-7379-45ae-971a-258fa6c43da2\",\"sub_type\":\"start\",\"timestamp\":\"2022-06-14T23:00:00.3776Z\",\"source\":\"gui\",\"replay_parent_type\":null,\"version\":\"0.1\",\"replay_parent_id\":null,\"replay_id\":null},\"topic\":\"trial\",\"data\":{\"client_info\":[{\"markerblocklegend\":\"\",\"unique_id\":\"E001002\",\"participant_id\":\"E001002\",\"staticmapversion\":\"\",\"callsign\":\"Red\",\"playername\":\"RED_ASIST_2\"},{\"markerblocklegend\":\"\",\"unique_id\":\"E000880\",\"participant_id\":\"E000880\",\"staticmapversion\":\"\",\"callsign\":\"Green\",\"playername\":\"GREEN_ASIST2\"},{\"markerblocklegend\":\"\",\"unique_id\":\"E000771\",\"participant_id\":\"E000771\",\"staticmapversion\":\"\",\"callsign\":\"Blue\",\"playername\":\"BLUE_ASIST2\"}],\"trial_number\":\"T000746\",\"group_number\":\"7\",\"experiment_mission\":\"Saturn_D\",\"experiment_author\":\"JL/XY\",\"experimenter\":\"JL/XY\",\"experiment_date\":\"2022-06-14T23:00:00.3781Z\",\"testbed_version\":\"5_13_2022_FULL_TRIALS-34-ga049588a\",\"map_name\":\"Saturn_2.6_3D\",\"name\":\"TM000273_T000746\",\"study_number\":\"3\",\"notes\":[\"na\"],\"date\":\"2022-06-14T23:00:00.3777Z\",\"subjects\":[\"E001002\",\" E000880\",\" E000771\"],\"experiment_name\":\"TM000273\",\"intervention_agents\":[\"ASI_UAZ_TA1_ToMCAT\"],\"condition\":\"7\",\"map_block_filename\":\"MapBlocks_SaturnD_2.3_xyz.csv\"},\"header\":{\"message_type\":\"trial\",\"version\":\"0.6\",\"timestamp\":\"2022-06-14T23:00:00.3776Z\"}}\n",
      "\n",
      "[ERROR] Bad json line of len: 1441, {\"@version\":\"1\",\"host\":\"d42ec893b18e\",\"@timestamp\":\"2022-06-14T23:30:11.541Z\",\"msg\":{\"trial_id\":\"517cab57-6962-4056-b386-6fff796140f1\",\"experiment_id\":\"93027e07-7379-45ae-971a-258fa6c43da2\",\"sub_type\":\"stop\",\"timestamp\":\"2022-06-14T23:30:11.5399Z\",\"source\":\"gui\",\"replay_parent_type\":null,\"version\":\"0.1\",\"replay_parent_id\":null,\"replay_id\":null},\"topic\":\"trial\",\"data\":{\"client_info\":[{\"markerblocklegend\":\"\",\"unique_id\":\"E001002\",\"participant_id\":\"E001002\",\"staticmapversion\":\"\",\"callsign\":\"Red\",\"playername\":\"RED_ASIST_2\"},{\"markerblocklegend\":\"\",\"unique_id\":\"E000880\",\"participant_id\":\"E000880\",\"staticmapversion\":\"\",\"callsign\":\"Green\",\"playername\":\"GREEN_ASIST2\"},{\"markerblocklegend\":\"\",\"unique_id\":\"E000771\",\"participant_id\":\"E000771\",\"staticmapversion\":\"\",\"callsign\":\"Blue\",\"playername\":\"BLUE_ASIST2\"}],\"trial_number\":\"T000746\",\"group_number\":\"7\",\"experiment_mission\":\"Saturn_D\",\"experiment_author\":\"JL/XY\",\"experimenter\":\"JL/XY\",\"experiment_date\":\"2022-06-14T23:00:00.3781Z\",\"testbed_version\":\"5_13_2022_FULL_TRIALS-34-ga049588a\",\"map_name\":\"Saturn_2.6_3D\",\"name\":\"TM000273_T000746\",\"study_number\":\"3\",\"notes\":[\"na\"],\"date\":\"2022-06-14T23:00:00.3777Z\",\"subjects\":[\"E001002\",\" E000880\",\" E000771\"],\"experiment_name\":\"TM000273\",\"intervention_agents\":[\"ASI_UAZ_TA1_ToMCAT\"],\"condition\":\"7\",\"map_block_filename\":\"MapBlocks_SaturnD_2.3_xyz.csv\"},\"header\":{\"message_type\":\"trial\",\"version\":\"0.6\",\"timestamp\":\"2022-06-14T23:30:11.5399Z\"}}\n",
      "\n"
     ]
    },
    {
     "name": "stderr",
     "output_type": "stream",
     "text": [
      "100%|██████████| 304/304 [00:00<00:00, 5660.83it/s]\n"
     ]
    },
    {
     "name": "stdout",
     "output_type": "stream",
     "text": [
      "[WARN] No vocalic feature found for subject BLUE_ASIST2.\n",
      "[WARN] No vocalic feature found for subject RED_ASIST_2.\n",
      "[WARN] No vocalic feature found for subject GREEN_ASIST2.\n"
     ]
    }
   ],
   "source": [
    "trial_saturn_B_273 = Trial(metadata_path_B_273)"
   ]
  },
  {
   "cell_type": "code",
   "execution_count": 12,
   "metadata": {},
   "outputs": [
    {
     "name": "stdout",
     "output_type": "stream",
     "text": [
      "Total number of utterances is 299\n",
      "There are 299 utterances that do not have any vocalics\n"
     ]
    }
   ],
   "source": [
    "analyze_utterances(trial_saturn_B_273.utterances_per_subject)"
   ]
  }
 ],
 "metadata": {
  "kernelspec": {
   "display_name": "Python 3.7.5 ('coordination')",
   "language": "python",
   "name": "python3"
  },
  "language_info": {
   "codemirror_mode": {
    "name": "ipython",
    "version": 3
   },
   "file_extension": ".py",
   "mimetype": "text/x-python",
   "name": "python",
   "nbconvert_exporter": "python",
   "pygments_lexer": "ipython3",
   "version": "3.7.5"
  },
  "orig_nbformat": 4,
  "vscode": {
   "interpreter": {
    "hash": "a5630dbfe6748d7b8cae07c9ccd3d599dd9abcb664008d96dadf4c34b4c15542"
   }
  }
 },
 "nbformat": 4,
 "nbformat_minor": 2
}
