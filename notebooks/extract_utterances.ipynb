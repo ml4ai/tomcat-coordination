{
 "cells": [
  {
   "cell_type": "code",
   "execution_count": 1,
   "metadata": {},
   "outputs": [],
   "source": [
    "%load_ext autoreload\n",
    "%autoreload 2\n",
    "%config InlineBackend.figure_format = 'retina'\n",
    "import sys\n",
    "sys.path.append('../.venv/lib/python3.7/site-packages/')\n",
    "sys.path.append('..')"
   ]
  },
  {
   "cell_type": "code",
   "execution_count": 2,
   "metadata": {},
   "outputs": [],
   "source": [
    "from src.components.speech.trial import Trial"
   ]
  },
  {
   "cell_type": "code",
   "execution_count": 3,
   "metadata": {},
   "outputs": [],
   "source": [
    "def analyze_utterances(utterances_per_subject):\n",
    "    num_utterances = 0\n",
    "    num_utterances_missing_vocalics = 0\n",
    "\n",
    "    earliest_vocalic_timestamp = None\n",
    "    latest_vocalic_timestamp = None\n",
    "\n",
    "    for utterances in utterances_per_subject.values():\n",
    "        num_utterances += len(utterances)\n",
    "\n",
    "        for utterance in utterances:\n",
    "            if len(utterance.vocalic_series) == 0:\n",
    "                num_utterances_missing_vocalics += 1\n",
    "            else:\n",
    "                for vocalic in utterance.vocalic_series:\n",
    "                    if earliest_vocalic_timestamp is None or vocalic.timestamp < earliest_vocalic_timestamp:\n",
    "                        earliest_vocalic_timestamp = vocalic.timestamp\n",
    "\n",
    "                    if latest_vocalic_timestamp is None or vocalic.timestamp > latest_vocalic_timestamp:\n",
    "                        latest_vocalic_timestamp = vocalic.timestamp\n",
    "\n",
    "    print(f\"Total number of utterances is {num_utterances}\")\n",
    "    print(f\"There are {num_utterances_missing_vocalics} utterances that do not have any vocalics\")\n",
    "\n",
    "    if earliest_vocalic_timestamp is not None:\n",
    "        print(f\"Earliest vocalic timestamp is {earliest_vocalic_timestamp.isoformat()}\")\n",
    "    if latest_vocalic_timestamp is not None:\n",
    "        print(f\"Latest vocalic timestamp is {latest_vocalic_timestamp.isoformat()}\")"
   ]
  },
  {
   "cell_type": "code",
   "execution_count": 4,
   "metadata": {},
   "outputs": [],
   "source": [
    "data_directory = \"/home/soggy/Documents/data/tomcat/tomcat-coordination/replay/\"\n",
    "metadata_path = data_directory + \"T000745.metadata\""
   ]
  },
  {
   "cell_type": "code",
   "execution_count": 5,
   "metadata": {},
   "outputs": [
    {
     "name": "stderr",
     "output_type": "stream",
     "text": [
      "100%|██████████| 242/242 [00:00<00:00, 8390.69it/s]"
     ]
    },
    {
     "name": "stdout",
     "output_type": "stream",
     "text": [
      "[WARN] No vocalic feature found for subject green.\n",
      "[WARN] No vocalic feature found for subject blue.\n",
      "[WARN] No vocalic feature found for subject red.\n"
     ]
    },
    {
     "name": "stderr",
     "output_type": "stream",
     "text": [
      "\n"
     ]
    }
   ],
   "source": [
    "trial = Trial(metadata_path)"
   ]
  },
  {
   "cell_type": "code",
   "execution_count": 6,
   "metadata": {},
   "outputs": [
    {
     "name": "stdout",
     "output_type": "stream",
     "text": [
      "Total number of utterances is 239\n",
      "There are 239 utterances that do not have any vocalics\n"
     ]
    }
   ],
   "source": [
    "analyze_utterances(trial.utterances_per_subject)"
   ]
  }
 ],
 "metadata": {
  "kernelspec": {
   "display_name": "Python 3.7.5 ('coordination')",
   "language": "python",
   "name": "python3"
  },
  "language_info": {
   "codemirror_mode": {
    "name": "ipython",
    "version": 3
   },
   "file_extension": ".py",
   "mimetype": "text/x-python",
   "name": "python",
   "nbconvert_exporter": "python",
   "pygments_lexer": "ipython3",
   "version": "3.7.5"
  },
  "orig_nbformat": 4,
  "vscode": {
   "interpreter": {
    "hash": "a5630dbfe6748d7b8cae07c9ccd3d599dd9abcb664008d96dadf4c34b4c15542"
   }
  }
 },
 "nbformat": 4,
 "nbformat_minor": 2
}
