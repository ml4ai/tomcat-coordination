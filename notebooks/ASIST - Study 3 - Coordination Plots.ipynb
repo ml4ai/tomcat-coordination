{
 "cells": [
  {
   "cell_type": "code",
   "execution_count": 2,
   "metadata": {},
   "outputs": [],
   "source": [
    "%load_ext autoreload\n",
    "%autoreload 2\n",
    "%config InlineBackend.figure_format = 'retina'\n",
    "import sys\n",
    "sys.path.append('../.venv/lib/python3.7/site-packages/')\n",
    "sys.path.append('..')"
   ]
  },
  {
   "cell_type": "code",
   "execution_count": null,
   "outputs": [],
   "source": [
    "import matplotlib.pyplot as plt\n",
    "import numpy as np\n",
    "\n",
    "# Custom code\n",
    "from coordination.component.speech.vocalics_component import VocalicsComponent\n",
    "from coordination.inference.vocalics import DiscreteCoordinationInferenceFromVocalics, ContinuousCoordinationInferenceFromVocalics\n",
    "from coordination.plot.coordination import add_discrete_coordination_bar\n",
    "from coordination.plot.vocalics import plot_vocalic_features"
   ],
   "metadata": {
    "collapsed": false,
    "pycharm": {
     "name": "#%%\n"
    }
   }
  },
  {
   "cell_type": "markdown",
   "source": [
    "# Trial 745\n",
    "\n",
    "We use post processed trial data. To generate this data, execute the script `coordination/scripts/parse_and_save_single_metadata_file.py`."
   ],
   "metadata": {
    "collapsed": false,
    "pycharm": {
     "name": "#%% md\n"
    }
   }
  },
  {
   "cell_type": "code",
   "execution_count": null,
   "outputs": [],
   "source": [
    "# Constants\n",
    "NUM_TIME_STEPS = 17 * 60 #(17 minutes of mission in seconds)\n",
    "M = int(NUM_TIME_STEPS/2) # We assume coordination in the second half of the period is constant\n",
    "NUM_FEATURES = 2 # Pitch and Intensity\n",
    "\n",
    "# Common parameters\n",
    "MEAN_PRIOR_A = np.zeros(NUM_FEATURES)\n",
    "MEAN_PRIOR_B = np.zeros(NUM_FEATURES)\n",
    "STD_PRIOR_A = np.ones(NUM_FEATURES)\n",
    "STD_PRIOR_B = np.ones(NUM_FEATURES)\n",
    "ANTIPHASE_FUNCTION = lambda x, s: -x if s == 0 else x\n",
    "ANYPHASE_FUNCTION = lambda x, s: np.abs(x)\n",
    "\n",
    "# Parameters of the discrete model\n",
    "P_COORDINATION_TRANSITION = 0.1 # Coordination changes with small probability\n",
    "P_COORDINATION = 0 # The process starts with no coordination\n",
    "STD_UNCOORDINATED_A = np.ones(NUM_FEATURES)\n",
    "STD_UNCOORDINATED_B = np.ones(NUM_FEATURES)\n",
    "STD_COORDINATED_A = np.ones(NUM_FEATURES)\n",
    "STD_COORDINATED_B = np.ones(NUM_FEATURES)\n",
    "\n",
    "# Parameters of the continuous model\n",
    "MEAN_COORDINATION_PRIOR = 0; STD_COORDINATION_PRIOR = 0 # The process starts with no coordination\n",
    "STD_COORDINATION_DRIFT = 0.1 # Coordination drifts by a little\n",
    "STD_COUPLING_A = np.ones(NUM_FEATURES)\n",
    "STD_COUPLING_B = np.ones(NUM_FEATURES)"
   ],
   "metadata": {
    "collapsed": false,
    "pycharm": {
     "name": "#%%\n"
    }
   }
  },
  {
   "cell_type": "markdown",
   "source": [
    "## Vocalic Features"
   ],
   "metadata": {
    "collapsed": false,
    "pycharm": {
     "name": "#%% md\n"
    }
   }
  },
  {
   "cell_type": "code",
   "execution_count": null,
   "outputs": [],
   "source": [
    "vocalics_component = VocalicsComponent.from_trial_directory(\"../data/study-3_2022/T000745/\")\n",
    "\n",
    "fig, axs = plt.subplots(1, 2, figsize=(18,5))\n",
    "vocalics_component.plot_features(axs, 1020, True, True)"
   ],
   "metadata": {
    "collapsed": false,
    "pycharm": {
     "name": "#%%\n"
    }
   }
  },
  {
   "cell_type": "markdown",
   "source": [
    "## Discrete Coordination Inference"
   ],
   "metadata": {
    "collapsed": false,
    "pycharm": {
     "name": "#%% md\n"
    }
   }
  },
  {
   "cell_type": "markdown",
   "source": [
    "### Phase Coordination"
   ],
   "metadata": {
    "collapsed": false,
    "pycharm": {
     "name": "#%% md\n"
    }
   }
  },
  {
   "cell_type": "code",
   "execution_count": null,
   "outputs": [],
   "source": [
    "vocalics_a, vocalics_b = vocalics_component.sparse_series(NUM_TIME_STEPS)\n",
    "vocalics_a.normalize()\n",
    "vocalics_b.normalize()\n",
    "\n",
    "inference_engine = DiscreteCoordinationInferenceFromVocalics(series_a=vocalics_a, \n",
    "                                                             series_b=vocalics_b, \n",
    "                                                             p_prior_coordination=P_COORDINATION, \n",
    "                                                             p_coordination_transition=P_COORDINATION_TRANSITION, \n",
    "                                                             mean_prior_a=MEAN_PRIOR_A,\n",
    "                                                             mean_prior_b=MEAN_PRIOR_B,\n",
    "                                                             std_prior_a=STD_PRIOR_A,\n",
    "                                                             std_prior_b=STD_PRIOR_B,\n",
    "                                                             std_uncoordinated_a=STD_UNCOORDINATED_A,\n",
    "                                                             std_uncoordinated_b=STD_UNCOORDINATED_B,\n",
    "                                                             std_coordinated_a=STD_COORDINATED_A,\n",
    "                                                             std_coordinated_b=STD_COORDINATED_B)\n",
    "marginal_cs = inference_engine.estimate_marginals()[1]\n",
    "fig = plt.figure(figsize=(20, 6))\n",
    "plt.plot(range(M+1), marginal_cs, marker=\"o\", color=\"tab:orange\", linestyle=\"--\")\n",
    "plt.xlabel(\"Time Steps (seconds)\")\n",
    "plt.ylabel(\"Marginal Probability\")\n",
    "plt.title(\"Discrete Coordination Inference\", fontsize=14, weight=\"bold\")\n",
    "masks = np.bitwise_or(vocalics_a.mask.astype(bool),vocalics_b.mask.astype(bool))\n",
    "times, masks = list(zip(*[(t, mask) for t, mask in enumerate(masks) if mask > 0 and t <= M]))\n",
    "plt.scatter(times, masks, color=\"tab:green\", marker=\"+\")\n",
    "add_discrete_coordination_bar(main_ax=fig.gca(),\n",
    "                              coordination_series=[np.where(marginal_cs > 0.5, 1, 0)],\n",
    "                              coordination_colors=[\"tab:orange\"],\n",
    "                              labels=[\"Coordination\"])"
   ],
   "metadata": {
    "collapsed": false,
    "pycharm": {
     "name": "#%%\n"
    }
   }
  },
  {
   "cell_type": "markdown",
   "source": [
    "### Anti-Phase Coordination"
   ],
   "metadata": {
    "collapsed": false,
    "pycharm": {
     "name": "#%% md\n"
    }
   }
  },
  {
   "cell_type": "code",
   "execution_count": null,
   "outputs": [],
   "source": [
    "vocalics_a, vocalics_b = vocalics_component.sparse_series(NUM_TIME_STEPS)\n",
    "vocalics_a.normalize()\n",
    "vocalics_b.normalize()\n",
    "\n",
    "inference_engine = DiscreteCoordinationInferenceFromVocalics(series_a=vocalics_a, \n",
    "                                                             series_b=vocalics_b, \n",
    "                                                             p_prior_coordination=P_COORDINATION, \n",
    "                                                             p_coordination_transition=P_COORDINATION_TRANSITION, \n",
    "                                                             mean_prior_a=MEAN_PRIOR_A,\n",
    "                                                             mean_prior_b=MEAN_PRIOR_B,\n",
    "                                                             std_prior_a=STD_PRIOR_A,\n",
    "                                                             std_prior_b=STD_PRIOR_B,\n",
    "                                                             std_uncoordinated_a=STD_UNCOORDINATED_A,\n",
    "                                                             std_uncoordinated_b=STD_UNCOORDINATED_B,\n",
    "                                                             std_coordinated_a=STD_COORDINATED_A,\n",
    "                                                             std_coordinated_b=STD_COORDINATED_B,\n",
    "                                                             f=ANTIPHASE_FUNCTION)\n",
    "marginal_cs = inference_engine.estimate_marginals()[1]\n",
    "fig = plt.figure(figsize=(20, 6))\n",
    "plt.plot(range(M+1), marginal_cs, marker=\"o\", color=\"tab:orange\", linestyle=\"--\")\n",
    "plt.xlabel(\"Time Steps (seconds)\")\n",
    "plt.ylabel(\"Marginal Probability\")\n",
    "plt.title(\"Discrete Coordination Inference\", fontsize=14, weight=\"bold\")\n",
    "masks = np.bitwise_or(vocalics_a.mask.astype(bool),vocalics_b.mask.astype(bool))\n",
    "times, masks = list(zip(*[(t, mask) for t, mask in enumerate(masks) if mask > 0 and t <= M]))\n",
    "plt.scatter(times, masks, color=\"tab:green\", marker=\"+\")\n",
    "add_discrete_coordination_bar(main_ax=fig.gca(),\n",
    "                              coordination_series=[np.where(marginal_cs > 0.5, 1, 0)],\n",
    "                              coordination_colors=[\"tab:orange\"],\n",
    "                              labels=[\"Coordination\"])"
   ],
   "metadata": {
    "collapsed": false,
    "pycharm": {
     "name": "#%%\n"
    }
   }
  },
  {
   "cell_type": "markdown",
   "source": [
    "### Any-Phase Coordination"
   ],
   "metadata": {
    "collapsed": false,
    "pycharm": {
     "name": "#%% md\n"
    }
   }
  },
  {
   "cell_type": "code",
   "execution_count": null,
   "outputs": [],
   "source": [
    "vocalics_a, vocalics_b = vocalics_component.sparse_series(NUM_TIME_STEPS)\n",
    "vocalics_a.normalize()\n",
    "vocalics_b.normalize()\n",
    "\n",
    "inference_engine = DiscreteCoordinationInferenceFromVocalics(series_a=vocalics_a, \n",
    "                                                             series_b=vocalics_b, \n",
    "                                                             p_prior_coordination=P_COORDINATION, \n",
    "                                                             p_coordination_transition=P_COORDINATION_TRANSITION, \n",
    "                                                             mean_prior_a=MEAN_PRIOR_A,\n",
    "                                                             mean_prior_b=MEAN_PRIOR_B,\n",
    "                                                             std_prior_a=STD_PRIOR_A,\n",
    "                                                             std_prior_b=STD_PRIOR_B,\n",
    "                                                             std_uncoordinated_a=STD_UNCOORDINATED_A,\n",
    "                                                             std_uncoordinated_b=STD_UNCOORDINATED_B,\n",
    "                                                             std_coordinated_a=STD_COORDINATED_A,\n",
    "                                                             std_coordinated_b=STD_COORDINATED_B,\n",
    "                                                             f=ANYPHASE_FUNCTION)\n",
    "marginal_cs = inference_engine.estimate_marginals()[1]\n",
    "fig = plt.figure(figsize=(20, 6))\n",
    "plt.plot(range(M+1), marginal_cs, marker=\"o\", color=\"tab:orange\", linestyle=\"--\")\n",
    "masks = np.bitwise_or(vocalics_a.mask.astype(bool),vocalics_b.mask.astype(bool))\n",
    "times, masks = list(zip(*[(t, mask) for t, mask in enumerate(masks) if mask > 0 and t <= M]))\n",
    "plt.scatter(times, masks, color=\"tab:green\", marker=\"+\")\n",
    "plt.xlabel(\"Time Steps (seconds)\")\n",
    "plt.ylabel(\"Marginal Probability\")\n",
    "plt.title(\"Discrete Coordination Inference\", fontsize=14, weight=\"bold\")\n",
    "add_discrete_coordination_bar(main_ax=fig.gca(),\n",
    "                              coordination_series=[np.where(marginal_cs > 0.5, 1, 0)],\n",
    "                              coordination_colors=[\"tab:orange\"],\n",
    "                              labels=[\"Coordination\"])"
   ],
   "metadata": {
    "collapsed": false,
    "pycharm": {
     "name": "#%%\n"
    }
   }
  },
  {
   "cell_type": "markdown",
   "source": [
    "## Continuous Coordination Inference"
   ],
   "metadata": {
    "collapsed": false,
    "pycharm": {
     "name": "#%% md\n"
    }
   }
  },
  {
   "cell_type": "markdown",
   "source": [
    "### Phase Coordination"
   ],
   "metadata": {
    "collapsed": false,
    "pycharm": {
     "name": "#%% md\n"
    }
   }
  },
  {
   "cell_type": "code",
   "execution_count": null,
   "outputs": [],
   "source": [
    "inference_engine = ContinuousCoordinationInferenceFromVocalics(series_a=vocalics_a, \n",
    "                                                               series_b=vocalics_b, \n",
    "                                                               mean_prior_coordination=MEAN_COORDINATION_PRIOR, \n",
    "                                                               std_prior_coordination=STD_COORDINATION_PRIOR, \n",
    "                                                               std_coordination_drifting=STD_COORDINATION_DRIFT,\n",
    "                                                               mean_prior_a=MEAN_PRIOR_A,\n",
    "                                                               mean_prior_b=MEAN_PRIOR_B,\n",
    "                                                               std_prior_a=STD_PRIOR_A,\n",
    "                                                               std_prior_b=STD_PRIOR_B,\n",
    "                                                               std_coupling_a=STD_COUPLING_A,\n",
    "                                                               std_coupling_b=STD_COUPLING_B)\n",
    "params = inference_engine.estimate_means_and_variances()\n",
    "mean_cs = params[0]; var_cs = params[1]\n",
    "fig = plt.figure(figsize=(20, 6))\n",
    "plt.plot(range(M+1), mean_cs, marker=\"o\", color=\"tab:orange\", linestyle=\"--\")\n",
    "plt.fill_between(range(M+1), mean_cs - np.sqrt(var_cs), mean_cs + np.sqrt(var_cs), color='tab:orange', alpha=0.2)\n",
    "masks = np.bitwise_or(vocalics_a.mask.astype(bool),vocalics_b.mask.astype(bool))\n",
    "times, masks = list(zip(*[(t, mask) for t, mask in enumerate(masks) if mask > 0 and t <= M]))\n",
    "plt.scatter(times, masks, color=\"tab:green\", marker=\"+\")\n",
    "plt.xlabel(\"Time Steps (seconds)\")\n",
    "plt.ylabel(\"Coordination\")\n",
    "plt.title(\"Continuous Coordination Inference\", fontsize=14, weight=\"bold\")\n",
    "add_discrete_coordination_bar(main_ax=fig.gca(),\n",
    "                              coordination_series=[np.where(mean_cs > 0.5, 1, 0)],\n",
    "                              coordination_colors=[\"tab:orange\"],\n",
    "                              labels=[\"Coordination\"])"
   ],
   "metadata": {
    "collapsed": false,
    "pycharm": {
     "name": "#%%\n"
    }
   }
  },
  {
   "cell_type": "markdown",
   "source": [
    "### Anti-Phase Coordination"
   ],
   "metadata": {
    "collapsed": false,
    "pycharm": {
     "name": "#%% md\n"
    }
   }
  },
  {
   "cell_type": "code",
   "execution_count": null,
   "outputs": [],
   "source": [
    "inference_engine = ContinuousCoordinationInferenceFromVocalics(series_a=vocalics_a, \n",
    "                                                               series_b=vocalics_b, \n",
    "                                                               mean_prior_coordination=MEAN_COORDINATION_PRIOR, \n",
    "                                                               std_prior_coordination=STD_COORDINATION_PRIOR, \n",
    "                                                               std_coordination_drifting=STD_COORDINATION_DRIFT,\n",
    "                                                               mean_prior_a=MEAN_PRIOR_A,\n",
    "                                                               mean_prior_b=MEAN_PRIOR_B,\n",
    "                                                               std_prior_a=STD_PRIOR_A,\n",
    "                                                               std_prior_b=STD_PRIOR_B,\n",
    "                                                               std_coupling_a=STD_COUPLING_A,\n",
    "                                                               std_coupling_b=STD_COUPLING_B,\n",
    "                                                               f = ANTIPHASE_FUNCTION)\n",
    "params = inference_engine.estimate_means_and_variances()\n",
    "mean_cs = params[0]; var_cs = params[1]\n",
    "fig = plt.figure(figsize=(20, 6))\n",
    "plt.plot(range(M+1), mean_cs, marker=\"o\", color=\"tab:orange\", linestyle=\"--\")\n",
    "plt.fill_between(range(M+1), mean_cs - np.sqrt(var_cs), mean_cs + np.sqrt(var_cs), color='tab:orange', alpha=0.2)\n",
    "masks = np.bitwise_or(vocalics_a.mask.astype(bool),vocalics_b.mask.astype(bool))\n",
    "times, masks = list(zip(*[(t, mask) for t, mask in enumerate(masks) if mask > 0 and t <= M]))\n",
    "plt.scatter(times, masks, color=\"tab:green\", marker=\"+\")\n",
    "plt.xlabel(\"Time Steps (seconds)\")\n",
    "plt.ylabel(\"Coordination\")\n",
    "plt.title(\"Continuous Coordination Inference\", fontsize=14, weight=\"bold\")\n",
    "add_discrete_coordination_bar(main_ax=fig.gca(),\n",
    "                              coordination_series=[np.where(mean_cs > 0.5, 1, 0)],\n",
    "                              coordination_colors=[\"tab:orange\"],\n",
    "                              labels=[\"Coordination\"])"
   ],
   "metadata": {
    "collapsed": false,
    "pycharm": {
     "name": "#%%\n"
    }
   }
  },
  {
   "cell_type": "markdown",
   "source": [
    "### Any-phase Coordination"
   ],
   "metadata": {
    "collapsed": false,
    "pycharm": {
     "name": "#%% md\n"
    }
   }
  },
  {
   "cell_type": "code",
   "execution_count": null,
   "outputs": [],
   "source": [
    "inference_engine = ContinuousCoordinationInferenceFromVocalics(series_a=vocalics_a, \n",
    "                                                               series_b=vocalics_b, \n",
    "                                                               mean_prior_coordination=MEAN_COORDINATION_PRIOR, \n",
    "                                                               std_prior_coordination=STD_COORDINATION_PRIOR, \n",
    "                                                               std_coordination_drifting=STD_COORDINATION_DRIFT,\n",
    "                                                               mean_prior_a=MEAN_PRIOR_A,\n",
    "                                                               mean_prior_b=MEAN_PRIOR_B,\n",
    "                                                               std_prior_a=STD_PRIOR_A,\n",
    "                                                               std_prior_b=STD_PRIOR_B,\n",
    "                                                               std_coupling_a=STD_COUPLING_A,\n",
    "                                                               std_coupling_b=STD_COUPLING_B,\n",
    "                                                               f = ANYPHASE_FUNCTION)\n",
    "params = inference_engine.estimate_means_and_variances()\n",
    "mean_cs = params[0]; var_cs = params[1]\n",
    "fig = plt.figure(figsize=(20, 6))\n",
    "plt.plot(range(M+1), mean_cs, marker=\"o\", color=\"tab:orange\", linestyle=\"--\")\n",
    "plt.fill_between(range(M+1), mean_cs - np.sqrt(var_cs), mean_cs + np.sqrt(var_cs), color='tab:orange', alpha=0.2)\n",
    "masks = np.bitwise_or(vocalics_a.mask.astype(bool),vocalics_b.mask.astype(bool))\n",
    "times, masks = list(zip(*[(t, mask) for t, mask in enumerate(masks) if mask > 0 and t <= M]))\n",
    "plt.scatter(times, masks, color=\"tab:green\", marker=\"+\")\n",
    "plt.xlabel(\"Time Steps (seconds)\")\n",
    "plt.ylabel(\"Coordination\")\n",
    "plt.title(\"Continuous Coordination Inference\", fontsize=14, weight=\"bold\")\n",
    "add_discrete_coordination_bar(main_ax=fig.gca(),\n",
    "                              coordination_series=[np.where(mean_cs > 0.5, 1, 0)],\n",
    "                              coordination_colors=[\"tab:orange\"],\n",
    "                              labels=[\"Coordination\"])"
   ],
   "metadata": {
    "collapsed": false,
    "pycharm": {
     "name": "#%%\n"
    }
   }
  }
 ],
 "metadata": {
  "kernelspec": {
   "display_name": ".venv",
   "language": "python",
   "name": ".venv"
  },
  "language_info": {
   "codemirror_mode": {
    "name": "ipython",
    "version": 3
   },
   "file_extension": ".py",
   "mimetype": "text/x-python",
   "name": "python",
   "nbconvert_exporter": "python",
   "pygments_lexer": "ipython3",
   "version": "3.7.3"
  }
 },
 "nbformat": 4,
 "nbformat_minor": 4
}