{
 "cells": [
  {
   "cell_type": "code",
   "execution_count": 30,
   "id": "c5c15938-140a-45db-9bd2-473bf9b7e63d",
   "metadata": {},
   "outputs": [
    {
     "name": "stdout",
     "output_type": "stream",
     "text": [
      "The autoreload extension is already loaded. To reload it, use:\n",
      "  %reload_ext autoreload\n"
     ]
    }
   ],
   "source": [
    "%load_ext autoreload\n",
    "%autoreload 2\n",
    "%config InlineBackend.figure_format = 'retina'"
   ]
  },
  {
   "cell_type": "code",
   "execution_count": 31,
   "id": "ee686f7e-2cf1-403d-ac47-ac57da892327",
   "metadata": {},
   "outputs": [],
   "source": [
    "from __future__ import annotations\n",
    "from typing import Any, Callable, List, Optional, Tuple\n",
    "\n",
    "import os\n",
    "import sys\n",
    "sys.path.append(\"../\") # So we can use the coordination package\n",
    "\n",
    "import arviz as az\n",
    "import matplotlib.pyplot as plt\n",
    "import numpy as np\n",
    "import pandas as pd\n",
    "import seaborn as sns\n",
    "\n",
    "from coordination.component.serialized_mass_spring_damper_component import SerializedMassSpringDamperComponent\n",
    "from coordination.model.serial_argument_model import SerialArgumentModel, SerialArgumentSeries, SerialArgumentSamples\n",
    "from coordination.model.mass_spring_damper_model import MassSpringDamperModel\n",
    "from coordination.model.coordination_model import CoordinationPosteriorSamples"
   ]
  },
  {
   "cell_type": "markdown",
   "id": "5ad1a8f6-64f0-48e3-800d-2529f82561de",
   "metadata": {},
   "source": [
    "# Style"
   ]
  },
  {
   "cell_type": "code",
   "execution_count": 32,
   "id": "587d52f1-fe5c-4b7c-9c31-3b3ce91add8c",
   "metadata": {},
   "outputs": [],
   "source": [
    "plt.style.use(\"seaborn-v0_8-darkgrid\")\n",
    "tex_fonts = {\n",
    "    \"axes.labelsize\": 6,\n",
    "    \"font.size\": 6,\n",
    "    \"legend.fontsize\": 8,\n",
    "    \"xtick.labelsize\": 4,\n",
    "    \"ytick.labelsize\": 4,\n",
    "    \"axes.titlesize\": 8,\n",
    "}\n",
    "plt.rcParams.update(tex_fonts)\n",
    "plt.rc('pdf',fonttype = 42)\n",
    "plt.rcParams['text.usetex'] = True\n",
    "\n",
    "DOC = \"neurips\""
   ]
  },
  {
   "cell_type": "markdown",
   "id": "fbdecf72-2655-4371-859a-77ce688eafce",
   "metadata": {},
   "source": [
    "## Helper functions"
   ]
  },
  {
   "cell_type": "code",
   "execution_count": 33,
   "id": "0f9b8867-b442-45dd-ba42-27eeea0483d8",
   "metadata": {},
   "outputs": [],
   "source": [
    "WIDTH_DICT = {\n",
    "    \"neurips\": 397.48,\n",
    "}\n",
    "\n",
    "def calculate_best_figure_dimensions(document_width: Union[str, float], scale=1, subplots=(1, 1)):\n",
    "    \"\"\"Set figure dimensions to avoid scaling in LaTeX.\n",
    "    From: https://jwalton.info/Embed-Publication-Matplotlib-Latex/\n",
    "\n",
    "    Parameters\n",
    "    ----------\n",
    "    document_width: Union[str, float]\n",
    "            Document textwidth or columnwidth in pts. Predefined strings are also acceptable.\n",
    "    scale: float, optional\n",
    "            Fraction of the width which you wish the figure to occupy\n",
    "    subplots: array-like, optional\n",
    "            The number of rows and columns of subplots.\n",
    "\n",
    "    Returns\n",
    "    -------\n",
    "    fig_dim: tuple\n",
    "            Dimensions of figure in inches\n",
    "    \"\"\"\n",
    "    if isinstance(document_width, str):\n",
    "        width_pt = WIDTH_DICT.get(document_width, None)\n",
    "        if width_pt is None:\n",
    "            raise Exception(f\"Width {document_width} not supported. Available custom widths are {WIDTH_DICT}\")\n",
    "    else:\n",
    "        width_pt = document_width\n",
    "\n",
    "    # Width of figure (in pts)\n",
    "    fig_width_pt = width_pt * scale\n",
    "\n",
    "    # Convert from pt to inches\n",
    "    inches_per_pt = 1 / 72.27\n",
    "\n",
    "    # Golden ratio to set aesthetic figure height\n",
    "    # https://disq.us/p/2940ij3\n",
    "    golden_ratio = (5 ** .5 - 1) / 2\n",
    "\n",
    "    # Figure width in inches\n",
    "    fig_width_in = fig_width_pt * inches_per_pt\n",
    "\n",
    "    # Figure height in inches\n",
    "    fig_height_in = fig_width_in * golden_ratio * (subplots[0] / subplots[1])\n",
    "\n",
    "    return fig_width_in, fig_height_in"
   ]
  },
  {
   "cell_type": "markdown",
   "id": "aa2ba6e4-779e-4647-865b-2adac64ae9e8",
   "metadata": {},
   "source": [
    "# Constants"
   ]
  },
  {
   "cell_type": "code",
   "execution_count": 34,
   "id": "31a70279-8049-49c4-bc64-760b0087dbe9",
   "metadata": {},
   "outputs": [],
   "source": [
    "# Plot\n",
    "COLORS_SPR = [\"#137513\", \"#FF9090\", \"#13B2FF\"]\n",
    "COLORS_ARG = [\"#FF9090\", \"#13B2FF\"]\n",
    "MUSTARD = \"#BE9700\"\n",
    "\n",
    "# Reproducibility\n",
    "SEED = 0\n",
    "\n",
    "# Data \n",
    "T=100\n",
    "\n",
    "# Spring model\n",
    "NUM_SPRINGS=3\n",
    "SPRING_CONSTANT=np.array([16, 8, 4])\n",
    "MASS=np.ones(NUM_SPRINGS) * 10\n",
    "DAMPING_COEF_SPR=np.zeros(NUM_SPRINGS)\n",
    "DT_SPR=0.2 # time step size\n",
    "INITIAL_STATE_SPR=np.array([[1, 0], [3, 0], [5, 0]])\n",
    "SD_AA_SPR=0.1  # noise in the model evolution\n",
    "SD_O_SPR=0.1   # noise in the measurement\n",
    "SPRING_DEPENDENCIES=np.array([[1/2, 1/2], [1/2, 1/2], [1/2, 1/2]]) # Remove this later when weights get out of the equation\n",
    "\n",
    "# Argument model \n",
    "NUM_SUBJECTS=2\n",
    "SUBJECT_NAMES=[\"Bob\", \"Alice\"]\n",
    "FREQ=np.array([0.8, 0.2])\n",
    "DAMPING_COEF_ARG=np.zeros(NUM_SUBJECTS)\n",
    "DT_ARG=0.2 # time step size\n",
    "INITIAL_STATE_ARG=np.array([[1, 0], [1, 0]])\n",
    "SD_AA_ARG=0.1  # noise in the model evolution\n",
    "SD_O_ARG=0.01  # noise in the measurement\n",
    "\n",
    "# Inference\n",
    "BURN_IN = 100\n",
    "NUM_SAMPLES = 100\n",
    "NUM_CHAINS = 2\n",
    "NUTS_INIT_METHOD = \"jitter+adapt_diag\"\n",
    "TARGET_ACCEPT = 0.9"
   ]
  },
  {
   "cell_type": "markdown",
   "id": "08290a49-caa1-4acc-a1c5-14bbbe4acc0b",
   "metadata": {},
   "source": [
    "# Model"
   ]
  },
  {
   "cell_type": "markdown",
   "id": "f06a3a67-b1a1-4007-9204-f0e9376939c1",
   "metadata": {},
   "source": [
    "## a) Spring"
   ]
  },
  {
   "cell_type": "code",
   "execution_count": 35,
   "id": "eb0d3011-c916-4bcb-ac16-1566b9d5e6f2",
   "metadata": {},
   "outputs": [],
   "source": [
    "spring_model = MassSpringDamperModel(num_springs=NUM_SPRINGS,\n",
    "                                     spring_constant=SPRING_CONSTANT,\n",
    "                                     mass=MASS,\n",
    "                                     damping_coefficient=DAMPING_COEF_SPR,\n",
    "                                     dt=DT_SPR,\n",
    "                                     self_dependent=True,\n",
    "                                     sd_mean_uc0=1,\n",
    "                                     sd_sd_uc=1,\n",
    "                                     mean_mean_a0=np.zeros((NUM_SPRINGS, 2)),\n",
    "                                     sd_mean_a0=np.ones((NUM_SPRINGS, 2)) * max(INITIAL_STATE_SPR[:, 0]),  # Maximum value among initial positions not to make hyperprior too tight\n",
    "                                     sd_sd_aa=np.ones(1),\n",
    "                                     a_mixture_weights=np.ones((NUM_SPRINGS, NUM_SPRINGS - 1)),\n",
    "                                     sd_sd_o=np.ones(1),\n",
    "                                     share_sd_aa_across_springs=True,\n",
    "                                     share_sd_aa_across_features=True,  # same variance for position and speed\n",
    "                                     share_sd_o_across_springs=True,    # same measurement noise for different springs\n",
    "                                     share_sd_o_across_features=True)   # same measurement noise for position and speed                               "
   ]
  },
  {
   "cell_type": "markdown",
   "id": "c2a3b4dc-7487-488a-833c-6e4454fdb7ca",
   "metadata": {},
   "source": [
    "## b) Argument"
   ]
  },
  {
   "cell_type": "code",
   "execution_count": null,
   "id": "4132fbfc-07d5-4ed7-a742-55543fde03fd",
   "metadata": {},
   "outputs": [],
   "source": [
    "argument_model = SerialArgumentModel(num_subjects=NUM_SUBJECTS,\n",
    "                                     frequency=FREQ,\n",
    "                                     damping_coefficient=DAMPING_COEF_ARG,\n",
    "                                     dt=DT_ARG,\n",
    "                                     self_dependent=True,\n",
    "                                     sd_mean_uc0=1,\n",
    "                                     sd_sd_uc=1,\n",
    "                                     mean_mean_a0=np.zeros((NUM_SUBJECTS, 2)),\n",
    "                                     sd_mean_a0=np.ones((NUM_SUBJECTS, 2)) * max(INITIAL_STATE_ARG[:, 0]),\n",
    "                                     sd_sd_aa=np.ones(1),\n",
    "                                     sd_sd_o=np.ones(1),\n",
    "                                     share_sd_aa_across_subjects=True,\n",
    "                                     share_sd_aa_across_features=True,\n",
    "                                     share_sd_o_across_subjects=True,\n",
    "                                     share_sd_o_across_features=True)"
   ]
  },
  {
   "cell_type": "markdown",
   "id": "dc173cb6-6921-4b7f-89b0-1c99c752b2a4",
   "metadata": {},
   "source": [
    "# Synthetic Data"
   ]
  },
  {
   "cell_type": "markdown",
   "id": "83b55e0c-5b05-4375-8f40-01ba8aceec1f",
   "metadata": {},
   "source": [
    "## Helper Functions"
   ]
  },
  {
   "cell_type": "code",
   "execution_count": 36,
   "id": "9b9f142a-e8c7-427f-b758-f68a1c731c4e",
   "metadata": {},
   "outputs": [],
   "source": [
    "def plot_spring_data(ax: Any, data: np.ndarray, marker_size: int = 8, marker: str = \"o\", title: str = \"\", skip:int = 0):\n",
    "    num_time_steps = data.shape[-1]\n",
    "    \n",
    "    tt = np.arange(num_time_steps)\n",
    "    indices = np.arange(0,num_time_steps) \n",
    "    \n",
    "    if skip > 1:\n",
    "        # We might drop some points for better visualization\n",
    "        indices = [i for i in indices if i == 0 or (i % skip) != 0]\n",
    "    \n",
    "    for s in range(NUM_SPRINGS):\n",
    "        ax.scatter(tt[indices], data[s, 0][indices], label=f\"Spring {s + 1}\", s=marker_size, marker=marker, c=COLORS_SPR[s])\n",
    "    ax.set_title(title)\n",
    "    ax.set_xlabel(\"Time Step\")\n",
    "    ax.set_ylabel(\"Position\")\n",
    "    \n",
    "def plot_argument_data(ax: Any, data: ArgumentSeries, marker_size: int = 8, marker: str = \"o\", title: str = \"\", skip:int = 0):\n",
    "    for s, name in enumerate(SUBJECT_NAMES):\n",
    "        tt = np.array([t for t, subject in enumerate(data.subjects_in_time) if s == subject])\n",
    "        indices = np.arange(0,len(tt),skip+1) # We might drop some points for better visualization\n",
    "        ax.scatter(tt[indices], data.observation[0, tt][indices], label=name, s=marker_size, marker=marker, c=COLORS_ARG[s])\n",
    "    ax.set_title(title)\n",
    "    ax.set_xlabel(\"Time Step\")\n",
    "    ax.set_ylabel(\"Position\")\n",
    "    \n",
    "def argument_samples_to_evidence(samples: SerialArgumentSamples) -> SerialArgumentSeries:\n",
    "    return SerialArgumentSeries(subjects_in_time=samples.state.subjects[0],\n",
    "                                prev_time_same_subject=samples.state.prev_time_same_subject[0],\n",
    "                                prev_time_diff_subject=samples.state.prev_time_diff_subject[0],\n",
    "                                observation=samples.observation.values[0])    "
   ]
  },
  {
   "cell_type": "markdown",
   "id": "2cb6d778-cf78-4cab-846a-b7103575ce08",
   "metadata": {},
   "source": [
    "## a) Spring"
   ]
  },
  {
   "cell_type": "code",
   "execution_count": 46,
   "id": "d9a57890-8464-473f-852d-cb0cb9d92b48",
   "metadata": {},
   "outputs": [
    {
     "data": {
      "image/png": "[encoded data removed]",
      "text/plain": [
       "<Figure size 549.993x127.468 with 4 Axes>"
      ]
     },
     "metadata": {
      "image/png": {
       "height": 129,
       "width": 551
      }
     },
     "output_type": "display_data"
    }
   ],
   "source": [
    "# Set parameters for data generation\n",
    "spring_model.state_space_cpn.parameters.mean_a0.value=INITIAL_STATE_SPR\n",
    "spring_model.state_space_cpn.parameters.sd_aa.value=np.zeros(1)  # only for plots\n",
    "spring_model.observation_cpn.parameters.sd_o.value=np.zeros(1)\n",
    "\n",
    "# Denoised version is only used for plots\n",
    "T_plot = 20000\n",
    "coordination = np.zeros((1, T_plot))\n",
    "spring_uncoordinated_data = spring_model.draw_samples(num_series=1, num_time_steps=T_plot, coordination_samples=coordination, seed=SEED).observation.values[0]\n",
    "\n",
    "coordination = np.ones((1, T_plot)) * 2/3\n",
    "spring_coordinated_data = spring_model.draw_samples(num_series=1, num_time_steps=T_plot, coordination_samples=coordination, seed=SEED).observation.values[0]\n",
    "\n",
    "coordination = np.ones((1, T_plot))\n",
    "spring_supercoordinated_data = spring_model.draw_samples(num_series=1, num_time_steps=T_plot, coordination_samples=coordination, seed=SEED).observation.values[0]\n",
    "\n",
    "# Noisy version for inference\n",
    "spring_model.state_space_cpn.parameters.sd_aa.value=np.ones(1) * SD_AA_SPR\n",
    "spring_model.observation_cpn.parameters.sd_o.value=np.ones(1) * SD_O_SPR\n",
    "\n",
    "coordination = np.zeros((1, T))\n",
    "noisy_spring_uncoordinated_data = spring_model.draw_samples(num_series=1, num_time_steps=T, coordination_samples=coordination, seed=SEED).observation.values[0]\n",
    "\n",
    "coordination = np.ones((1, T)) * 2/3\n",
    "noisy_spring_coordinated_data = spring_model.draw_samples(num_series=1, num_time_steps=T, coordination_samples=coordination, seed=SEED).observation.values[0]\n",
    "\n",
    "coordination = np.ones((1, T))\n",
    "noisy_spring_supercoordinated_data = spring_model.draw_samples(num_series=1, num_time_steps=T, coordination_samples=coordination, seed=SEED).observation.values[0]\n",
    "\n",
    "# Plot data\n",
    "w, h = calculate_best_figure_dimensions(document_width=DOC, scale=2, subplots=(1,4))  \n",
    "fig, axs = plt.subplots(1, 4, figsize=(w,h*1.5), sharey=True)\n",
    "\n",
    "plot_spring_data(axs[0], spring_uncoordinated_data[..., 0:-1:20], marker_size=0.01, title=f\"C = 0\", skip=1)\n",
    "plot_spring_data(axs[1], spring_coordinated_data[..., 0:-1:20], marker_size=0.01, title=f\"C = 2/3\", skip=1)\n",
    "plot_spring_data(axs[2], spring_supercoordinated_data[..., 0:-1:20], marker_size=0.01, title=f\"C = 1\", skip=1)\n",
    "axs[1].set_ylabel(\"\")\n",
    "plt.tight_layout()"
   ]
  },
  {
   "cell_type": "markdown",
   "id": "81a9e068-daa4-42a9-8648-a9ebc21584db",
   "metadata": {},
   "source": [
    "## b) Argument"
   ]
  },
  {
   "cell_type": "code",
   "execution_count": null,
   "id": "7d2db15f-8fdd-4882-9988-a01f21d2c154",
   "metadata": {},
   "outputs": [],
   "source": [
    "# Set parameters for data generation\n",
    "argument_model.state_space_cpn.parameters.mean_a0.value=INITIAL_STATE_ARG\n",
    "argument_model.state_space_cpn.parameters.sd_aa.value=np.zeros(1)  # only for plots\n",
    "argument_model.observation_cpn.parameters.sd_o.value=np.zeros(1)\n",
    "\n",
    "# Denoised version is only used for plots\n",
    "T_plot = 1000\n",
    "coordination = np.zeros((1, T_plot))\n",
    "argument_uncoordinated_data = argument_samples_to_evidence(argument_model.draw_samples(num_series=1, num_time_steps=T_plot, coordination_samples=coordination, seed=SEED))\n",
    "\n",
    "coordination = np.ones((1, T_plot)) * 0.5\n",
    "argument_coordinated_data = argument_samples_to_evidence(argument_model.draw_samples(num_series=1, num_time_steps=T_plot, coordination_samples=coordination, seed=SEED))\n",
    "\n",
    "coordination = np.ones((1, T_plot))\n",
    "argument_supercoordinated_data = argument_samples_to_evidence(argument_model.draw_samples(num_series=1, num_time_steps=T_plot, coordination_samples=coordination, seed=SEED))\n",
    "\n",
    "# Noisy version for inference\n",
    "argument_model.state_space_cpn.parameters.sd_aa.value=np.ones(1) * SD_AA_ARG\n",
    "argument_model.observation_cpn.parameters.sd_o.value=np.ones(1) * SD_O_ARG\n",
    "\n",
    "coordination = np.zeros((1, T))\n",
    "noisy_argument_uncoordinated_data = argument_samples_to_evidence(argument_model.draw_samples(num_series=1, num_time_steps=T, coordination_samples=coordination, seed=SEED))\n",
    "\n",
    "coordination = np.ones((1, T)) * 0.5\n",
    "noisy_argument_coordinated_data = argument_samples_to_evidence(argument_model.draw_samples(num_series=1, num_time_steps=T, coordination_samples=coordination, seed=SEED))\n",
    "\n",
    "coordination = np.ones((1, T))\n",
    "noisy_argument_supercoordinated_data = argument_samples_to_evidence(argument_model.draw_samples(num_series=1, num_time_steps=T, coordination_samples=coordination, seed=SEED))\n",
    "\n",
    "# Plot data\n",
    "w, h = calculate_best_figure_dimensions(document_width=DOC, scale=1, subplots=(1,4))  \n",
    "fig, axs = plt.subplots(1, 4, figsize=(w,h*1.5), sharey=True)\n",
    "\n",
    "plot_argument_data(axs[0], argument_uncoordinated_data, marker_size=0.1, title=f\"C = 0\", skip=0)\n",
    "plot_argument_data(axs[1], argument_coordinated_data, marker_size=0.1, title=f\"C = 0.5\", skip=0)\n",
    "plot_argument_data(axs[2], argument_supercoordinated_data, marker_size=0.1, title=f\"C = 1\", skip=0)\n",
    "axs[1].set_ylabel(\"\")\n",
    "plt.tight_layout()"
   ]
  },
  {
   "cell_type": "markdown",
   "id": "19a73df1-f616-4f15-87f4-90196427b62d",
   "metadata": {},
   "source": [
    "# Experiments"
   ]
  },
  {
   "cell_type": "markdown",
   "id": "70735a65-2f1a-4a12-a75a-e78c38b35a31",
   "metadata": {},
   "source": [
    "## Helper Functions"
   ]
  },
  {
   "cell_type": "code",
   "execution_count": null,
   "id": "df0d47f4-2e37-475a-a4a7-1d68fbf9512b",
   "metadata": {},
   "outputs": [],
   "source": [
    "def train(model: Any, \n",
    "          evidence: Any, \n",
    "          init_method: str = \"jitter+adapt_diag\",\n",
    "          burn_in: int = 1000, \n",
    "          num_samples: int = 1000, \n",
    "          num_chains: int = 2, \n",
    "          seed : int = 0):\n",
    "    \n",
    "    # Ignore PyMC warnings\n",
    "    if not sys.warnoptions:\n",
    "        import warnings\n",
    "        warnings.simplefilter(\"ignore\")\n",
    "    \n",
    "    # The environment variables below will make sure each chain does not take all the resources, slowing down inference.\n",
    "    os.environ[\"MKL_NUM_THREADS\"] = f\"{NUM_CHAINS}\"\n",
    "    os.environ[\"OMP_NUM_THREADS\"] = f\"{NUM_CHAINS}\"\n",
    "    os.environ[\"OPENBLAS_NUM_THREADS\"] = f\"{NUM_CHAINS}\"\n",
    "    \n",
    "    model.clear_parameter_values()  # so we can infer them\n",
    "    _, idata = model.fit(evidence = evidence, \n",
    "                         init_method = init_method,\n",
    "                         burn_in = burn_in, \n",
    "                         num_samples = num_samples, \n",
    "                         num_chains = num_chains,\n",
    "                         seed = seed, \n",
    "                         num_jobs = num_chains)\n",
    "    \n",
    "    posterior_samples = CoordinationPosteriorSamples.from_inference_data(idata)\n",
    "    \n",
    "    # Plot parameter trace\n",
    "    plot_parameter_trace(model, idata)\n",
    "\n",
    "    # Plot coordination\n",
    "    w, h = calculate_best_figure_dimensions(document_width=DOC, scale=1)  \n",
    "    fig = plt.figure(figsize=(w,h))\n",
    "    \n",
    "    posterior_samples.plot(fig.gca(), show_samples=False, line_width=1)\n",
    "    plt.title(\"Coordination\")\n",
    "    \n",
    "    return posterior_samples, idata\n",
    "\n",
    "def plot_parameter_trace(model: Any, idata: Any):\n",
    "    sampled_vars = set(idata.posterior.data_vars)\n",
    "    var_names = sorted(list(set(model.parameter_names).intersection(sampled_vars)))    \n",
    "    az.plot_trace(idata, var_names=var_names)\n",
    "    plt.tight_layout()\n",
    "\n",
    "def build_convergence_summary(idata: Any) -> pd.DataFrame:\n",
    "    header = [\n",
    "        \"variable\",\n",
    "        \"mean_rhat\",\n",
    "        \"std_rhat\"\n",
    "    ]\n",
    "    \n",
    "    rhat = az.rhat(idata)\n",
    "    data = []\n",
    "    for var, values in rhat.data_vars.items():\n",
    "        entry = [\n",
    "            var,\n",
    "            values.to_numpy().mean(),\n",
    "            values.to_numpy().std()\n",
    "        ]\n",
    "        data.append(entry)\n",
    "\n",
    "    return pd.DataFrame(data, columns=header)"
   ]
  },
  {
   "cell_type": "markdown",
   "id": "3d857c2d-06c3-41f2-87f3-a7d72337e4bc",
   "metadata": {},
   "source": [
    "## 1) No Coordination"
   ]
  },
  {
   "cell_type": "markdown",
   "id": "7d38a742-0637-43b7-92e8-88a302cdb437",
   "metadata": {},
   "source": [
    "### 1.1) Spring"
   ]
  },
  {
   "cell_type": "code",
   "execution_count": null,
   "id": "c9d69efb-5b31-45dd-adad-9edb81aa7fd8",
   "metadata": {},
   "outputs": [],
   "source": [
    "evidence = noisy_spring_uncoordinated_data\n",
    "\n",
    "c_posterior_spring_uncoordinated, idata_spring_uncoordinated = train(spring_model, evidence, burn_in=BURN_IN, num_samples=NUM_SAMPLES, num_chains=NUM_CHAINS, init_method=NUTS_INIT_METHOD)\n",
    "build_convergence_summary(idata_spring_uncoordinated)"
   ]
  },
  {
   "cell_type": "markdown",
   "id": "edc50f85-1bb0-47bf-9a6d-b3ef218bde15",
   "metadata": {},
   "source": [
    "### 1.2) Argument"
   ]
  },
  {
   "cell_type": "code",
   "execution_count": null,
   "id": "dd9bdafb-845f-4606-88b9-796703dedd12",
   "metadata": {},
   "outputs": [],
   "source": [
    "evidence = noisy_argument_uncoordinated_data\n",
    "\n",
    "c_posterior_argument_uncoordinated, idata_argument_uncoordinated = train(argument_model, evidence, burn_in=500, num_samples=500, num_chains=2, init_method=NUTS_INIT_METHOD)\n",
    "build_convergence_summary(idata_argument_uncoordinated)"
   ]
  },
  {
   "cell_type": "markdown",
   "id": "7be0081d-6e88-4f59-bac1-86f9cf95c95c",
   "metadata": {},
   "source": [
    "## 2) Maximum Coordination"
   ]
  },
  {
   "cell_type": "markdown",
   "id": "3af49f39-9aed-4437-b357-3c907d4e2e8e",
   "metadata": {},
   "source": [
    "### 1.1) Spring"
   ]
  },
  {
   "cell_type": "code",
   "execution_count": null,
   "id": "bdd9a7ed-22cc-4453-a048-a6a2ad80f299",
   "metadata": {},
   "outputs": [],
   "source": [
    "evidence = noisy_spring_coordinated_data\n",
    "\n",
    "c_posterior_spring_coordinated, idata_spring_coordinated = train(spring_model, evidence, burn_in=BURN_IN, num_samples=NUM_SAMPLES, num_chains=NUM_CHAINS, init_method=NUTS_INIT_METHOD)\n",
    "build_convergence_summary(idata_spring_coordinated)"
   ]
  },
  {
   "cell_type": "markdown",
   "id": "e1d03dee-6d03-4fa0-be3b-4f56f7de7ad9",
   "metadata": {},
   "source": [
    "### 1.2) Argument"
   ]
  },
  {
   "cell_type": "code",
   "execution_count": null,
   "id": "dd403a56-d2a1-43da-ba11-e9e96edd37ec",
   "metadata": {},
   "outputs": [],
   "source": [
    "evidence = noisy_argument_coordinated_data\n",
    "\n",
    "c_posterior_argument_coordinated, idata_argument_coordinated = train(argument_model, evidence, burn_in=BURN_IN, num_samples=NUM_SAMPLES, num_chains=NUM_CHAINS, init_method=NUTS_INIT_METHOD)\n",
    "build_convergence_summary(idata_argument_coordinated)"
   ]
  },
  {
   "cell_type": "markdown",
   "id": "843ec754-f6bb-42a9-81e2-5d63f15c8cd9",
   "metadata": {},
   "source": [
    "## 3) Supercoordination"
   ]
  },
  {
   "cell_type": "markdown",
   "id": "9e74122b-539c-493a-bf2d-97b20e9b2546",
   "metadata": {},
   "source": [
    "### 3.1) Spring"
   ]
  },
  {
   "cell_type": "code",
   "execution_count": null,
   "id": "b6b63ff6-5188-4ff5-958a-d12b85c6313a",
   "metadata": {},
   "outputs": [],
   "source": [
    "evidence = noisy_spring_supercoordinated_data\n",
    "\n",
    "c_posterior_spring_supercoordinated, idata_spring_supercoordinated = train(spring_model, evidence, burn_in=BURN_IN, num_samples=NUM_SAMPLES, num_chains=NUM_CHAINS, init_method=NUTS_INIT_METHOD)\n",
    "build_convergence_summary(idata_spring_supercoordinated)"
   ]
  },
  {
   "cell_type": "markdown",
   "id": "0ba8039f-3bef-4c78-b81c-6f87400ba4d4",
   "metadata": {},
   "source": [
    "### 3.2) Argument"
   ]
  },
  {
   "cell_type": "code",
   "execution_count": null,
   "id": "cf52330b-959b-4f79-aa21-a0246da6827a",
   "metadata": {},
   "outputs": [],
   "source": [
    "evidence = noisy_argument_supercoordinated_data\n",
    "\n",
    "c_posterior_argument_supercoordinated, idata_argument_supercoordinated = train(argument_model, evidence, burn_in=BURN_IN, num_samples=NUM_SAMPLES, num_chains=NUM_CHAINS, init_method=NUTS_INIT_METHOD)\n",
    "build_convergence_summary(idata_argument_supercoordinated)"
   ]
  },
  {
   "cell_type": "markdown",
   "id": "e1df15c1-f88b-4124-b763-93ab820aa33c",
   "metadata": {},
   "source": [
    "# Paper Plots"
   ]
  },
  {
   "cell_type": "markdown",
   "id": "4a14ccac-e0da-4378-9a3c-0cc332692a66",
   "metadata": {},
   "source": [
    "## a) Spring"
   ]
  },
  {
   "cell_type": "code",
   "execution_count": null,
   "id": "530eb50e-97c9-4e42-a0f9-5665dd4da338",
   "metadata": {},
   "outputs": [],
   "source": [
    "w, h = calculate_best_figure_dimensions(document_width=DOC, scale=1, subplots=(1,4))  \n",
    "fig, axs = plt.subplots(1, 4, figsize=(w, h*1.5))\n",
    "axs[1].sharey(axs[0])\n",
    "axs[2].sharey(axs[0])\n",
    "\n",
    "marker_size=0.05\n",
    "\n",
    "# Data plots\n",
    "plot_spring_data(axs[0], spring_uncoordinated_data[..., 0:-1:20], marker_size=marker_size, skip=1)\n",
    "axs[0].set_ylabel(\"Spring Position\")\n",
    "axs[0].set_xlabel(\"Time Step\")\n",
    "axs[0].set_title(\"Data (c = 0)\")\n",
    "\n",
    "plot_spring_data(axs[1], spring_coordinated_data[..., 0:-1:20], marker_size=marker_size, skip=1)\n",
    "axs[1].set_ylabel(\"\")\n",
    "axs[1].set_xlabel(\"Time Step\")\n",
    "axs[1].set_title(\"Data (c = 2/3)\")\n",
    "\n",
    "plot_spring_data(axs[2], spring_supercoordinated_data[..., 0:-1:20], marker_size=marker_size, skip=1)\n",
    "axs[2].set_ylabel(\"\")\n",
    "axs[2].set_xlabel(\"Time Step\")\n",
    "axs[2].set_title(\"Data (c = 1)\")\n",
    "\n",
    "c_posterior_spring_uncoordinated.plot(axs[3], show_samples=False, line_width=0.5, color=\"tab:red\", label=\"c = 0\")\n",
    "c_posterior_spring_coordinated.plot(axs[3], show_samples=False, line_width=0.5, color=MUSTARD, label=\"c = 2/3\")\n",
    "c_posterior_spring_supercoordinated.plot(axs[3], show_samples=False, line_width=0.5, color=\"tab:blue\", label=\"c = 1\")\n",
    "axs[3].set_title(\"Inferred Coordination\")\n",
    "axs[3].set_xlabel(\"\")\n",
    "axs[3].set_ylabel(\"Coordination\")\n",
    "axs[3].set_xlabel(\"Time Step\")\n",
    "\n",
    "handles, labels = axs[0].get_legend_handles_labels()\n",
    "handles_c, labels_c = axs[3].get_legend_handles_labels()\n",
    "handles.extend(handles_c)\n",
    "labels.extend(labels_c)\n",
    "leg = fig.legend(handles, labels, loc='upper center', ncol=7, bbox_to_anchor=[0.5, 1.2], frameon=True, markerscale=15, columnspacing=1.4)\n",
    "for line in leg.get_lines():\n",
    "    line.set_linewidth(1.5)\n",
    "\n",
    "plt.tight_layout()\n",
    "save_plot(\"results_spring_model\", fig)"
   ]
  },
  {
   "cell_type": "markdown",
   "id": "6eafef9b-27b3-499a-9256-462f9a7b3f01",
   "metadata": {},
   "source": [
    "## b) Argument model"
   ]
  },
  {
   "cell_type": "code",
   "execution_count": null,
   "id": "b53c3561-52c6-49e6-b41d-0ee759fdb8fd",
   "metadata": {},
   "outputs": [],
   "source": [
    "w, h = calculate_best_figure_dimensions(document_width=DOC, scale=1, subplots=(1,4))  \n",
    "fig, axs = plt.subplots(1, 4, figsize=(w, h*1.5))\n",
    "axs[1].sharey(axs[0])\n",
    "axs[2].sharey(axs[0])\n",
    "\n",
    "marker_size=0.2\n",
    "\n",
    "# Data plots\n",
    "plot_argument_data(axs[0], argument_uncoordinated_data, marker_size=marker_size, skip=1)\n",
    "axs[0].set_ylabel(\"Voice Intensity\")\n",
    "axs[0].set_xlabel(\"Time Step\")\n",
    "axs[0].set_title(\"Data (c = 0)\")\n",
    "\n",
    "plot_argument_data(axs[1], argument_coordinated_data, marker_size=marker_size, skip=1)\n",
    "axs[1].set_ylabel(\"\")\n",
    "axs[1].set_xlabel(\"Time Step\")\n",
    "# axs[1].set_yticklabels([])\n",
    "axs[1].set_title(\"Data (c = 0.5)\")\n",
    "\n",
    "plot_argument_data(axs[2], argument_supercoordinated_data, marker_size=marker_size, skip=1)\n",
    "axs[2].set_ylabel(\"\")\n",
    "axs[2].set_xlabel(\"Time Step\")\n",
    "axs[2].set_title(\"Data (c = 1)\")\n",
    "\n",
    "c_posterior_argument_uncoordinated.plot(axs[3], show_samples=False, line_width=0.5, color=\"tab:red\", label=\"c = 0\")\n",
    "c_posterior_argument_coordinated.plot(axs[3], show_samples=False, line_width=0.5, color=MUSTARD, label=\"c = 0.5\")\n",
    "c_posterior_argument_supercoordinated.plot(axs[3], show_samples=False, line_width=0.5, color=\"tab:blue\", label=\"c = 1\")\n",
    "axs[3].set_title(\"Inferred Coordination\")\n",
    "axs[3].set_xlabel(\"\")\n",
    "axs[3].set_ylabel(\"Coordination\")\n",
    "axs[3].set_xlabel(\"Time Step\")\n",
    "\n",
    "handles, labels = axs[0].get_legend_handles_labels()\n",
    "handles_c, labels_c = axs[3].get_legend_handles_labels()\n",
    "handles.extend(handles_c)\n",
    "labels.extend(labels_c)\n",
    "leg = fig.legend(handles, labels, loc='upper center', ncol=6, bbox_to_anchor=[0.5, 1.2], frameon=True, markerscale=8, columnspacing=1.4)\n",
    "for line in leg.get_lines():\n",
    "    line.set_linewidth(1.5)\n",
    "\n",
    "plt.tight_layout()\n",
    "save_plot(\"results_argument_model\", fig)"
   ]
  }
 ],
 "metadata": {
  "kernelspec": {
   "display_name": "coordination",
   "language": "python",
   "name": "coordination"
  },
  "language_info": {
   "codemirror_mode": {
    "name": "ipython",
    "version": 3
   },
   "file_extension": ".py",
   "mimetype": "text/x-python",
   "name": "python",
   "nbconvert_exporter": "python",
   "pygments_lexer": "ipython3",
   "version": "3.9.16"
  }
 },
 "nbformat": 4,
 "nbformat_minor": 5
}
