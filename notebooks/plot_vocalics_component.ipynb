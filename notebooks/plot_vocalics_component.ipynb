{
 "cells": [
  {
   "cell_type": "code",
   "execution_count": 1,
   "metadata": {
    "collapsed": true,
    "pycharm": {
     "name": "#%%\n"
    }
   },
   "outputs": [],
   "source": [
    "%load_ext autoreload\n",
    "%autoreload 2\n",
    "%config InlineBackend.figure_format = 'retina'\n",
    "import sys\n",
    "sys.path.append('../.venv/lib/python3.7/site-packages/')\n",
    "sys.path.append('..')"
   ]
  },
  {
   "cell_type": "code",
   "execution_count": 7,
   "outputs": [],
   "source": [
    "from coordination.entity.trial import Trial\n",
    "from coordination.component.speech.vocalics_component import VocalicsComponent"
   ],
   "metadata": {
    "collapsed": false,
    "pycharm": {
     "name": "#%%\n"
    }
   }
  },
  {
   "cell_type": "code",
   "execution_count": 3,
   "outputs": [],
   "source": [
    "trial = Trial.from_directory(\"../data/study-3_2022/T000745\")"
   ],
   "metadata": {
    "collapsed": false,
    "pycharm": {
     "name": "#%%\n"
    }
   }
  },
  {
   "cell_type": "code",
   "execution_count": 9,
   "outputs": [
    {
     "name": "stderr",
     "output_type": "stream",
     "text": [
      "Utterance starting at 2022-06-14T22:49:59.101494+00:00 and ending \n",
      "                at 2022-06-14T22:49:59.101494+00:00 is short and does not have any vocalics. Text:  okay\n",
      "Utterance starting at 2022-06-14T22:50:23.601494+00:00 and ending \n",
      "                at 2022-06-14T22:50:23.601494+00:00 is short and does not have any vocalics. Text:  yeah\n",
      "Utterance starting at 2022-06-14T22:50:58.101494+00:00 and ending \n",
      "                at 2022-06-14T22:50:58.101494+00:00 is short and does not have any vocalics. Text:  okay\n",
      "Utterance starting at 2022-06-14T22:51:42.701494+00:00 and ending \n",
      "                at 2022-06-14T22:51:42.701494+00:00 is short and does not have any vocalics. Text:  okay\n",
      "Utterance starting at 2022-06-14T22:52:57.857134+00:00 and ending \n",
      "                at 2022-06-14T22:52:57.857134+00:00 is short and does not have any vocalics. Text:  engineer\n",
      "Utterance starting at 2022-06-14T22:53:42.357134+00:00 and ending \n",
      "                at 2022-06-14T22:53:42.357134+00:00 is short and does not have any vocalics. Text:  okay\n",
      "Utterance starting at 2022-06-14T22:39:02.030738+00:00 and ending \n",
      "                at 2022-06-14T22:39:02.030738+00:00 is short and does not have any vocalics. Text:  all right\n",
      "Utterance starting at 2022-06-14T22:39:09.730738+00:00 and ending \n",
      "                at 2022-06-14T22:39:09.730738+00:00 is short and does not have any vocalics. Text:  yep\n",
      "Utterance starting at 2022-06-14T22:40:58.864327+00:00 and ending \n",
      "                at 2022-06-14T22:40:58.864327+00:00 is short and does not have any vocalics. Text:  slow\n",
      "Utterance starting at 2022-06-14T22:41:45.364327+00:00 and ending \n",
      "                at 2022-06-14T22:41:45.364327+00:00 is short and does not have any vocalics. Text:  okay\n",
      "Utterance starting at 2022-06-14T22:43:04.264327+00:00 and ending \n",
      "                at 2022-06-14T22:43:04.264327+00:00 is short and does not have any vocalics. Text:  one\n",
      "Utterance starting at 2022-06-14T22:43:07.464327+00:00 and ending \n",
      "                at 2022-06-14T22:43:07.464327+00:00 is short and does not have any vocalics. Text:  yes\n",
      "Utterance starting at 2022-06-14T22:44:18.764327+00:00 and ending \n",
      "                at 2022-06-14T22:44:18.764327+00:00 is short and does not have any vocalics. Text:  help\n",
      "Utterance starting at 2022-06-14T22:44:23.864327+00:00 and ending \n",
      "                at 2022-06-14T22:44:23.864327+00:00 is short and does not have any vocalics. Text:  trapped\n",
      "Utterance starting at 2022-06-14T22:45:21.676767+00:00 and ending \n",
      "                at 2022-06-14T22:45:21.676767+00:00 is short and does not have any vocalics. Text:  okay\n",
      "Utterance starting at 2022-06-14T22:47:26.476767+00:00 and ending \n",
      "                at 2022-06-14T22:47:26.476767+00:00 is short and does not have any vocalics. Text:  G2\n",
      "Utterance starting at 2022-06-14T22:50:57.875355+00:00 and ending \n",
      "                at 2022-06-14T22:50:57.875355+00:00 is short and does not have any vocalics. Text:  yeah\n",
      "Utterance starting at 2022-06-14T22:52:13.275355+00:00 and ending \n",
      "                at 2022-06-14T22:52:13.275355+00:00 is short and does not have any vocalics. Text:  Pikachu\n",
      "Utterance starting at 2022-06-14T22:52:18.275355+00:00 and ending \n",
      "                at 2022-06-14T22:52:18.275355+00:00 is short and does not have any vocalics. Text:  okay\n",
      "Utterance starting at 2022-06-14T22:52:31.475355+00:00 and ending \n",
      "                at 2022-06-14T22:52:31.475355+00:00 is short and does not have any vocalics. Text:  K2\n",
      "Utterance starting at 2022-06-14T22:52:59.328492+00:00 and ending \n",
      "                at 2022-06-14T22:52:59.328492+00:00 is short and does not have any vocalics. Text:  help\n",
      "Utterance starting at 2022-06-14T22:53:44.228492+00:00 and ending \n",
      "                at 2022-06-14T22:53:44.228492+00:00 is short and does not have any vocalics. Text:  yep\n",
      "Utterance starting at 2022-06-14T22:53:54.628492+00:00 and ending \n",
      "                at 2022-06-14T22:53:54.628492+00:00 is short and does not have any vocalics. Text:  yeah\n",
      "Utterance starting at 2022-06-14T22:40:59.575276+00:00 and ending \n",
      "                at 2022-06-14T22:40:59.575276+00:00 is short and does not have any vocalics. Text: black\n",
      "Utterance starting at 2022-06-14T22:44:55.436382+00:00 and ending \n",
      "                at 2022-06-14T22:44:55.436382+00:00 is short and does not have any vocalics. Text:  yeah\n",
      "Utterance starting at 2022-06-14T22:45:48.536382+00:00 and ending \n",
      "                at 2022-06-14T22:45:48.536382+00:00 is short and does not have any vocalics. Text:  go\n",
      "Utterance starting at 2022-06-14T22:47:34.536382+00:00 and ending \n",
      "                at 2022-06-14T22:47:34.536382+00:00 is short and does not have any vocalics. Text:  not\n",
      "Utterance starting at 2022-06-14T22:54:08.243263+00:00 and ending \n",
      "                at 2022-06-14T22:54:08.243263+00:00 is short and does not have any vocalics. Text:  okay\n"
     ]
    }
   ],
   "source": [
    "vocalics_component = VocalicsComponent.from_vocalics(trial.vocalics)"
   ],
   "metadata": {
    "collapsed": false,
    "pycharm": {
     "name": "#%%\n"
    }
   }
  },
  {
   "cell_type": "code",
   "execution_count": 12,
   "outputs": [
    {
     "data": {
      "text/plain": "<coordination.component.speech.vocalics_component.VocalicsComponent at 0x7f47051ef150>"
     },
     "execution_count": 12,
     "metadata": {},
     "output_type": "execute_result"
    }
   ],
   "source": [
    "vocalics_component"
   ],
   "metadata": {
    "collapsed": false,
    "pycharm": {
     "name": "#%%\n"
    }
   }
  },
  {
   "cell_type": "code",
   "execution_count": null,
   "outputs": [],
   "source": [],
   "metadata": {
    "collapsed": false,
    "pycharm": {
     "name": "#%%\n"
    }
   }
  }
 ],
 "metadata": {
  "kernelspec": {
   "display_name": "Python 3",
   "language": "python",
   "name": "python3"
  },
  "language_info": {
   "codemirror_mode": {
    "name": "ipython",
    "version": 2
   },
   "file_extension": ".py",
   "mimetype": "text/x-python",
   "name": "python",
   "nbconvert_exporter": "python",
   "pygments_lexer": "ipython2",
   "version": "2.7.6"
  }
 },
 "nbformat": 4,
 "nbformat_minor": 0
}