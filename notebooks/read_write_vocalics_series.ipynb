{
 "cells": [
  {
   "cell_type": "code",
   "execution_count": 1,
   "metadata": {},
   "outputs": [],
   "source": [
    "%load_ext autoreload\n",
    "%autoreload 2\n",
    "%config InlineBackend.figure_format = 'retina'\n",
    "%matplotlib inline\n",
    "import sys\n",
    "sys.path.append('../.venv/lib/python3.7/site-packages/')\n",
    "sys.path.append('..')"
   ]
  },
  {
   "cell_type": "markdown",
   "metadata": {},
   "source": [
    "# Write vocalics series data from metadata files"
   ]
  },
  {
   "cell_type": "code",
   "execution_count": 2,
   "metadata": {},
   "outputs": [],
   "source": [
    "from src.components.speech.write_vocalics_series import write_vocalics_series"
   ]
  },
  {
   "cell_type": "code",
   "execution_count": 3,
   "metadata": {},
   "outputs": [],
   "source": [
    "metadata_directory = \"/home/soggy/Documents/data/tomcat/analysis\"\n",
    "output_directory = \"/home/soggy/Documents/data/tomcat/vocalics_series\"\n",
    "vocalics_database = \"asist_vocalics\""
   ]
  },
  {
   "cell_type": "code",
   "execution_count": 6,
   "metadata": {},
   "outputs": [
    {
     "name": "stderr",
     "output_type": "stream",
     "text": [
      "100%|██████████| 304/304 [00:00<00:00, 2671.76it/s]\n",
      "100%|██████████| 528672/528672 [01:29<00:00, 5937.85it/s]\n"
     ]
    },
    {
     "name": "stdout",
     "output_type": "stream",
     "text": [
      "[WARN] No vocalic features detected for utterance between 2022-06-14T23:15:00.851871+00:00 and 2022-06-14T23:15:00.851871+00:00 for subject red in trial 517cab57-6962-4056-b386-6fff796140f1. Text:  okay\n",
      "[WARN] No vocalic features detected for utterance between 2022-06-14T23:15:51.651871+00:00 and 2022-06-14T23:15:51.651871+00:00 for subject red in trial 517cab57-6962-4056-b386-6fff796140f1. Text:  okay\n",
      "[WARN] No vocalic features detected for utterance between 2022-06-14T23:16:04.713154+00:00 and 2022-06-14T23:16:04.713154+00:00 for subject red in trial 517cab57-6962-4056-b386-6fff796140f1. Text: area\n",
      "[WARN] No vocalic features detected for utterance between 2022-06-14T23:16:21.313154+00:00 and 2022-06-14T23:16:21.313154+00:00 for subject red in trial 517cab57-6962-4056-b386-6fff796140f1. Text:  okay\n",
      "[WARN] No vocalic features detected for utterance between 2022-06-14T23:17:23.513154+00:00 and 2022-06-14T23:17:23.513154+00:00 for subject red in trial 517cab57-6962-4056-b386-6fff796140f1. Text:  okay\n",
      "[WARN] No vocalic features detected for utterance between 2022-06-14T23:18:35.413154+00:00 and 2022-06-14T23:18:35.413154+00:00 for subject red in trial 517cab57-6962-4056-b386-6fff796140f1. Text:  okay\n",
      "[WARN] No vocalic features detected for utterance between 2022-06-14T23:20:16.305482+00:00 and 2022-06-14T23:20:16.305482+00:00 for subject red in trial 517cab57-6962-4056-b386-6fff796140f1. Text:  C2\n",
      "[WARN] No vocalic features detected for utterance between 2022-06-14T23:20:51.505482+00:00 and 2022-06-14T23:20:51.505482+00:00 for subject red in trial 517cab57-6962-4056-b386-6fff796140f1. Text:  okay\n",
      "[WARN] No vocalic features detected for utterance between 2022-06-14T23:21:05.405482+00:00 and 2022-06-14T23:21:05.405482+00:00 for subject red in trial 517cab57-6962-4056-b386-6fff796140f1. Text:  yeah\n",
      "[WARN] No vocalic features detected for utterance between 2022-06-14T23:21:07.505482+00:00 and 2022-06-14T23:21:07.505482+00:00 for subject red in trial 517cab57-6962-4056-b386-6fff796140f1. Text:  sure\n",
      "[WARN] No vocalic features detected for utterance between 2022-06-14T23:24:32.098191+00:00 and 2022-06-14T23:24:32.098191+00:00 for subject red in trial 517cab57-6962-4056-b386-6fff796140f1. Text:  regular\n",
      "[WARN] No vocalic features detected for utterance between 2022-06-14T23:25:47.498191+00:00 and 2022-06-14T23:25:47.498191+00:00 for subject red in trial 517cab57-6962-4056-b386-6fff796140f1. Text:  I found\n",
      "[WARN] No vocalic features detected for utterance between 2022-06-14T23:26:00.398191+00:00 and 2022-06-14T23:26:00.398191+00:00 for subject red in trial 517cab57-6962-4056-b386-6fff796140f1. Text:  okay\n",
      "[WARN] No vocalic features detected for utterance between 2022-06-14T23:26:51.898191+00:00 and 2022-06-14T23:26:51.898191+00:00 for subject red in trial 517cab57-6962-4056-b386-6fff796140f1. Text:  okay\n",
      "[WARN] No vocalic features detected for utterance between 2022-06-14T23:26:53.398191+00:00 and 2022-06-14T23:26:53.398191+00:00 for subject red in trial 517cab57-6962-4056-b386-6fff796140f1. Text:  engineer\n",
      "[WARN] No vocalic features detected for utterance between 2022-06-14T23:27:02.998191+00:00 and 2022-06-14T23:27:02.998191+00:00 for subject red in trial 517cab57-6962-4056-b386-6fff796140f1. Text:  ah\n",
      "[WARN] No vocalic features detected for utterance between 2022-06-14T23:10:41.287073+00:00 and 2022-06-14T23:10:41.287073+00:00 for subject red in trial 517cab57-6962-4056-b386-6fff796140f1. Text:  severe\n",
      "[WARN] No vocalic features detected for utterance between 2022-06-14T23:10:44.187073+00:00 and 2022-06-14T23:10:44.187073+00:00 for subject red in trial 517cab57-6962-4056-b386-6fff796140f1. Text:  moderate\n",
      "[WARN] No vocalic features detected for utterance between 2022-06-14T23:10:46.387073+00:00 and 2022-06-14T23:10:46.387073+00:00 for subject red in trial 517cab57-6962-4056-b386-6fff796140f1. Text:  moderate\n",
      "[WARN] No vocalic features detected for utterance between 2022-06-14T23:10:50.687073+00:00 and 2022-06-14T23:10:50.687073+00:00 for subject red in trial 517cab57-6962-4056-b386-6fff796140f1. Text:  moderate\n",
      "[WARN] No vocalic features detected for utterance between 2022-06-14T23:10:53.687073+00:00 and 2022-06-14T23:10:53.687073+00:00 for subject red in trial 517cab57-6962-4056-b386-6fff796140f1. Text:  severe\n",
      "[WARN] No vocalic features detected for utterance between 2022-06-14T23:10:55.587073+00:00 and 2022-06-14T23:10:55.587073+00:00 for subject red in trial 517cab57-6962-4056-b386-6fff796140f1. Text:  severe\n",
      "[WARN] No vocalic features detected for utterance between 2022-06-14T23:10:57.687073+00:00 and 2022-06-14T23:10:57.687073+00:00 for subject red in trial 517cab57-6962-4056-b386-6fff796140f1. Text:  mild\n",
      "[WARN] No vocalic features detected for utterance between 2022-06-14T23:11:15.187073+00:00 and 2022-06-14T23:11:15.187073+00:00 for subject red in trial 517cab57-6962-4056-b386-6fff796140f1. Text:  okay\n",
      "[WARN] No vocalic features detected for utterance between 2022-06-14T23:12:37.818647+00:00 and 2022-06-14T23:12:37.818647+00:00 for subject red in trial 517cab57-6962-4056-b386-6fff796140f1. Text:  correct\n",
      "[WARN] No vocalic features detected for utterance between 2022-06-14T23:14:07.718647+00:00 and 2022-06-14T23:14:07.718647+00:00 for subject red in trial 517cab57-6962-4056-b386-6fff796140f1. Text:  okay\n",
      "[WARN] No vocalic features detected for utterance between 2022-06-14T23:14:09.318647+00:00 and 2022-06-14T23:14:09.318647+00:00 for subject red in trial 517cab57-6962-4056-b386-6fff796140f1. Text:  question\n",
      "[WARN] No vocalic features detected for utterance between 2022-06-14T23:14:35.718647+00:00 and 2022-06-14T23:14:35.718647+00:00 for subject red in trial 517cab57-6962-4056-b386-6fff796140f1. Text:  correct\n",
      "[WARN] No vocalic features detected for utterance between 2022-06-14T23:15:42.818647+00:00 and 2022-06-14T23:15:42.818647+00:00 for subject red in trial 517cab57-6962-4056-b386-6fff796140f1. Text:  hey\n",
      "[WARN] No vocalic features detected for utterance between 2022-06-14T23:16:54.976570+00:00 and 2022-06-14T23:16:54.976570+00:00 for subject red in trial 517cab57-6962-4056-b386-6fff796140f1. Text:  yep\n",
      "[WARN] No vocalic features detected for utterance between 2022-06-14T23:17:16.176570+00:00 and 2022-06-14T23:17:16.176570+00:00 for subject red in trial 517cab57-6962-4056-b386-6fff796140f1. Text:  yeah\n",
      "[WARN] No vocalic features detected for utterance between 2022-06-14T23:17:43.376570+00:00 and 2022-06-14T23:17:43.376570+00:00 for subject red in trial 517cab57-6962-4056-b386-6fff796140f1. Text:  yep\n",
      "[WARN] No vocalic features detected for utterance between 2022-06-14T23:18:30.976570+00:00 and 2022-06-14T23:18:30.976570+00:00 for subject red in trial 517cab57-6962-4056-b386-6fff796140f1. Text:  yep\n",
      "[WARN] No vocalic features detected for utterance between 2022-06-14T23:20:00.976570+00:00 and 2022-06-14T23:20:00.976570+00:00 for subject red in trial 517cab57-6962-4056-b386-6fff796140f1. Text:  amen\n",
      "[WARN] No vocalic features detected for utterance between 2022-06-14T23:20:54.032401+00:00 and 2022-06-14T23:20:54.032401+00:00 for subject red in trial 517cab57-6962-4056-b386-6fff796140f1. Text:  C2\n",
      "[WARN] No vocalic features detected for utterance between 2022-06-14T23:21:15.532401+00:00 and 2022-06-14T23:21:15.532401+00:00 for subject red in trial 517cab57-6962-4056-b386-6fff796140f1. Text:  okay\n",
      "[WARN] No vocalic features detected for utterance between 2022-06-14T23:21:22.032401+00:00 and 2022-06-14T23:21:22.032401+00:00 for subject red in trial 517cab57-6962-4056-b386-6fff796140f1. Text:  yes\n",
      "[WARN] No vocalic features detected for utterance between 2022-06-14T23:22:14.532401+00:00 and 2022-06-14T23:22:14.532401+00:00 for subject red in trial 517cab57-6962-4056-b386-6fff796140f1. Text:  oops\n",
      "[WARN] No vocalic features detected for utterance between 2022-06-14T23:23:44.832401+00:00 and 2022-06-14T23:23:44.832401+00:00 for subject red in trial 517cab57-6962-4056-b386-6fff796140f1. Text:  close\n",
      "[WARN] No vocalic features detected for utterance between 2022-06-14T23:24:53.693094+00:00 and 2022-06-14T23:24:53.693094+00:00 for subject red in trial 517cab57-6962-4056-b386-6fff796140f1. Text:  okay\n",
      "[WARN] No vocalic features detected for utterance between 2022-06-14T23:25:07.293094+00:00 and 2022-06-14T23:25:07.293094+00:00 for subject red in trial 517cab57-6962-4056-b386-6fff796140f1. Text:  Kevin\n",
      "[WARN] No vocalic features detected for utterance between 2022-06-14T23:25:12.993094+00:00 and 2022-06-14T23:25:12.993094+00:00 for subject red in trial 517cab57-6962-4056-b386-6fff796140f1. Text:  great\n",
      "[WARN] No vocalic features detected for utterance between 2022-06-14T23:25:37.293094+00:00 and 2022-06-14T23:25:37.293094+00:00 for subject red in trial 517cab57-6962-4056-b386-6fff796140f1. Text:  oops\n",
      "[WARN] No vocalic features detected for utterance between 2022-06-14T23:26:41.893094+00:00 and 2022-06-14T23:26:41.893094+00:00 for subject red in trial 517cab57-6962-4056-b386-6fff796140f1. Text:  coming\n",
      "[WARN] No vocalic features detected for utterance between 2022-06-14T23:26:48.393094+00:00 and 2022-06-14T23:26:48.393094+00:00 for subject red in trial 517cab57-6962-4056-b386-6fff796140f1. Text:  go\n",
      "[WARN] No vocalic features detected for utterance between 2022-06-14T23:26:50.593094+00:00 and 2022-06-14T23:26:50.593094+00:00 for subject red in trial 517cab57-6962-4056-b386-6fff796140f1. Text:  yep\n",
      "[WARN] No vocalic features detected for utterance between 2022-06-14T23:27:03.893094+00:00 and 2022-06-14T23:27:03.893094+00:00 for subject red in trial 517cab57-6962-4056-b386-6fff796140f1. Text:  critical\n",
      "[WARN] No vocalic features detected for utterance between 2022-06-14T23:10:42.691862+00:00 and 2022-06-14T23:10:42.691862+00:00 for subject red in trial 517cab57-6962-4056-b386-6fff796140f1. Text:  B8\n",
      "[WARN] No vocalic features detected for utterance between 2022-06-14T23:10:52.691862+00:00 and 2022-06-14T23:10:52.691862+00:00 for subject red in trial 517cab57-6962-4056-b386-6fff796140f1. Text:  E3\n",
      "[WARN] No vocalic features detected for utterance between 2022-06-14T23:10:54.791862+00:00 and 2022-06-14T23:10:54.791862+00:00 for subject red in trial 517cab57-6962-4056-b386-6fff796140f1. Text:  F2\n",
      "[WARN] No vocalic features detected for utterance between 2022-06-14T23:10:56.091862+00:00 and 2022-06-14T23:10:56.091862+00:00 for subject red in trial 517cab57-6962-4056-b386-6fff796140f1. Text:  K4\n",
      "[WARN] No vocalic features detected for utterance between 2022-06-14T23:10:59.791862+00:00 and 2022-06-14T23:10:59.791862+00:00 for subject red in trial 517cab57-6962-4056-b386-6fff796140f1. Text:  L2\n",
      "[WARN] No vocalic features detected for utterance between 2022-06-14T23:11:01.491862+00:00 and 2022-06-14T23:11:01.491862+00:00 for subject red in trial 517cab57-6962-4056-b386-6fff796140f1. Text:  M1\n",
      "[WARN] No vocalic features detected for utterance between 2022-06-14T23:15:05.523115+00:00 and 2022-06-14T23:15:05.523115+00:00 for subject red in trial 517cab57-6962-4056-b386-6fff796140f1. Text:  okay\n",
      "[WARN] No vocalic features detected for utterance between 2022-06-14T23:15:26.223115+00:00 and 2022-06-14T23:15:26.223115+00:00 for subject red in trial 517cab57-6962-4056-b386-6fff796140f1. Text:  is\n",
      "[WARN] No vocalic features detected for utterance between 2022-06-14T23:16:44.579303+00:00 and 2022-06-14T23:16:44.579303+00:00 for subject red in trial 517cab57-6962-4056-b386-6fff796140f1. Text:  okay\n",
      "[WARN] No vocalic features detected for utterance between 2022-06-14T23:16:54.379303+00:00 and 2022-06-14T23:16:54.379303+00:00 for subject red in trial 517cab57-6962-4056-b386-6fff796140f1. Text:  okay\n",
      "[WARN] No vocalic features detected for utterance between 2022-06-14T23:17:36.779303+00:00 and 2022-06-14T23:17:36.779303+00:00 for subject red in trial 517cab57-6962-4056-b386-6fff796140f1. Text:  interesting\n",
      "[WARN] No vocalic features detected for utterance between 2022-06-14T23:17:55.879303+00:00 and 2022-06-14T23:17:55.879303+00:00 for subject red in trial 517cab57-6962-4056-b386-6fff796140f1. Text:  all right\n",
      "[WARN] No vocalic features detected for utterance between 2022-06-14T23:21:44.767458+00:00 and 2022-06-14T23:21:44.767458+00:00 for subject red in trial 517cab57-6962-4056-b386-6fff796140f1. Text:  B4\n",
      "[WARN] No vocalic features detected for utterance between 2022-06-14T23:23:13.467458+00:00 and 2022-06-14T23:23:13.467458+00:00 for subject red in trial 517cab57-6962-4056-b386-6fff796140f1. Text:  oh\n",
      "[WARN] No vocalic features detected for utterance between 2022-06-14T23:23:25.367458+00:00 and 2022-06-14T23:23:25.367458+00:00 for subject red in trial 517cab57-6962-4056-b386-6fff796140f1. Text:  hey\n",
      "[WARN] No vocalic features detected for utterance between 2022-06-14T23:23:35.567458+00:00 and 2022-06-14T23:23:35.567458+00:00 for subject red in trial 517cab57-6962-4056-b386-6fff796140f1. Text:  yes\n",
      "[WARN] No vocalic features detected for utterance between 2022-06-14T23:23:54.167458+00:00 and 2022-06-14T23:23:54.167458+00:00 for subject red in trial 517cab57-6962-4056-b386-6fff796140f1. Text:  yes\n",
      "[WARN] No vocalic features detected for utterance between 2022-06-14T23:24:00.767458+00:00 and 2022-06-14T23:24:00.767458+00:00 for subject red in trial 517cab57-6962-4056-b386-6fff796140f1. Text:  one\n",
      "[WARN] No vocalic features detected for utterance between 2022-06-14T23:27:06.003444+00:00 and 2022-06-14T23:27:06.003444+00:00 for subject red in trial 517cab57-6962-4056-b386-6fff796140f1. Text:  okay\n",
      "[WARN] utterance starts 2022-06-14T23:15:00.851871+00:00 and ends 2022-06-14T23:15:00.851871+00:00 is short and does not have any vocalics. Text:  okay\n",
      "[WARN] utterance starts 2022-06-14T23:15:51.651871+00:00 and ends 2022-06-14T23:15:51.651871+00:00 is short and does not have any vocalics. Text:  okay\n",
      "[WARN] utterance starts 2022-06-14T23:16:04.713154+00:00 and ends 2022-06-14T23:16:04.713154+00:00 is short and does not have any vocalics. Text: area\n",
      "[WARN] utterance starts 2022-06-14T23:16:21.313154+00:00 and ends 2022-06-14T23:16:21.313154+00:00 is short and does not have any vocalics. Text:  okay\n",
      "[WARN] utterance starts 2022-06-14T23:17:23.513154+00:00 and ends 2022-06-14T23:17:23.513154+00:00 is short and does not have any vocalics. Text:  okay\n",
      "[WARN] utterance starts 2022-06-14T23:18:35.413154+00:00 and ends 2022-06-14T23:18:35.413154+00:00 is short and does not have any vocalics. Text:  okay\n",
      "[WARN] utterance starts 2022-06-14T23:20:16.305482+00:00 and ends 2022-06-14T23:20:16.305482+00:00 is short and does not have any vocalics. Text:  C2\n",
      "[WARN] utterance starts 2022-06-14T23:20:51.505482+00:00 and ends 2022-06-14T23:20:51.505482+00:00 is short and does not have any vocalics. Text:  okay\n",
      "[WARN] utterance starts 2022-06-14T23:21:05.405482+00:00 and ends 2022-06-14T23:21:05.405482+00:00 is short and does not have any vocalics. Text:  yeah\n",
      "[WARN] utterance starts 2022-06-14T23:21:07.505482+00:00 and ends 2022-06-14T23:21:07.505482+00:00 is short and does not have any vocalics. Text:  sure\n",
      "[WARN] utterance starts 2022-06-14T23:24:32.098191+00:00 and ends 2022-06-14T23:24:32.098191+00:00 is short and does not have any vocalics. Text:  regular\n",
      "[WARN] utterance starts 2022-06-14T23:25:47.498191+00:00 and ends 2022-06-14T23:25:47.498191+00:00 is short and does not have any vocalics. Text:  I found\n",
      "[WARN] utterance starts 2022-06-14T23:26:00.398191+00:00 and ends 2022-06-14T23:26:00.398191+00:00 is short and does not have any vocalics. Text:  okay\n",
      "[WARN] utterance starts 2022-06-14T23:26:51.898191+00:00 and ends 2022-06-14T23:26:51.898191+00:00 is short and does not have any vocalics. Text:  okay\n",
      "[WARN] utterance starts 2022-06-14T23:26:53.398191+00:00 and ends 2022-06-14T23:26:53.398191+00:00 is short and does not have any vocalics. Text:  engineer\n",
      "[WARN] utterance starts 2022-06-14T23:27:02.998191+00:00 and ends 2022-06-14T23:27:02.998191+00:00 is short and does not have any vocalics. Text:  ah\n",
      "[WARN] utterance starts 2022-06-14T23:10:41.287073+00:00 and ends 2022-06-14T23:10:41.287073+00:00 is short and does not have any vocalics. Text:  severe\n",
      "[WARN] utterance starts 2022-06-14T23:10:44.187073+00:00 and ends 2022-06-14T23:10:44.187073+00:00 is short and does not have any vocalics. Text:  moderate\n",
      "[WARN] utterance starts 2022-06-14T23:10:46.387073+00:00 and ends 2022-06-14T23:10:46.387073+00:00 is short and does not have any vocalics. Text:  moderate\n",
      "[WARN] utterance starts 2022-06-14T23:10:50.687073+00:00 and ends 2022-06-14T23:10:50.687073+00:00 is short and does not have any vocalics. Text:  moderate\n",
      "[WARN] utterance starts 2022-06-14T23:10:53.687073+00:00 and ends 2022-06-14T23:10:53.687073+00:00 is short and does not have any vocalics. Text:  severe\n",
      "[WARN] utterance starts 2022-06-14T23:10:55.587073+00:00 and ends 2022-06-14T23:10:55.587073+00:00 is short and does not have any vocalics. Text:  severe\n",
      "[WARN] utterance starts 2022-06-14T23:10:57.687073+00:00 and ends 2022-06-14T23:10:57.687073+00:00 is short and does not have any vocalics. Text:  mild\n",
      "[WARN] utterance starts 2022-06-14T23:11:15.187073+00:00 and ends 2022-06-14T23:11:15.187073+00:00 is short and does not have any vocalics. Text:  okay\n",
      "[WARN] utterance starts 2022-06-14T23:12:37.818647+00:00 and ends 2022-06-14T23:12:37.818647+00:00 is short and does not have any vocalics. Text:  correct\n",
      "[WARN] utterance starts 2022-06-14T23:14:07.718647+00:00 and ends 2022-06-14T23:14:07.718647+00:00 is short and does not have any vocalics. Text:  okay\n",
      "[WARN] utterance starts 2022-06-14T23:14:09.318647+00:00 and ends 2022-06-14T23:14:09.318647+00:00 is short and does not have any vocalics. Text:  question\n",
      "[WARN] utterance starts 2022-06-14T23:14:35.718647+00:00 and ends 2022-06-14T23:14:35.718647+00:00 is short and does not have any vocalics. Text:  correct\n",
      "[WARN] utterance starts 2022-06-14T23:15:42.818647+00:00 and ends 2022-06-14T23:15:42.818647+00:00 is short and does not have any vocalics. Text:  hey\n",
      "[WARN] utterance starts 2022-06-14T23:16:54.976570+00:00 and ends 2022-06-14T23:16:54.976570+00:00 is short and does not have any vocalics. Text:  yep\n",
      "[WARN] utterance starts 2022-06-14T23:17:16.176570+00:00 and ends 2022-06-14T23:17:16.176570+00:00 is short and does not have any vocalics. Text:  yeah\n",
      "[WARN] utterance starts 2022-06-14T23:17:43.376570+00:00 and ends 2022-06-14T23:17:43.376570+00:00 is short and does not have any vocalics. Text:  yep\n",
      "[WARN] utterance starts 2022-06-14T23:18:30.976570+00:00 and ends 2022-06-14T23:18:30.976570+00:00 is short and does not have any vocalics. Text:  yep\n",
      "[WARN] utterance starts 2022-06-14T23:20:00.976570+00:00 and ends 2022-06-14T23:20:00.976570+00:00 is short and does not have any vocalics. Text:  amen\n",
      "[WARN] utterance starts 2022-06-14T23:20:54.032401+00:00 and ends 2022-06-14T23:20:54.032401+00:00 is short and does not have any vocalics. Text:  C2\n",
      "[WARN] utterance starts 2022-06-14T23:21:15.532401+00:00 and ends 2022-06-14T23:21:15.532401+00:00 is short and does not have any vocalics. Text:  okay\n",
      "[WARN] utterance starts 2022-06-14T23:21:22.032401+00:00 and ends 2022-06-14T23:21:22.032401+00:00 is short and does not have any vocalics. Text:  yes\n",
      "[WARN] utterance starts 2022-06-14T23:22:14.532401+00:00 and ends 2022-06-14T23:22:14.532401+00:00 is short and does not have any vocalics. Text:  oops\n",
      "[WARN] utterance starts 2022-06-14T23:23:44.832401+00:00 and ends 2022-06-14T23:23:44.832401+00:00 is short and does not have any vocalics. Text:  close\n",
      "[WARN] utterance starts 2022-06-14T23:24:53.693094+00:00 and ends 2022-06-14T23:24:53.693094+00:00 is short and does not have any vocalics. Text:  okay\n",
      "[WARN] utterance starts 2022-06-14T23:25:07.293094+00:00 and ends 2022-06-14T23:25:07.293094+00:00 is short and does not have any vocalics. Text:  Kevin\n",
      "[WARN] utterance starts 2022-06-14T23:25:12.993094+00:00 and ends 2022-06-14T23:25:12.993094+00:00 is short and does not have any vocalics. Text:  great\n",
      "[WARN] utterance starts 2022-06-14T23:25:37.293094+00:00 and ends 2022-06-14T23:25:37.293094+00:00 is short and does not have any vocalics. Text:  oops\n",
      "[WARN] utterance starts 2022-06-14T23:26:41.893094+00:00 and ends 2022-06-14T23:26:41.893094+00:00 is short and does not have any vocalics. Text:  coming\n",
      "[WARN] utterance starts 2022-06-14T23:26:48.393094+00:00 and ends 2022-06-14T23:26:48.393094+00:00 is short and does not have any vocalics. Text:  go\n",
      "[WARN] utterance starts 2022-06-14T23:26:50.593094+00:00 and ends 2022-06-14T23:26:50.593094+00:00 is short and does not have any vocalics. Text:  yep\n",
      "[WARN] utterance starts 2022-06-14T23:27:03.893094+00:00 and ends 2022-06-14T23:27:03.893094+00:00 is short and does not have any vocalics. Text:  critical\n",
      "[WARN] utterance starts 2022-06-14T23:10:42.691862+00:00 and ends 2022-06-14T23:10:42.691862+00:00 is short and does not have any vocalics. Text:  B8\n",
      "[WARN] utterance starts 2022-06-14T23:10:52.691862+00:00 and ends 2022-06-14T23:10:52.691862+00:00 is short and does not have any vocalics. Text:  E3\n",
      "[WARN] utterance starts 2022-06-14T23:10:54.791862+00:00 and ends 2022-06-14T23:10:54.791862+00:00 is short and does not have any vocalics. Text:  F2\n",
      "[WARN] utterance starts 2022-06-14T23:10:56.091862+00:00 and ends 2022-06-14T23:10:56.091862+00:00 is short and does not have any vocalics. Text:  K4\n",
      "[WARN] utterance starts 2022-06-14T23:10:59.791862+00:00 and ends 2022-06-14T23:10:59.791862+00:00 is short and does not have any vocalics. Text:  L2\n",
      "[WARN] utterance starts 2022-06-14T23:11:01.491862+00:00 and ends 2022-06-14T23:11:01.491862+00:00 is short and does not have any vocalics. Text:  M1\n",
      "[WARN] utterance starts 2022-06-14T23:15:05.523115+00:00 and ends 2022-06-14T23:15:05.523115+00:00 is short and does not have any vocalics. Text:  okay\n",
      "[WARN] utterance starts 2022-06-14T23:15:26.223115+00:00 and ends 2022-06-14T23:15:26.223115+00:00 is short and does not have any vocalics. Text:  is\n",
      "[WARN] utterance starts 2022-06-14T23:16:44.579303+00:00 and ends 2022-06-14T23:16:44.579303+00:00 is short and does not have any vocalics. Text:  okay\n",
      "[WARN] utterance starts 2022-06-14T23:16:54.379303+00:00 and ends 2022-06-14T23:16:54.379303+00:00 is short and does not have any vocalics. Text:  okay\n",
      "[WARN] utterance starts 2022-06-14T23:17:36.779303+00:00 and ends 2022-06-14T23:17:36.779303+00:00 is short and does not have any vocalics. Text:  interesting\n",
      "[WARN] utterance starts 2022-06-14T23:17:55.879303+00:00 and ends 2022-06-14T23:17:55.879303+00:00 is short and does not have any vocalics. Text:  all right\n",
      "[WARN] utterance starts 2022-06-14T23:21:44.767458+00:00 and ends 2022-06-14T23:21:44.767458+00:00 is short and does not have any vocalics. Text:  B4\n",
      "[WARN] utterance starts 2022-06-14T23:23:13.467458+00:00 and ends 2022-06-14T23:23:13.467458+00:00 is short and does not have any vocalics. Text:  oh\n",
      "[WARN] utterance starts 2022-06-14T23:23:25.367458+00:00 and ends 2022-06-14T23:23:25.367458+00:00 is short and does not have any vocalics. Text:  hey\n",
      "[WARN] utterance starts 2022-06-14T23:23:35.567458+00:00 and ends 2022-06-14T23:23:35.567458+00:00 is short and does not have any vocalics. Text:  yes\n",
      "[WARN] utterance starts 2022-06-14T23:23:54.167458+00:00 and ends 2022-06-14T23:23:54.167458+00:00 is short and does not have any vocalics. Text:  yes\n",
      "[WARN] utterance starts 2022-06-14T23:24:00.767458+00:00 and ends 2022-06-14T23:24:00.767458+00:00 is short and does not have any vocalics. Text:  one\n",
      "[WARN] utterance starts 2022-06-14T23:27:06.003444+00:00 and ends 2022-06-14T23:27:06.003444+00:00 is short and does not have any vocalics. Text:  okay\n"
     ]
    },
    {
     "name": "stderr",
     "output_type": "stream",
     "text": [
      "100%|██████████| 242/242 [00:00<00:00, 3222.50it/s]\n",
      "100%|██████████| 392857/392857 [01:06<00:00, 5905.11it/s]\n"
     ]
    },
    {
     "name": "stdout",
     "output_type": "stream",
     "text": [
      "[WARN] No vocalic features detected for utterance between 2022-06-14T22:49:59.101494+00:00 and 2022-06-14T22:49:59.101494+00:00 for subject red in trial 1085c445-ec22-4fdf-9b9a-b992194de7d8. Text:  okay\n",
      "[WARN] No vocalic features detected for utterance between 2022-06-14T22:50:23.601494+00:00 and 2022-06-14T22:50:23.601494+00:00 for subject red in trial 1085c445-ec22-4fdf-9b9a-b992194de7d8. Text:  yeah\n",
      "[WARN] No vocalic features detected for utterance between 2022-06-14T22:50:58.101494+00:00 and 2022-06-14T22:50:58.101494+00:00 for subject red in trial 1085c445-ec22-4fdf-9b9a-b992194de7d8. Text:  okay\n",
      "[WARN] No vocalic features detected for utterance between 2022-06-14T22:51:42.701494+00:00 and 2022-06-14T22:51:42.701494+00:00 for subject red in trial 1085c445-ec22-4fdf-9b9a-b992194de7d8. Text:  okay\n",
      "[WARN] No vocalic features detected for utterance between 2022-06-14T22:52:57.857134+00:00 and 2022-06-14T22:52:57.857134+00:00 for subject red in trial 1085c445-ec22-4fdf-9b9a-b992194de7d8. Text:  engineer\n",
      "[WARN] No vocalic features detected for utterance between 2022-06-14T22:53:42.357134+00:00 and 2022-06-14T22:53:42.357134+00:00 for subject red in trial 1085c445-ec22-4fdf-9b9a-b992194de7d8. Text:  okay\n",
      "[WARN] No vocalic features detected for utterance between 2022-06-14T22:39:02.030738+00:00 and 2022-06-14T22:39:02.030738+00:00 for subject red in trial 1085c445-ec22-4fdf-9b9a-b992194de7d8. Text:  all right\n",
      "[WARN] No vocalic features detected for utterance between 2022-06-14T22:39:09.730738+00:00 and 2022-06-14T22:39:09.730738+00:00 for subject red in trial 1085c445-ec22-4fdf-9b9a-b992194de7d8. Text:  yep\n",
      "[WARN] No vocalic features detected for utterance between 2022-06-14T22:40:58.864327+00:00 and 2022-06-14T22:40:58.864327+00:00 for subject red in trial 1085c445-ec22-4fdf-9b9a-b992194de7d8. Text:  slow\n",
      "[WARN] No vocalic features detected for utterance between 2022-06-14T22:41:45.364327+00:00 and 2022-06-14T22:41:45.364327+00:00 for subject red in trial 1085c445-ec22-4fdf-9b9a-b992194de7d8. Text:  okay\n",
      "[WARN] No vocalic features detected for utterance between 2022-06-14T22:43:04.264327+00:00 and 2022-06-14T22:43:04.264327+00:00 for subject red in trial 1085c445-ec22-4fdf-9b9a-b992194de7d8. Text:  one\n",
      "[WARN] No vocalic features detected for utterance between 2022-06-14T22:43:07.464327+00:00 and 2022-06-14T22:43:07.464327+00:00 for subject red in trial 1085c445-ec22-4fdf-9b9a-b992194de7d8. Text:  yes\n",
      "[WARN] No vocalic features detected for utterance between 2022-06-14T22:44:18.764327+00:00 and 2022-06-14T22:44:18.764327+00:00 for subject red in trial 1085c445-ec22-4fdf-9b9a-b992194de7d8. Text:  help\n",
      "[WARN] No vocalic features detected for utterance between 2022-06-14T22:44:23.864327+00:00 and 2022-06-14T22:44:23.864327+00:00 for subject red in trial 1085c445-ec22-4fdf-9b9a-b992194de7d8. Text:  trapped\n",
      "[WARN] No vocalic features detected for utterance between 2022-06-14T22:45:21.676767+00:00 and 2022-06-14T22:45:21.676767+00:00 for subject red in trial 1085c445-ec22-4fdf-9b9a-b992194de7d8. Text:  okay\n",
      "[WARN] No vocalic features detected for utterance between 2022-06-14T22:47:26.476767+00:00 and 2022-06-14T22:47:26.476767+00:00 for subject red in trial 1085c445-ec22-4fdf-9b9a-b992194de7d8. Text:  G2\n",
      "[WARN] No vocalic features detected for utterance between 2022-06-14T22:50:57.875355+00:00 and 2022-06-14T22:50:57.875355+00:00 for subject red in trial 1085c445-ec22-4fdf-9b9a-b992194de7d8. Text:  yeah\n",
      "[WARN] No vocalic features detected for utterance between 2022-06-14T22:52:13.275355+00:00 and 2022-06-14T22:52:13.275355+00:00 for subject red in trial 1085c445-ec22-4fdf-9b9a-b992194de7d8. Text:  Pikachu\n",
      "[WARN] No vocalic features detected for utterance between 2022-06-14T22:52:18.275355+00:00 and 2022-06-14T22:52:18.275355+00:00 for subject red in trial 1085c445-ec22-4fdf-9b9a-b992194de7d8. Text:  okay\n",
      "[WARN] No vocalic features detected for utterance between 2022-06-14T22:52:31.475355+00:00 and 2022-06-14T22:52:31.475355+00:00 for subject red in trial 1085c445-ec22-4fdf-9b9a-b992194de7d8. Text:  K2\n",
      "[WARN] No vocalic features detected for utterance between 2022-06-14T22:52:59.328492+00:00 and 2022-06-14T22:52:59.328492+00:00 for subject red in trial 1085c445-ec22-4fdf-9b9a-b992194de7d8. Text:  help\n",
      "[WARN] No vocalic features detected for utterance between 2022-06-14T22:53:44.228492+00:00 and 2022-06-14T22:53:44.228492+00:00 for subject red in trial 1085c445-ec22-4fdf-9b9a-b992194de7d8. Text:  yep\n",
      "[WARN] No vocalic features detected for utterance between 2022-06-14T22:53:54.628492+00:00 and 2022-06-14T22:53:54.628492+00:00 for subject red in trial 1085c445-ec22-4fdf-9b9a-b992194de7d8. Text:  yeah\n",
      "[WARN] No vocalic features detected for utterance between 2022-06-14T22:40:59.575276+00:00 and 2022-06-14T22:40:59.575276+00:00 for subject red in trial 1085c445-ec22-4fdf-9b9a-b992194de7d8. Text: black\n",
      "[WARN] No vocalic features detected for utterance between 2022-06-14T22:44:55.436382+00:00 and 2022-06-14T22:44:55.436382+00:00 for subject red in trial 1085c445-ec22-4fdf-9b9a-b992194de7d8. Text:  yeah\n",
      "[WARN] No vocalic features detected for utterance between 2022-06-14T22:45:48.536382+00:00 and 2022-06-14T22:45:48.536382+00:00 for subject red in trial 1085c445-ec22-4fdf-9b9a-b992194de7d8. Text:  go\n",
      "[WARN] No vocalic features detected for utterance between 2022-06-14T22:47:34.536382+00:00 and 2022-06-14T22:47:34.536382+00:00 for subject red in trial 1085c445-ec22-4fdf-9b9a-b992194de7d8. Text:  not\n",
      "[WARN] No vocalic features detected for utterance between 2022-06-14T22:54:08.243263+00:00 and 2022-06-14T22:54:08.243263+00:00 for subject red in trial 1085c445-ec22-4fdf-9b9a-b992194de7d8. Text:  okay\n",
      "[WARN] utterance starts 2022-06-14T22:49:59.101494+00:00 and ends 2022-06-14T22:49:59.101494+00:00 is short and does not have any vocalics. Text:  okay\n",
      "[WARN] utterance starts 2022-06-14T22:50:23.601494+00:00 and ends 2022-06-14T22:50:23.601494+00:00 is short and does not have any vocalics. Text:  yeah\n",
      "[WARN] utterance starts 2022-06-14T22:50:58.101494+00:00 and ends 2022-06-14T22:50:58.101494+00:00 is short and does not have any vocalics. Text:  okay\n",
      "[WARN] utterance starts 2022-06-14T22:51:42.701494+00:00 and ends 2022-06-14T22:51:42.701494+00:00 is short and does not have any vocalics. Text:  okay\n",
      "[WARN] utterance starts 2022-06-14T22:52:57.857134+00:00 and ends 2022-06-14T22:52:57.857134+00:00 is short and does not have any vocalics. Text:  engineer\n",
      "[WARN] utterance starts 2022-06-14T22:53:42.357134+00:00 and ends 2022-06-14T22:53:42.357134+00:00 is short and does not have any vocalics. Text:  okay\n",
      "[WARN] utterance starts 2022-06-14T22:39:02.030738+00:00 and ends 2022-06-14T22:39:02.030738+00:00 is short and does not have any vocalics. Text:  all right\n",
      "[WARN] utterance starts 2022-06-14T22:39:09.730738+00:00 and ends 2022-06-14T22:39:09.730738+00:00 is short and does not have any vocalics. Text:  yep\n",
      "[WARN] utterance starts 2022-06-14T22:40:58.864327+00:00 and ends 2022-06-14T22:40:58.864327+00:00 is short and does not have any vocalics. Text:  slow\n",
      "[WARN] utterance starts 2022-06-14T22:41:45.364327+00:00 and ends 2022-06-14T22:41:45.364327+00:00 is short and does not have any vocalics. Text:  okay\n",
      "[WARN] utterance starts 2022-06-14T22:43:04.264327+00:00 and ends 2022-06-14T22:43:04.264327+00:00 is short and does not have any vocalics. Text:  one\n",
      "[WARN] utterance starts 2022-06-14T22:43:07.464327+00:00 and ends 2022-06-14T22:43:07.464327+00:00 is short and does not have any vocalics. Text:  yes\n",
      "[WARN] utterance starts 2022-06-14T22:44:18.764327+00:00 and ends 2022-06-14T22:44:18.764327+00:00 is short and does not have any vocalics. Text:  help\n",
      "[WARN] utterance starts 2022-06-14T22:44:23.864327+00:00 and ends 2022-06-14T22:44:23.864327+00:00 is short and does not have any vocalics. Text:  trapped\n",
      "[WARN] utterance starts 2022-06-14T22:45:21.676767+00:00 and ends 2022-06-14T22:45:21.676767+00:00 is short and does not have any vocalics. Text:  okay\n",
      "[WARN] utterance starts 2022-06-14T22:47:26.476767+00:00 and ends 2022-06-14T22:47:26.476767+00:00 is short and does not have any vocalics. Text:  G2\n",
      "[WARN] utterance starts 2022-06-14T22:50:57.875355+00:00 and ends 2022-06-14T22:50:57.875355+00:00 is short and does not have any vocalics. Text:  yeah\n",
      "[WARN] utterance starts 2022-06-14T22:52:13.275355+00:00 and ends 2022-06-14T22:52:13.275355+00:00 is short and does not have any vocalics. Text:  Pikachu\n",
      "[WARN] utterance starts 2022-06-14T22:52:18.275355+00:00 and ends 2022-06-14T22:52:18.275355+00:00 is short and does not have any vocalics. Text:  okay\n",
      "[WARN] utterance starts 2022-06-14T22:52:31.475355+00:00 and ends 2022-06-14T22:52:31.475355+00:00 is short and does not have any vocalics. Text:  K2\n",
      "[WARN] utterance starts 2022-06-14T22:52:59.328492+00:00 and ends 2022-06-14T22:52:59.328492+00:00 is short and does not have any vocalics. Text:  help\n",
      "[WARN] utterance starts 2022-06-14T22:53:44.228492+00:00 and ends 2022-06-14T22:53:44.228492+00:00 is short and does not have any vocalics. Text:  yep\n",
      "[WARN] utterance starts 2022-06-14T22:53:54.628492+00:00 and ends 2022-06-14T22:53:54.628492+00:00 is short and does not have any vocalics. Text:  yeah\n",
      "[WARN] utterance starts 2022-06-14T22:40:59.575276+00:00 and ends 2022-06-14T22:40:59.575276+00:00 is short and does not have any vocalics. Text: black\n",
      "[WARN] utterance starts 2022-06-14T22:44:55.436382+00:00 and ends 2022-06-14T22:44:55.436382+00:00 is short and does not have any vocalics. Text:  yeah\n",
      "[WARN] utterance starts 2022-06-14T22:45:48.536382+00:00 and ends 2022-06-14T22:45:48.536382+00:00 is short and does not have any vocalics. Text:  go\n",
      "[WARN] utterance starts 2022-06-14T22:47:34.536382+00:00 and ends 2022-06-14T22:47:34.536382+00:00 is short and does not have any vocalics. Text:  not\n",
      "[WARN] utterance starts 2022-06-14T22:54:08.243263+00:00 and ends 2022-06-14T22:54:08.243263+00:00 is short and does not have any vocalics. Text:  okay\n"
     ]
    }
   ],
   "source": [
    "write_vocalics_series(metadata_directory, vocalics_database, output_directory)"
   ]
  },
  {
   "cell_type": "markdown",
   "metadata": {},
   "source": [
    "# Read vocalics series files"
   ]
  },
  {
   "cell_type": "code",
   "execution_count": 7,
   "metadata": {},
   "outputs": [],
   "source": [
    "from src.components.speech.read_vocalics_series import read_vocalics_series"
   ]
  },
  {
   "cell_type": "code",
   "execution_count": 8,
   "metadata": {},
   "outputs": [],
   "source": [
    "vocalics_series_data = read_vocalics_series(output_directory)"
   ]
  },
  {
   "cell_type": "code",
   "execution_count": 10,
   "metadata": {},
   "outputs": [
    {
     "data": {
      "text/plain": [
       "dict_keys(['T000745', 'T000746'])"
      ]
     },
     "execution_count": 10,
     "metadata": {},
     "output_type": "execute_result"
    }
   ],
   "source": [
    "vocalics_series_data.keys()"
   ]
  },
  {
   "cell_type": "code",
   "execution_count": null,
   "metadata": {},
   "outputs": [],
   "source": []
  }
 ],
 "metadata": {
  "kernelspec": {
   "display_name": "Python 3.7.5 ('coordination')",
   "language": "python",
   "name": "python3"
  },
  "language_info": {
   "codemirror_mode": {
    "name": "ipython",
    "version": 3
   },
   "file_extension": ".py",
   "mimetype": "text/x-python",
   "name": "python",
   "nbconvert_exporter": "python",
   "pygments_lexer": "ipython3",
   "version": "3.7.5"
  },
  "orig_nbformat": 4,
  "vscode": {
   "interpreter": {
    "hash": "a5630dbfe6748d7b8cae07c9ccd3d599dd9abcb664008d96dadf4c34b4c15542"
   }
  }
 },
 "nbformat": 4,
 "nbformat_minor": 2
}
