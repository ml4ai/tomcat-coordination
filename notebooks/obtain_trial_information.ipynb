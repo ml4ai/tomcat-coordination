{
 "cells": [
  {
   "cell_type": "code",
   "execution_count": 1,
   "metadata": {
    "pycharm": {
     "name": "#%%\n"
    }
   },
   "outputs": [],
   "source": [
    "%load_ext autoreload\n",
    "%autoreload 2\n",
    "%config InlineBackend.figure_format = 'retina'\n",
    "import sys\n",
    "sys.path.append('../.venv/lib/python3.7/site-packages/')\n",
    "sys.path.append('..')"
   ]
  },
  {
   "cell_type": "code",
   "execution_count": 2,
   "outputs": [],
   "source": [
    "from src.trial import Trial\n",
    "from src.components.speech.vocalics_reader import VocalicsReader"
   ],
   "metadata": {
    "collapsed": false,
    "pycharm": {
     "name": "#%%\n"
    }
   }
  },
  {
   "cell_type": "markdown",
   "source": [
    "# Parse metadata and vocalics database"
   ],
   "metadata": {
    "collapsed": false,
    "pycharm": {
     "name": "#%% md\n"
    }
   }
  },
  {
   "cell_type": "code",
   "execution_count": 3,
   "outputs": [],
   "source": [
    "reader = VocalicsReader(\"localhost\", 5432, \"asist_vocalics\")"
   ],
   "metadata": {
    "collapsed": false,
    "pycharm": {
     "name": "#%%\n"
    }
   }
  },
  {
   "cell_type": "code",
   "execution_count": 4,
   "outputs": [],
   "source": [
    "data_directory = \"/home/soggy/Documents/data/tomcat/metadata/\"\n",
    "metadata_path = data_directory + \"HSRData_TrialMessages_Trial-T000745_Team-TM000273_Member-na_CondBtwn-ASI-UAZ-TA1_CondWin-na_Vers-1.metadata\""
   ],
   "metadata": {
    "collapsed": false,
    "pycharm": {
     "name": "#%%\n"
    }
   }
  },
  {
   "cell_type": "code",
   "execution_count": 5,
   "outputs": [
    {
     "name": "stderr",
     "output_type": "stream",
     "text": [
      "100%|██████████| 242/242 [00:00<00:00, 4335.38it/s]\n",
      "Parsing vocalics: 100%|██████████| 392857/392857 [00:25<00:00, 15451.23it/s]\n",
      "Extract green's utterances:   0%|          | 0/115 [00:00<?, ?it/s]\n",
      "Extract green's utterances: 100%|██████████| 115/115 [00:00<00:00, 3007.27it/s]\n",
      "Extract blue's utterances: 100%|██████████| 63/63 [00:00<00:00, 3019.62it/s]\n",
      "Extract red's utterances: 100%|██████████| 61/61 [00:00<00:00, 2547.22it/s]\n"
     ]
    }
   ],
   "source": [
    "trial = Trial.from_metadata(metadata_file_path=metadata_path,\n",
    "                            vocalics_reader=reader,\n",
    "                            feature_map={\"pitch\": \"f0final_sma\", \"intensity\": \"wave_rmsenergy_sma\"},\n",
    "                            silent_warnings=True)"
   ],
   "metadata": {
    "collapsed": false,
    "pycharm": {
     "name": "#%%\n"
    }
   }
  },
  {
   "cell_type": "code",
   "execution_count": 6,
   "outputs": [
    {
     "data": {
      "text/plain": "'T000745'"
     },
     "execution_count": 6,
     "metadata": {},
     "output_type": "execute_result"
    }
   ],
   "source": [
    "trial.metadata.number"
   ],
   "metadata": {
    "collapsed": false,
    "pycharm": {
     "name": "#%%\n"
    }
   }
  },
  {
   "cell_type": "code",
   "execution_count": 7,
   "outputs": [
    {
     "data": {
      "text/plain": "(2, 469)"
     },
     "execution_count": 7,
     "metadata": {},
     "output_type": "execute_result"
    }
   ],
   "source": [
    "vocalics_matrix = trial.utterances_per_subject[\"green\"][0].vocalics_matrix\n",
    "vocalics_matrix.shape"
   ],
   "metadata": {
    "collapsed": false,
    "pycharm": {
     "name": "#%%\n"
    }
   }
  },
  {
   "cell_type": "markdown",
   "source": [
    "# Save and load trial"
   ],
   "metadata": {
    "collapsed": false,
    "pycharm": {
     "name": "#%% md\n"
    }
   }
  },
  {
   "cell_type": "code",
   "execution_count": 8,
   "outputs": [],
   "source": [
    "trial.save(\"../data/study-3_2022\")"
   ],
   "metadata": {
    "collapsed": false,
    "pycharm": {
     "name": "#%%\n"
    }
   }
  },
  {
   "cell_type": "code",
   "execution_count": 9,
   "outputs": [],
   "source": [
    "trial_loaded = Trial.load(\"../data/study-3_2022/T000745\")"
   ],
   "metadata": {
    "collapsed": false,
    "pycharm": {
     "name": "#%%\n"
    }
   }
  },
  {
   "cell_type": "code",
   "execution_count": 10,
   "outputs": [
    {
     "data": {
      "text/plain": "'T000745'"
     },
     "execution_count": 10,
     "metadata": {},
     "output_type": "execute_result"
    }
   ],
   "source": [
    "trial_loaded.metadata.number"
   ],
   "metadata": {
    "collapsed": false,
    "pycharm": {
     "name": "#%%\n"
    }
   }
  },
  {
   "cell_type": "code",
   "execution_count": 11,
   "outputs": [
    {
     "data": {
      "text/plain": "(2, 469)"
     },
     "execution_count": 11,
     "metadata": {},
     "output_type": "execute_result"
    }
   ],
   "source": [
    "vocalics_matrix_loaded = trial_loaded.utterances_per_subject[\"green\"][0].vocalics_matrix\n",
    "vocalics_matrix_loaded.shape"
   ],
   "metadata": {
    "collapsed": false,
    "pycharm": {
     "name": "#%%\n"
    }
   }
  }
 ],
 "metadata": {
  "kernelspec": {
   "display_name": "Python 3.7.5 ('coordination')",
   "language": "python",
   "name": "python3"
  },
  "language_info": {
   "codemirror_mode": {
    "name": "ipython",
    "version": 3
   },
   "file_extension": ".py",
   "mimetype": "text/x-python",
   "name": "python",
   "nbconvert_exporter": "python",
   "pygments_lexer": "ipython3",
   "version": "3.7.5"
  },
  "orig_nbformat": 4,
  "vscode": {
   "interpreter": {
    "hash": "a5630dbfe6748d7b8cae07c9ccd3d599dd9abcb664008d96dadf4c34b4c15542"
   }
  }
 },
 "nbformat": 4,
 "nbformat_minor": 2
}