{
 "cells": [
  {
   "cell_type": "code",
   "execution_count": 1,
   "metadata": {},
   "outputs": [],
   "source": [
    "%load_ext autoreload\n",
    "%autoreload 2\n",
    "%config InlineBackend.figure_format = 'retina'\n",
    "%matplotlib inline\n",
    "import sys\n",
    "sys.path.append('../.venv/lib/python3.7/site-packages/')\n",
    "sys.path.append('..')"
   ]
  },
  {
   "cell_type": "code",
   "execution_count": 11,
   "metadata": {},
   "outputs": [],
   "source": [
    "import matplotlib.pyplot as plt\n",
    "\n",
    "from src.components.speech.vocalics_aggregator import VocalicsAggregator\n",
    "from src.components.speech.trial import Trial"
   ]
  },
  {
   "cell_type": "code",
   "execution_count": 3,
   "metadata": {},
   "outputs": [
    {
     "name": "stderr",
     "output_type": "stream",
     "text": [
      "100%|██████████| 242/242 [00:00<00:00, 8322.85it/s]\n"
     ]
    },
    {
     "name": "stdout",
     "output_type": "stream",
     "text": [
      "[WARN] No vocalic features detected for utterance between 2022-06-14T22:49:59.101494+00:00 and 2022-06-14T22:49:59.101494+00:00 for subject red in trial 1085c445-ec22-4fdf-9b9a-b992194de7d8. Text:  okay\n",
      "[WARN] No vocalic features detected for utterance between 2022-06-14T22:50:23.601494+00:00 and 2022-06-14T22:50:23.601494+00:00 for subject red in trial 1085c445-ec22-4fdf-9b9a-b992194de7d8. Text:  yeah\n",
      "[WARN] No vocalic features detected for utterance between 2022-06-14T22:50:58.101494+00:00 and 2022-06-14T22:50:58.101494+00:00 for subject red in trial 1085c445-ec22-4fdf-9b9a-b992194de7d8. Text:  okay\n",
      "[WARN] No vocalic features detected for utterance between 2022-06-14T22:51:42.701494+00:00 and 2022-06-14T22:51:42.701494+00:00 for subject red in trial 1085c445-ec22-4fdf-9b9a-b992194de7d8. Text:  okay\n",
      "[WARN] No vocalic features detected for utterance between 2022-06-14T22:52:57.857134+00:00 and 2022-06-14T22:52:57.857134+00:00 for subject red in trial 1085c445-ec22-4fdf-9b9a-b992194de7d8. Text:  engineer\n",
      "[WARN] No vocalic features detected for utterance between 2022-06-14T22:53:42.357134+00:00 and 2022-06-14T22:53:42.357134+00:00 for subject red in trial 1085c445-ec22-4fdf-9b9a-b992194de7d8. Text:  okay\n",
      "[WARN] No vocalic features detected for utterance between 2022-06-14T22:39:02.030738+00:00 and 2022-06-14T22:39:02.030738+00:00 for subject red in trial 1085c445-ec22-4fdf-9b9a-b992194de7d8. Text:  all right\n",
      "[WARN] No vocalic features detected for utterance between 2022-06-14T22:39:09.730738+00:00 and 2022-06-14T22:39:09.730738+00:00 for subject red in trial 1085c445-ec22-4fdf-9b9a-b992194de7d8. Text:  yep\n",
      "[WARN] No vocalic features detected for utterance between 2022-06-14T22:40:58.864327+00:00 and 2022-06-14T22:40:58.864327+00:00 for subject red in trial 1085c445-ec22-4fdf-9b9a-b992194de7d8. Text:  slow\n",
      "[WARN] No vocalic features detected for utterance between 2022-06-14T22:41:45.364327+00:00 and 2022-06-14T22:41:45.364327+00:00 for subject red in trial 1085c445-ec22-4fdf-9b9a-b992194de7d8. Text:  okay\n",
      "[WARN] No vocalic features detected for utterance between 2022-06-14T22:43:04.264327+00:00 and 2022-06-14T22:43:04.264327+00:00 for subject red in trial 1085c445-ec22-4fdf-9b9a-b992194de7d8. Text:  one\n",
      "[WARN] No vocalic features detected for utterance between 2022-06-14T22:43:07.464327+00:00 and 2022-06-14T22:43:07.464327+00:00 for subject red in trial 1085c445-ec22-4fdf-9b9a-b992194de7d8. Text:  yes\n",
      "[WARN] No vocalic features detected for utterance between 2022-06-14T22:44:18.764327+00:00 and 2022-06-14T22:44:18.764327+00:00 for subject red in trial 1085c445-ec22-4fdf-9b9a-b992194de7d8. Text:  help\n",
      "[WARN] No vocalic features detected for utterance between 2022-06-14T22:44:23.864327+00:00 and 2022-06-14T22:44:23.864327+00:00 for subject red in trial 1085c445-ec22-4fdf-9b9a-b992194de7d8. Text:  trapped\n",
      "[WARN] No vocalic features detected for utterance between 2022-06-14T22:45:21.676767+00:00 and 2022-06-14T22:45:21.676767+00:00 for subject red in trial 1085c445-ec22-4fdf-9b9a-b992194de7d8. Text:  okay\n",
      "[WARN] No vocalic features detected for utterance between 2022-06-14T22:47:26.476767+00:00 and 2022-06-14T22:47:26.476767+00:00 for subject red in trial 1085c445-ec22-4fdf-9b9a-b992194de7d8. Text:  G2\n",
      "[WARN] No vocalic features detected for utterance between 2022-06-14T22:50:57.875355+00:00 and 2022-06-14T22:50:57.875355+00:00 for subject red in trial 1085c445-ec22-4fdf-9b9a-b992194de7d8. Text:  yeah\n",
      "[WARN] No vocalic features detected for utterance between 2022-06-14T22:52:13.275355+00:00 and 2022-06-14T22:52:13.275355+00:00 for subject red in trial 1085c445-ec22-4fdf-9b9a-b992194de7d8. Text:  Pikachu\n",
      "[WARN] No vocalic features detected for utterance between 2022-06-14T22:52:18.275355+00:00 and 2022-06-14T22:52:18.275355+00:00 for subject red in trial 1085c445-ec22-4fdf-9b9a-b992194de7d8. Text:  okay\n",
      "[WARN] No vocalic features detected for utterance between 2022-06-14T22:52:31.475355+00:00 and 2022-06-14T22:52:31.475355+00:00 for subject red in trial 1085c445-ec22-4fdf-9b9a-b992194de7d8. Text:  K2\n",
      "[WARN] No vocalic features detected for utterance between 2022-06-14T22:52:59.328492+00:00 and 2022-06-14T22:52:59.328492+00:00 for subject red in trial 1085c445-ec22-4fdf-9b9a-b992194de7d8. Text:  help\n",
      "[WARN] No vocalic features detected for utterance between 2022-06-14T22:53:44.228492+00:00 and 2022-06-14T22:53:44.228492+00:00 for subject red in trial 1085c445-ec22-4fdf-9b9a-b992194de7d8. Text:  yep\n",
      "[WARN] No vocalic features detected for utterance between 2022-06-14T22:53:54.628492+00:00 and 2022-06-14T22:53:54.628492+00:00 for subject red in trial 1085c445-ec22-4fdf-9b9a-b992194de7d8. Text:  yeah\n",
      "[WARN] No vocalic features detected for utterance between 2022-06-14T22:40:59.575276+00:00 and 2022-06-14T22:40:59.575276+00:00 for subject red in trial 1085c445-ec22-4fdf-9b9a-b992194de7d8. Text: black\n",
      "[WARN] No vocalic features detected for utterance between 2022-06-14T22:44:55.436382+00:00 and 2022-06-14T22:44:55.436382+00:00 for subject red in trial 1085c445-ec22-4fdf-9b9a-b992194de7d8. Text:  yeah\n",
      "[WARN] No vocalic features detected for utterance between 2022-06-14T22:45:48.536382+00:00 and 2022-06-14T22:45:48.536382+00:00 for subject red in trial 1085c445-ec22-4fdf-9b9a-b992194de7d8. Text:  go\n",
      "[WARN] No vocalic features detected for utterance between 2022-06-14T22:47:34.536382+00:00 and 2022-06-14T22:47:34.536382+00:00 for subject red in trial 1085c445-ec22-4fdf-9b9a-b992194de7d8. Text:  not\n",
      "[WARN] No vocalic features detected for utterance between 2022-06-14T22:54:08.243263+00:00 and 2022-06-14T22:54:08.243263+00:00 for subject red in trial 1085c445-ec22-4fdf-9b9a-b992194de7d8. Text:  okay\n"
     ]
    }
   ],
   "source": [
    "data_directory = \"/home/soggy/Documents/data/tomcat/tomcat-coordination/replay/\"\n",
    "metadata_path = data_directory + \"T000745.metadata\"\n",
    "\n",
    "trial = Trial(metadata_path)"
   ]
  },
  {
   "cell_type": "code",
   "execution_count": 4,
   "metadata": {},
   "outputs": [],
   "source": [
    "aggregator = VocalicsAggregator(trial.utterances_per_subject)"
   ]
  },
  {
   "cell_type": "code",
   "execution_count": 5,
   "metadata": {},
   "outputs": [],
   "source": [
    "vocalic_components = aggregator.split(VocalicsAggregator.SplitMethod.TRUNCATE_CURRENT)"
   ]
  }
 ],
 "metadata": {
  "kernelspec": {
   "display_name": "Python 3.7.5 ('coordination')",
   "language": "python",
   "name": "python3"
  },
  "language_info": {
   "codemirror_mode": {
    "name": "ipython",
    "version": 3
   },
   "file_extension": ".py",
   "mimetype": "text/x-python",
   "name": "python",
   "nbconvert_exporter": "python",
   "pygments_lexer": "ipython3",
   "version": "3.7.5"
  },
  "orig_nbformat": 4,
  "vscode": {
   "interpreter": {
    "hash": "a5630dbfe6748d7b8cae07c9ccd3d599dd9abcb664008d96dadf4c34b4c15542"
   }
  }
 },
 "nbformat": 4,
 "nbformat_minor": 2
}
