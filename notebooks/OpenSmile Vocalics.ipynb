{
 "cells": [
  {
   "cell_type": "code",
   "execution_count": 1,
   "id": "9190b36a",
   "metadata": {},
   "outputs": [],
   "source": [
    "%load_ext autoreload\n",
    "%autoreload 2\n",
    "%config InlineBackend.figure_format = 'retina'\n",
    "import sys\n",
    "sys.path.append('../.venv/lib/python3.9/site-packages/')\n",
    "sys.path.append('..')"
   ]
  },
  {
   "cell_type": "code",
   "execution_count": 7,
   "id": "9e856d34",
   "metadata": {},
   "outputs": [],
   "source": [
    "import pandas as pd\n",
    "import matplotlib.pyplot as plt"
   ]
  },
  {
   "cell_type": "code",
   "execution_count": 22,
   "id": "0a40974e",
   "metadata": {},
   "outputs": [],
   "source": [
    "voc_df = pd.read_csv(\"/Users/paulosoares/software/opensmile/T000719_Blue.csv\", delimiter=\";\")"
   ]
  },
  {
   "cell_type": "code",
   "execution_count": 28,
   "id": "41af9b93",
   "metadata": {},
   "outputs": [
    {
     "data": {
      "text/plain": [
       "1525.29"
      ]
     },
     "execution_count": 28,
     "metadata": {},
     "output_type": "execute_result"
    }
   ],
   "source": [
    "len(voc_df) / 100"
   ]
  },
  {
   "cell_type": "code",
   "execution_count": 23,
   "id": "771ab30d",
   "metadata": {},
   "outputs": [
    {
     "data": {
      "text/html": [
       "<div>\n",
       "<style scoped>\n",
       "    .dataframe tbody tr th:only-of-type {\n",
       "        vertical-align: middle;\n",
       "    }\n",
       "\n",
       "    .dataframe tbody tr th {\n",
       "        vertical-align: top;\n",
       "    }\n",
       "\n",
       "    .dataframe thead th {\n",
       "        text-align: right;\n",
       "    }\n",
       "</style>\n",
       "<table border=\"1\" class=\"dataframe\">\n",
       "  <thead>\n",
       "    <tr style=\"text-align: right;\">\n",
       "      <th></th>\n",
       "      <th>name</th>\n",
       "      <th>frameTime</th>\n",
       "      <th>F0final_sma</th>\n",
       "      <th>voicingFinalUnclipped_sma</th>\n",
       "      <th>jitterLocal_sma</th>\n",
       "      <th>jitterDDP_sma</th>\n",
       "      <th>shimmerLocal_sma</th>\n",
       "      <th>logHNR_sma</th>\n",
       "      <th>audspec_lengthL1norm_sma</th>\n",
       "      <th>audspecRasta_lengthL1norm_sma</th>\n",
       "      <th>...</th>\n",
       "      <th>mfcc_sma_de[5].1</th>\n",
       "      <th>mfcc_sma_de[6].1</th>\n",
       "      <th>mfcc_sma_de[7].1</th>\n",
       "      <th>mfcc_sma_de[8].1</th>\n",
       "      <th>mfcc_sma_de[9].1</th>\n",
       "      <th>mfcc_sma_de[10].1</th>\n",
       "      <th>mfcc_sma_de[11].1</th>\n",
       "      <th>mfcc_sma_de[12].1</th>\n",
       "      <th>mfcc_sma_de[13].1</th>\n",
       "      <th>mfcc_sma_de[14].1</th>\n",
       "    </tr>\n",
       "  </thead>\n",
       "  <tbody>\n",
       "    <tr>\n",
       "      <th>0</th>\n",
       "      <td>'unknown'</td>\n",
       "      <td>0.00</td>\n",
       "      <td>0.0</td>\n",
       "      <td>0.0</td>\n",
       "      <td>0.0</td>\n",
       "      <td>0.0</td>\n",
       "      <td>0.0</td>\n",
       "      <td>-100.0</td>\n",
       "      <td>0.001034</td>\n",
       "      <td>0.988341</td>\n",
       "      <td>...</td>\n",
       "      <td>0.0</td>\n",
       "      <td>0.0</td>\n",
       "      <td>0.0</td>\n",
       "      <td>0.0</td>\n",
       "      <td>0.0</td>\n",
       "      <td>0.0</td>\n",
       "      <td>0.0</td>\n",
       "      <td>0.0</td>\n",
       "      <td>0.0</td>\n",
       "      <td>0.0</td>\n",
       "    </tr>\n",
       "    <tr>\n",
       "      <th>1</th>\n",
       "      <td>'unknown'</td>\n",
       "      <td>0.01</td>\n",
       "      <td>0.0</td>\n",
       "      <td>0.0</td>\n",
       "      <td>0.0</td>\n",
       "      <td>0.0</td>\n",
       "      <td>0.0</td>\n",
       "      <td>-100.0</td>\n",
       "      <td>0.001034</td>\n",
       "      <td>0.988341</td>\n",
       "      <td>...</td>\n",
       "      <td>0.0</td>\n",
       "      <td>0.0</td>\n",
       "      <td>0.0</td>\n",
       "      <td>0.0</td>\n",
       "      <td>0.0</td>\n",
       "      <td>0.0</td>\n",
       "      <td>0.0</td>\n",
       "      <td>0.0</td>\n",
       "      <td>0.0</td>\n",
       "      <td>0.0</td>\n",
       "    </tr>\n",
       "    <tr>\n",
       "      <th>2</th>\n",
       "      <td>'unknown'</td>\n",
       "      <td>0.02</td>\n",
       "      <td>0.0</td>\n",
       "      <td>0.0</td>\n",
       "      <td>0.0</td>\n",
       "      <td>0.0</td>\n",
       "      <td>0.0</td>\n",
       "      <td>-100.0</td>\n",
       "      <td>0.001034</td>\n",
       "      <td>0.988341</td>\n",
       "      <td>...</td>\n",
       "      <td>0.0</td>\n",
       "      <td>0.0</td>\n",
       "      <td>0.0</td>\n",
       "      <td>0.0</td>\n",
       "      <td>0.0</td>\n",
       "      <td>0.0</td>\n",
       "      <td>0.0</td>\n",
       "      <td>0.0</td>\n",
       "      <td>0.0</td>\n",
       "      <td>0.0</td>\n",
       "    </tr>\n",
       "    <tr>\n",
       "      <th>3</th>\n",
       "      <td>'unknown'</td>\n",
       "      <td>0.03</td>\n",
       "      <td>0.0</td>\n",
       "      <td>0.0</td>\n",
       "      <td>0.0</td>\n",
       "      <td>0.0</td>\n",
       "      <td>0.0</td>\n",
       "      <td>-100.0</td>\n",
       "      <td>0.001034</td>\n",
       "      <td>0.988341</td>\n",
       "      <td>...</td>\n",
       "      <td>0.0</td>\n",
       "      <td>0.0</td>\n",
       "      <td>0.0</td>\n",
       "      <td>0.0</td>\n",
       "      <td>0.0</td>\n",
       "      <td>0.0</td>\n",
       "      <td>0.0</td>\n",
       "      <td>0.0</td>\n",
       "      <td>0.0</td>\n",
       "      <td>0.0</td>\n",
       "    </tr>\n",
       "    <tr>\n",
       "      <th>4</th>\n",
       "      <td>'unknown'</td>\n",
       "      <td>0.04</td>\n",
       "      <td>0.0</td>\n",
       "      <td>0.0</td>\n",
       "      <td>0.0</td>\n",
       "      <td>0.0</td>\n",
       "      <td>0.0</td>\n",
       "      <td>-100.0</td>\n",
       "      <td>0.001034</td>\n",
       "      <td>0.988341</td>\n",
       "      <td>...</td>\n",
       "      <td>0.0</td>\n",
       "      <td>0.0</td>\n",
       "      <td>0.0</td>\n",
       "      <td>0.0</td>\n",
       "      <td>0.0</td>\n",
       "      <td>0.0</td>\n",
       "      <td>0.0</td>\n",
       "      <td>0.0</td>\n",
       "      <td>0.0</td>\n",
       "      <td>0.0</td>\n",
       "    </tr>\n",
       "  </tbody>\n",
       "</table>\n",
       "<p>5 rows × 197 columns</p>\n",
       "</div>"
      ],
      "text/plain": [
       "        name  frameTime  F0final_sma  voicingFinalUnclipped_sma  \\\n",
       "0  'unknown'       0.00          0.0                        0.0   \n",
       "1  'unknown'       0.01          0.0                        0.0   \n",
       "2  'unknown'       0.02          0.0                        0.0   \n",
       "3  'unknown'       0.03          0.0                        0.0   \n",
       "4  'unknown'       0.04          0.0                        0.0   \n",
       "\n",
       "   jitterLocal_sma  jitterDDP_sma  shimmerLocal_sma  logHNR_sma  \\\n",
       "0              0.0            0.0               0.0      -100.0   \n",
       "1              0.0            0.0               0.0      -100.0   \n",
       "2              0.0            0.0               0.0      -100.0   \n",
       "3              0.0            0.0               0.0      -100.0   \n",
       "4              0.0            0.0               0.0      -100.0   \n",
       "\n",
       "   audspec_lengthL1norm_sma  audspecRasta_lengthL1norm_sma  ...  \\\n",
       "0                  0.001034                       0.988341  ...   \n",
       "1                  0.001034                       0.988341  ...   \n",
       "2                  0.001034                       0.988341  ...   \n",
       "3                  0.001034                       0.988341  ...   \n",
       "4                  0.001034                       0.988341  ...   \n",
       "\n",
       "   mfcc_sma_de[5].1  mfcc_sma_de[6].1  mfcc_sma_de[7].1  mfcc_sma_de[8].1  \\\n",
       "0               0.0               0.0               0.0               0.0   \n",
       "1               0.0               0.0               0.0               0.0   \n",
       "2               0.0               0.0               0.0               0.0   \n",
       "3               0.0               0.0               0.0               0.0   \n",
       "4               0.0               0.0               0.0               0.0   \n",
       "\n",
       "   mfcc_sma_de[9].1  mfcc_sma_de[10].1  mfcc_sma_de[11].1  mfcc_sma_de[12].1  \\\n",
       "0               0.0                0.0                0.0                0.0   \n",
       "1               0.0                0.0                0.0                0.0   \n",
       "2               0.0                0.0                0.0                0.0   \n",
       "3               0.0                0.0                0.0                0.0   \n",
       "4               0.0                0.0                0.0                0.0   \n",
       "\n",
       "   mfcc_sma_de[13].1  mfcc_sma_de[14].1  \n",
       "0                0.0                0.0  \n",
       "1                0.0                0.0  \n",
       "2                0.0                0.0  \n",
       "3                0.0                0.0  \n",
       "4                0.0                0.0  \n",
       "\n",
       "[5 rows x 197 columns]"
      ]
     },
     "execution_count": 23,
     "metadata": {},
     "output_type": "execute_result"
    }
   ],
   "source": [
    "voc_df.head()"
   ]
  },
  {
   "cell_type": "code",
   "execution_count": 30,
   "id": "cf531d73",
   "metadata": {},
   "outputs": [],
   "source": [
    "times = voc_df[\"frameTime\"].values\n",
    "pitches = voc_df[\"F0final_sma\"].values\n",
    "intensities = voc_df[\"pcm_RMSenergy_sma\"].values"
   ]
  },
  {
   "cell_type": "code",
   "execution_count": 44,
   "id": "9e702865",
   "metadata": {},
   "outputs": [],
   "source": [
    "def timer_to_seconds(timer):\n",
    "    mid = timer.find(\":\")\n",
    "    minutes = int(timer[:mid])\n",
    "    seconds = int(timer[mid+1:])\n",
    "    \n",
    "    return minutes * 60 + seconds"
   ]
  },
  {
   "cell_type": "code",
   "execution_count": 59,
   "id": "e076afff",
   "metadata": {},
   "outputs": [
    {
     "data": {
      "text/plain": [
       "[<matplotlib.lines.Line2D at 0x12d8c4b20>]"
      ]
     },
     "execution_count": 59,
     "metadata": {},
     "output_type": "execute_result"
    },
    {
     "data": {
      "image/png": "[encoded data removed]",
      "text/plain": [
       "<Figure size 640x480 with 1 Axes>"
      ]
     },
     "metadata": {
      "image/png": {
       "height": 413,
       "width": 554
      }
     },
     "output_type": "display_data"
    }
   ],
   "source": [
    "start = timer_to_seconds(\"4:46\") * 100\n",
    "end = timer_to_seconds(\"4:47\") * 100\n",
    "\n",
    "plt.plot(times[start:end], pitches[start:end])"
   ]
  },
  {
   "cell_type": "code",
   "execution_count": 34,
   "id": "fa954838",
   "metadata": {},
   "outputs": [
    {
     "data": {
      "text/plain": [
       "180"
      ]
     },
     "execution_count": 34,
     "metadata": {},
     "output_type": "execute_result"
    }
   ],
   "source": []
  },
  {
   "cell_type": "code",
   "execution_count": null,
   "id": "a094691b",
   "metadata": {},
   "outputs": [],
   "source": []
  }
 ],
 "metadata": {
  "kernelspec": {
   "display_name": "venv",
   "language": "python",
   "name": "venv"
  },
  "language_info": {
   "codemirror_mode": {
    "name": "ipython",
    "version": 3
   },
   "file_extension": ".py",
   "mimetype": "text/x-python",
   "name": "python",
   "nbconvert_exporter": "python",
   "pygments_lexer": "ipython3",
   "version": "3.9.13"
  }
 },
 "nbformat": 4,
 "nbformat_minor": 5
}
