{
 "cells": [
  {
   "cell_type": "code",
   "execution_count": null,
   "id": "05843d3f-4b09-4d0f-b122-1e36472192f6",
   "metadata": {},
   "outputs": [],
   "source": [
    "%load_ext autoreload\n",
    "%autoreload 2\n",
    "%config InlineBackend.figure_format = 'retina'\n",
    "\n",
    "import os\n",
    "import numpy as np\n",
    "import pandas as pd\n",
    "import pickle\n",
    "from tqdm import tqdm\n",
    "from scipy.stats import ttest_rel\n",
    "import seaborn as sns\n",
    "\n",
    "from coordination.common.config import settings\n",
    "from coordination.inference.inference_data import InferenceData"
   ]
  },
  {
   "cell_type": "code",
   "execution_count": null,
   "id": "d01bedf0-1756-4811-b32b-981e8c35f68a",
   "metadata": {},
   "outputs": [],
   "source": [
    "# Read scores\n",
    "finger_tapping_data_path = \"/space/paulosoares/data/coordination/2024/datasets/finger_tapping_fnirs_f1.csv\"\n",
    "ping_pong_data_path = \"/space/paulosoares/data/coordination/2024/datasets/ping_pong_cooperative_fnirs_f1.csv\"\n",
    "\n",
    "finger_tapping_data_df = pd.read_csv(finger_tapping_data_path, index_col=\"experiment_id\")[[\"final_sync_proportion\"]].rename(columns={\"final_sync_proportion\": \"final_team_score\"})\n",
    "ping_pong_data_df = pd.read_csv(ping_pong_data_path, index_col=\"experiment_id\")[[\"final_team_score\", \"final_ai_score\"]]"
   ]
  },
  {
   "cell_type": "code",
   "execution_count": 70,
   "id": "ad92f491-48e9-4e65-b62b-5042be28013c",
   "metadata": {},
   "outputs": [],
   "source": [
    "def get_coordination_df(run_id: str) -> pd.DataFrame:\n",
    "    run_dir = f\"{settings.inferences_dir}{run_id}\"\n",
    "    group_sessions = sorted([d for d in os.listdir(run_dir) if os.path.isdir(f\"{run_dir}/{d}\")])\n",
    "    data = []\n",
    "    for group_session in tqdm(group_sessions):        \n",
    "        with open(f\"{run_dir}/{group_session}/inference_data.pkl\", \"rb\") as f:\n",
    "            idata = InferenceData(pickle.load(f))\n",
    "            \n",
    "        data.append(\n",
    "            {\n",
    "                \"experiment_id\": group_session,\n",
    "                \"coordination\": idata.average_posterior_samples(variable_name=\"coordination\", return_std=False).to_numpy()\n",
    "            }\n",
    "        )\n",
    "\n",
    "    return pd.DataFrame(data).set_index(\"experiment_id\")\n",
    "\n",
    "def signal_to_noise(x: np.ndarray) -> float:\n",
    "    return x.mean() / x.std()\n",
    "\n",
    "def p_value_star(p_value: float) -> str:\n",
    "    star = (\n",
    "        \"***\"\n",
    "        if p_value < 0.001\n",
    "        else \"**\"\n",
    "        if p_value < 0.01\n",
    "        else \"*\"\n",
    "        if p_value < 0.05\n",
    "        else \"?\"\n",
    "        if p_value < 0.1\n",
    "        else \"\"\n",
    "    )\n",
    "\n",
    "    return f\"{p_value:.3f}{star}\"\n",
    "\n",
    "def correlate_all(task_df: pd.DataFrame) -> np.ndarray:\n",
    "    expanded_df = pd.DataFrame(task_df['coordination'].tolist()).transpose()\n",
    "    expanded_df.columns = finger_tapping_df.index\n",
    "    return expanded_df.corr().values"
   ]
  },
  {
   "cell_type": "markdown",
   "id": "08d61641-0f99-4a70-be64-383164962cc5",
   "metadata": {},
   "source": [
    "# RQ1. Is coordination different between tasks where participants where interacting versus tasks they were not?"
   ]
  },
  {
   "cell_type": "code",
   "execution_count": 43,
   "id": "e23bf70a-5839-4518-8c78-7a86db105fbf",
   "metadata": {},
   "outputs": [
    {
     "name": "stderr",
     "output_type": "stream",
     "text": [
      "100%|█████████████████████████████████████████████████████████████████████████████████████████████████████████████████████| 3/3 [00:00<00:00,  8.84it/s]\n",
      "100%|█████████████████████████████████████████████████████████████████████████████████████████████████████████████████████| 3/3 [00:00<00:00, 54.37it/s]\n",
      "100%|█████████████████████████████████████████████████████████████████████████████████████████████████████████████████████| 3/3 [00:00<00:00, 26.11it/s]\n"
     ]
    },
    {
     "data": {
      "text/html": [
       "<div>\n",
       "<style scoped>\n",
       "    .dataframe tbody tr th:only-of-type {\n",
       "        vertical-align: middle;\n",
       "    }\n",
       "\n",
       "    .dataframe tbody tr th {\n",
       "        vertical-align: top;\n",
       "    }\n",
       "\n",
       "    .dataframe thead th {\n",
       "        text-align: right;\n",
       "    }\n",
       "</style>\n",
       "<table border=\"1\" class=\"dataframe\">\n",
       "  <thead>\n",
       "    <tr style=\"text-align: right;\">\n",
       "      <th></th>\n",
       "      <th>rest_state_coordination</th>\n",
       "      <th>finger_tapping_coordination</th>\n",
       "      <th>ping_pong_coordination</th>\n",
       "    </tr>\n",
       "    <tr>\n",
       "      <th>experiment_id</th>\n",
       "      <th></th>\n",
       "      <th></th>\n",
       "      <th></th>\n",
       "    </tr>\n",
       "  </thead>\n",
       "  <tbody>\n",
       "    <tr>\n",
       "      <th>exp_2022_09_30_10</th>\n",
       "      <td>[0.2067018773644119, 0.041662488766122094, 0.0...</td>\n",
       "      <td>[0.24534487456812484, 0.17467337270439506, 0.1...</td>\n",
       "      <td>[0.2210875439121715, 0.1088397366781106, 0.053...</td>\n",
       "    </tr>\n",
       "    <tr>\n",
       "      <th>exp_2022_11_15_13</th>\n",
       "      <td>[0.5391280801085453, 0.543375326799499, 0.6351...</td>\n",
       "      <td>[0.2186660401428134, 0.13914919146282212, 0.10...</td>\n",
       "      <td>[0.297172725690855, 0.11988226259279307, 0.602...</td>\n",
       "    </tr>\n",
       "    <tr>\n",
       "      <th>exp_2023_04_28_10</th>\n",
       "      <td>[0.6034365746020298, 0.6531813748114402, 0.659...</td>\n",
       "      <td>[0.4276623100327336, 0.4171791012122611, 0.335...</td>\n",
       "      <td>[0.43160168484253564, 0.4275883161586636, 0.35...</td>\n",
       "    </tr>\n",
       "  </tbody>\n",
       "</table>\n",
       "</div>"
      ],
      "text/plain": [
       "                                             rest_state_coordination  \\\n",
       "experiment_id                                                          \n",
       "exp_2022_09_30_10  [0.2067018773644119, 0.041662488766122094, 0.0...   \n",
       "exp_2022_11_15_13  [0.5391280801085453, 0.543375326799499, 0.6351...   \n",
       "exp_2023_04_28_10  [0.6034365746020298, 0.6531813748114402, 0.659...   \n",
       "\n",
       "                                         finger_tapping_coordination  \\\n",
       "experiment_id                                                          \n",
       "exp_2022_09_30_10  [0.24534487456812484, 0.17467337270439506, 0.1...   \n",
       "exp_2022_11_15_13  [0.2186660401428134, 0.13914919146282212, 0.10...   \n",
       "exp_2023_04_28_10  [0.4276623100327336, 0.4171791012122611, 0.335...   \n",
       "\n",
       "                                              ping_pong_coordination  \n",
       "experiment_id                                                         \n",
       "exp_2022_09_30_10  [0.2210875439121715, 0.1088397366781106, 0.053...  \n",
       "exp_2022_11_15_13  [0.297172725690855, 0.11988226259279307, 0.602...  \n",
       "exp_2023_04_28_10  [0.43160168484253564, 0.4275883161586636, 0.35...  "
      ]
     },
     "execution_count": 43,
     "metadata": {},
     "output_type": "execute_result"
    }
   ],
   "source": [
    "run_id_rest_state = \"2024.01.18--15.52.15\"\n",
    "run_id_finger_tapping = \"2024.01.18--10.59.47\"\n",
    "run_id_ping_pong = \"2024.01.18--15.51.11\"\n",
    "\n",
    "rest_state_df = get_coordination_df(run_id_rest_state)\n",
    "finger_tapping_df = get_coordination_df(run_id_finger_tapping)\n",
    "ping_pong_df = get_coordination_df(run_id_ping_pong)\n",
    "\n",
    "df = pd.concat([rest_state_df, finger_tapping_df, ping_pong_df], axis=1)\n",
    "df.columns = [\"rest_state_coordination\", \"finger_tapping_coordination\", \"ping_pong_coordination\"]\n",
    "df.head()"
   ]
  },
  {
   "cell_type": "code",
   "execution_count": 45,
   "id": "74d13812-31c4-4000-8c50-d7b1b2de342c",
   "metadata": {},
   "outputs": [
    {
     "data": {
      "text/html": [
       "<div>\n",
       "<style scoped>\n",
       "    .dataframe tbody tr th:only-of-type {\n",
       "        vertical-align: middle;\n",
       "    }\n",
       "\n",
       "    .dataframe tbody tr th {\n",
       "        vertical-align: top;\n",
       "    }\n",
       "\n",
       "    .dataframe thead th {\n",
       "        text-align: right;\n",
       "    }\n",
       "</style>\n",
       "<table border=\"1\" class=\"dataframe\">\n",
       "  <thead>\n",
       "    <tr style=\"text-align: right;\">\n",
       "      <th></th>\n",
       "      <th>rest_state_mean</th>\n",
       "      <th>rest_state_std</th>\n",
       "      <th>rest_state_s2n</th>\n",
       "      <th>finger_tapping_mean</th>\n",
       "      <th>finger_tapping_std</th>\n",
       "      <th>finger_tapping_s2n</th>\n",
       "      <th>ping_pong_mean</th>\n",
       "      <th>ping_pong_std</th>\n",
       "      <th>ping_pong_s2n</th>\n",
       "    </tr>\n",
       "  </thead>\n",
       "  <tbody>\n",
       "    <tr>\n",
       "      <th>0</th>\n",
       "      <td>0.150906</td>\n",
       "      <td>0.192749</td>\n",
       "      <td>0.782915</td>\n",
       "      <td>0.153650</td>\n",
       "      <td>0.055882</td>\n",
       "      <td>2.749518</td>\n",
       "      <td>0.173994</td>\n",
       "      <td>0.101654</td>\n",
       "      <td>1.711632</td>\n",
       "    </tr>\n",
       "    <tr>\n",
       "      <th>1</th>\n",
       "      <td>0.150224</td>\n",
       "      <td>0.164346</td>\n",
       "      <td>0.914074</td>\n",
       "      <td>0.202069</td>\n",
       "      <td>0.045997</td>\n",
       "      <td>4.393074</td>\n",
       "      <td>0.126387</td>\n",
       "      <td>0.140621</td>\n",
       "      <td>0.898772</td>\n",
       "    </tr>\n",
       "    <tr>\n",
       "      <th>2</th>\n",
       "      <td>0.149660</td>\n",
       "      <td>0.157664</td>\n",
       "      <td>0.949236</td>\n",
       "      <td>0.258582</td>\n",
       "      <td>0.053138</td>\n",
       "      <td>4.866224</td>\n",
       "      <td>0.230506</td>\n",
       "      <td>0.071548</td>\n",
       "      <td>3.221685</td>\n",
       "    </tr>\n",
       "  </tbody>\n",
       "</table>\n",
       "</div>"
      ],
      "text/plain": [
       "   rest_state_mean  rest_state_std  rest_state_s2n  finger_tapping_mean  \\\n",
       "0         0.150906        0.192749        0.782915             0.153650   \n",
       "1         0.150224        0.164346        0.914074             0.202069   \n",
       "2         0.149660        0.157664        0.949236             0.258582   \n",
       "\n",
       "   finger_tapping_std  finger_tapping_s2n  ping_pong_mean  ping_pong_std  \\\n",
       "0            0.055882            2.749518        0.173994       0.101654   \n",
       "1            0.045997            4.393074        0.126387       0.140621   \n",
       "2            0.053138            4.866224        0.230506       0.071548   \n",
       "\n",
       "   ping_pong_s2n  \n",
       "0       1.711632  \n",
       "1       0.898772  \n",
       "2       3.221685  "
      ]
     },
     "execution_count": 45,
     "metadata": {},
     "output_type": "execute_result"
    }
   ],
   "source": [
    "# Compute mean, std and signal to noise ratio for each coordination series and task\n",
    "data = []\n",
    "for i, row in df.iterrows():\n",
    "    data.append(\n",
    "        {\n",
    "            \"rest_state_mean\": row[\"rest_state_coordination\"].mean(),\n",
    "            \"rest_state_std\": row[\"rest_state_coordination\"].std(),\n",
    "            \"rest_state_s2n\": signal_to_noise(row[\"rest_state_coordination\"]),\n",
    "            \"finger_tapping_mean\": row[\"finger_tapping_coordination\"].mean(),\n",
    "            \"finger_tapping_std\": row[\"finger_tapping_coordination\"].std(),\n",
    "            \"finger_tapping_s2n\": signal_to_noise(row[\"finger_tapping_coordination\"]),\n",
    "            \"ping_pong_mean\": row[\"ping_pong_coordination\"].mean(),\n",
    "            \"ping_pong_std\": row[\"ping_pong_coordination\"].std(),\n",
    "            \"ping_pong_s2n\": signal_to_noise(row[\"ping_pong_coordination\"]),\n",
    "        }\n",
    "    )\n",
    "summaries_df = pd.DataFrame(data)\n",
    "summaries_df.head()"
   ]
  },
  {
   "cell_type": "code",
   "execution_count": 53,
   "id": "d6860556-2d48-4a0e-a0da-47ee16a56d40",
   "metadata": {},
   "outputs": [
    {
     "data": {
      "text/html": [
       "<div>\n",
       "<style scoped>\n",
       "    .dataframe tbody tr th:only-of-type {\n",
       "        vertical-align: middle;\n",
       "    }\n",
       "\n",
       "    .dataframe tbody tr th {\n",
       "        vertical-align: top;\n",
       "    }\n",
       "\n",
       "    .dataframe thead th {\n",
       "        text-align: right;\n",
       "    }\n",
       "</style>\n",
       "<table border=\"1\" class=\"dataframe\">\n",
       "  <thead>\n",
       "    <tr style=\"text-align: right;\">\n",
       "      <th></th>\n",
       "      <th>task</th>\n",
       "      <th>p_val_mean_diff</th>\n",
       "      <th>p_val_mean_greater</th>\n",
       "      <th>p_val_std_diff</th>\n",
       "      <th>p_val_std_less</th>\n",
       "      <th>p_val_s2n_diff</th>\n",
       "      <th>p_val_s2n_greater</th>\n",
       "    </tr>\n",
       "  </thead>\n",
       "  <tbody>\n",
       "    <tr>\n",
       "      <th>0</th>\n",
       "      <td>finger_tapping</td>\n",
       "      <td>0.218</td>\n",
       "      <td>0.109</td>\n",
       "      <td>0.006**</td>\n",
       "      <td>0.003**</td>\n",
       "      <td>0.034*</td>\n",
       "      <td>0.017*</td>\n",
       "    </tr>\n",
       "    <tr>\n",
       "      <th>1</th>\n",
       "      <td>ping_pong</td>\n",
       "      <td>0.471</td>\n",
       "      <td>0.235</td>\n",
       "      <td>0.091?</td>\n",
       "      <td>0.045*</td>\n",
       "      <td>0.251</td>\n",
       "      <td>0.125</td>\n",
       "    </tr>\n",
       "  </tbody>\n",
       "</table>\n",
       "</div>"
      ],
      "text/plain": [
       "             task p_val_mean_diff p_val_mean_greater p_val_std_diff  \\\n",
       "0  finger_tapping           0.218              0.109        0.006**   \n",
       "1       ping_pong           0.471              0.235         0.091?   \n",
       "\n",
       "  p_val_std_less p_val_s2n_diff p_val_s2n_greater  \n",
       "0        0.003**         0.034*            0.017*  \n",
       "1         0.045*          0.251             0.125  "
      ]
     },
     "execution_count": 53,
     "metadata": {},
     "output_type": "execute_result"
    }
   ],
   "source": [
    "data = []\n",
    "for task in [\"finger_tapping\", \"ping_pong\"]:\n",
    "    data.append(\n",
    "        {\n",
    "            \"task\": task,\n",
    "            \"p_val_mean_diff\": p_value_star(ttest_rel(summaries_df[\"rest_state_mean\"], summaries_df[f\"{task}_mean\"]).pvalue),\n",
    "            \"p_val_mean_greater\": p_value_star(ttest_rel(summaries_df[\"rest_state_mean\"], summaries_df[f\"{task}_mean\"], alternative=\"less\").pvalue),\n",
    "            \"p_val_std_diff\": p_value_star(ttest_rel(summaries_df[\"rest_state_std\"], summaries_df[f\"{task}_std\"]).pvalue),\n",
    "            \"p_val_std_less\": p_value_star(ttest_rel(summaries_df[\"rest_state_std\"], summaries_df[f\"{task}_std\"], alternative=\"greater\").pvalue),\n",
    "            \"p_val_s2n_diff\": p_value_star(ttest_rel(summaries_df[\"rest_state_s2n\"], summaries_df[f\"{task}_s2n\"]).pvalue),\n",
    "            \"p_val_s2n_greater\": p_value_star(ttest_rel(summaries_df[\"rest_state_s2n\"], summaries_df[f\"{task}_s2n\"], alternative=\"less\").pvalue),\n",
    "        }\n",
    "    )\n",
    "stats_df = pd.DataFrame(data)\n",
    "stats_df.head(30)"
   ]
  },
  {
   "cell_type": "markdown",
   "id": "c80686dc-4af5-47eb-af42-e9725f52d7a6",
   "metadata": {},
   "source": [
    "# RQ2. Is coordination similar in shape across teams in the same task?"
   ]
  },
  {
   "cell_type": "code",
   "execution_count": 90,
   "id": "75f86fa5-37e2-47bd-9814-b6a9e19fb850",
   "metadata": {},
   "outputs": [
    {
     "name": "stderr",
     "output_type": "stream",
     "text": [
      "100%|█████████████████████████████████████████████████████████████████████████████████████████████████████████████████████| 3/3 [00:00<00:00, 38.26it/s]\n",
      "100%|█████████████████████████████████████████████████████████████████████████████████████████████████████████████████████| 3/3 [00:00<00:00, 20.25it/s]\n"
     ]
    }
   ],
   "source": [
    "run_id_rest_state = \"2024.01.17--15.43.47\"\n",
    "run_id_finger_tapping = \"2024.01.17--15.44.26\"\n",
    "run_id_ping_pong = \"2024.01.17--15.01.59\"\n",
    "\n",
    "finger_tapping_df = get_coordination_df(run_id_finger_tapping)\n",
    "ping_pong_df = get_coordination_df(run_id_ping_pong)"
   ]
  },
  {
   "cell_type": "code",
   "execution_count": 91,
   "id": "0dc43c63-ea96-4210-8e8c-4ea6491deb80",
   "metadata": {},
   "outputs": [
    {
     "data": {
      "text/plain": [
       "<Axes: xlabel='Task', ylabel='Correlation'>"
      ]
     },
     "execution_count": 91,
     "metadata": {},
     "output_type": "execute_result"
    },
    {
     "data": {
      "image/png": "[encoded data removed]",
      "text/plain": [
       "<Figure size 640x480 with 1 Axes>"
      ]
     },
     "metadata": {
      "image/png": {
       "height": 432,
       "width": 579
      }
     },
     "output_type": "display_data"
    }
   ],
   "source": [
    "rest_state_corr = np.array(correlate_all(rest_state_df)[np.triu_indices(3, k=1)])\n",
    "finger_tapping_corr = np.array(correlate_all(finger_tapping_df)[np.triu_indices(3, k=1)])\n",
    "ping_pong_corr = np.array(correlate_all(ping_pong_df)[np.triu_indices(3, k=1)])\n",
    "corr_df = pd.DataFrame({\"Rest State\": rest_state_corr, \"Finger Tapping\": finger_tapping_corr, \"Ping-Pong\": ping_pong_corr})\n",
    "\n",
    "sns.boxplot(pd.melt(corr_df, id_vars=[], var_name='Task', value_name='Correlation'), x=\"Task\", y=\"Correlation\")"
   ]
  },
  {
   "cell_type": "markdown",
   "id": "30eb3403-1489-4dea-8e88-3d05e30d35e5",
   "metadata": {},
   "source": [
    "# RQ3. Is coordination similar in shape across teams in the same task with similar performance?"
   ]
  },
  {
   "cell_type": "code",
   "execution_count": null,
   "id": "0505af7a-4282-474b-ae3a-b220efcd71a2",
   "metadata": {},
   "outputs": [],
   "source": [
    "finger_tapping\n",
    "\n",
    "corr_and_performance_df = corr_df.copy()\n",
    "corr_and_performance_df[\"Performance\"] = "
   ]
  }
 ],
 "metadata": {
  "kernelspec": {
   "display_name": "coordination",
   "language": "python",
   "name": "coordination"
  },
  "language_info": {
   "codemirror_mode": {
    "name": "ipython",
    "version": 3
   },
   "file_extension": ".py",
   "mimetype": "text/x-python",
   "name": "python",
   "nbconvert_exporter": "python",
   "pygments_lexer": "ipython3",
   "version": "3.9.16"
  }
 },
 "nbformat": 4,
 "nbformat_minor": 5
}
